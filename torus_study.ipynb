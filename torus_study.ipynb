{
 "cells": [
  {
   "cell_type": "code",
   "execution_count": 1,
   "metadata": {},
   "outputs": [],
   "source": [
    "%matplotlib widget\n",
    "import numpy as np\n",
    "import matplotlib\n",
    "import matplotlib.pyplot as plt\n",
    "from matplotlib import animation, rc\n",
    "from IPython.display import HTML\n",
    "import seaborn as sns\n",
    "import pandas as pd\n",
    "import itertools\n",
    "from pathlib import Path\n",
    "data_dir = Path('data')"
   ]
  },
  {
   "cell_type": "code",
   "execution_count": 2,
   "metadata": {},
   "outputs": [],
   "source": [
    "sns.set_style(\"whitegrid\")\n",
    "sns.set_palette(sns.color_palette())"
   ]
  },
  {
   "cell_type": "code",
   "execution_count": 3,
   "metadata": {},
   "outputs": [],
   "source": [
    "plt.rcParams['animation.embed_limit'] = 2**128\n",
    "rc('animation', html='jshtml')"
   ]
  },
  {
   "cell_type": "code",
   "execution_count": 4,
   "metadata": {},
   "outputs": [],
   "source": [
    "from script import Evolve, Torus, utilities, Plotter\n",
    "from script.metric import *"
   ]
  },
  {
   "cell_type": "markdown",
   "metadata": {},
   "source": [
    "# n= 121 |  $p_{action}\\in \\{0, 0.1 : 0.2 : 0.9, 1\\}$ |  400 samples | Rows"
   ]
  },
  {
   "cell_type": "code",
   "execution_count": 5,
   "metadata": {},
   "outputs": [],
   "source": [
    "n= 11\n",
    "m= 11\n",
    "p_state= 0.5\n",
    "pi=[i for i in range(n*m)]\n",
    "steps=500\n",
    "metricList= [Metric.SpinGlass]\n",
    "p_actions=[0, 0.1, 0.3, 0.5, 0.7, 0.9, 1]\n",
    "rules=[[np.random.choice(a=[Rule.STABLE, Rule.UNSTABLE], p=[p, 1 - p]) for i in range(n*m)] for p in p_actions]\n",
    "samples= 400\n",
    "labels= ['$'+str(p)+'$' for p in p_actions]"
   ]
  },
  {
   "cell_type": "code",
   "execution_count": 6,
   "metadata": {},
   "outputs": [
    {
     "name": "stdout",
     "output_type": "stream",
     "text": [
      "0\n",
      "1\n",
      "2\n",
      "3\n",
      "4\n",
      "5\n",
      "6\n"
     ]
    }
   ],
   "source": [
    "data = Evolve.config_sampler(configType = ConfigType.Torus , n = n, m=m, size= n*m, steps= steps, perm= pi, \n",
    "                                        rules = rules, metricList = metricList, samples= samples, \n",
    "                                        p_actions=p_actions)"
   ]
  },
  {
   "cell_type": "code",
   "execution_count": 7,
   "metadata": {},
   "outputs": [],
   "source": [
    "title= 'Torus_'+str(n)+'_'+str(samples)+'_study'+'_canon.csv'\n",
    "data.to_csv(title, encoding='utf-8', index=False)"
   ]
  },
  {
   "cell_type": "markdown",
   "metadata": {},
   "source": [
    "### Load Data set"
   ]
  },
  {
   "cell_type": "code",
   "execution_count": 17,
   "metadata": {},
   "outputs": [],
   "source": [
    "title= 'Torus_'+str(n)+'_'+str(samples)+'_study'+'_canon.csv'\n",
    "data= pd.read_csv(data_dir / title)"
   ]
  },
  {
   "cell_type": "markdown",
   "metadata": {},
   "source": [
    "## Cycle length comparison\n"
   ]
  },
  {
   "cell_type": "code",
   "execution_count": 18,
   "metadata": {},
   "outputs": [
    {
     "data": {
      "application/vnd.jupyter.widget-view+json": {
       "model_id": "2866a81f9f63497caa082a6305093ea0",
       "version_major": 2,
       "version_minor": 0
      },
      "text/plain": [
       "Canvas(toolbar=Toolbar(toolitems=[('Home', 'Reset original view', 'home', 'home'), ('Back', 'Back to previous …"
      ]
     },
     "metadata": {},
     "output_type": "display_data"
    }
   ],
   "source": [
    "cycle_gr= Plotter.plot_cycle_hist(data, \"length\", disc= False, binwidth=10)"
   ]
  },
  {
   "cell_type": "code",
   "execution_count": 19,
   "metadata": {},
   "outputs": [
    {
     "data": {
      "text/plain": [
       "p_a\n",
       "0.0    0\n",
       "0.1    0\n",
       "0.3    0\n",
       "0.5    1\n",
       "0.7    0\n",
       "0.9    0\n",
       "1.0    0\n",
       "Name: length, dtype: int64"
      ]
     },
     "execution_count": 19,
     "metadata": {},
     "output_type": "execute_result"
    }
   ],
   "source": [
    "data.groupby('p_a')['length'].apply(lambda x: x[x >steps].count())"
   ]
  },
  {
   "cell_type": "code",
   "execution_count": 22,
   "metadata": {},
   "outputs": [
    {
     "data": {
      "text/plain": [
       "p_a\n",
       "0.0    315\n",
       "0.1    352\n",
       "0.3    249\n",
       "0.5     88\n",
       "0.7     51\n",
       "0.9    131\n",
       "1.0    400\n",
       "Name: length, dtype: int64"
      ]
     },
     "execution_count": 22,
     "metadata": {},
     "output_type": "execute_result"
    }
   ],
   "source": [
    "data.groupby('p_a')['length'].apply(lambda x: x[x ==1].count())"
   ]
  },
  {
   "cell_type": "markdown",
   "metadata": {},
   "source": [
    "## Energy comparison"
   ]
  },
  {
   "cell_type": "code",
   "execution_count": 23,
   "metadata": {},
   "outputs": [
    {
     "data": {
      "application/vnd.jupyter.widget-view+json": {
       "model_id": "4c22cf9a8a7340cf884a6ad47fdea803",
       "version_major": 2,
       "version_minor": 0
      },
      "text/plain": [
       "Canvas(toolbar=Toolbar(toolitems=[('Home', 'Reset original view', 'home', 'home'), ('Back', 'Back to previous …"
      ]
     },
     "metadata": {},
     "output_type": "display_data"
    },
    {
     "data": {
      "text/plain": [
       "<AxesSubplot:xlabel='p_a', ylabel='SpinGlass'>"
      ]
     },
     "execution_count": 23,
     "metadata": {},
     "output_type": "execute_result"
    }
   ],
   "source": [
    "metric_fig, ax =plt.subplots()\n",
    "sns.violinplot(x='p_a', y='SpinGlass', data= data, scale='count', bw=.2)"
   ]
  },
  {
   "cell_type": "markdown",
   "metadata": {},
   "source": [
    "# n= 121 |  $p_{action}\\in \\{0, n^2,n^{3/2} n, {n}^{\\frac12}, n^{\\frac13}, \\log n \\}$  |  400 samples | Rows"
   ]
  },
  {
   "cell_type": "code",
   "execution_count": 11,
   "metadata": {},
   "outputs": [],
   "source": [
    "n= 11\n",
    "m= n\n",
    "size=n*m\n",
    "p_state= 0.5\n",
    "pi=[i for i in range(size)]\n",
    "steps=500\n",
    "metricList= [Metric.SpinGlass]\n",
    "p_actions=[0, 1/(size**2), 1/size, 1/np.sqrt(size), 1/size**(1/3), 1/np.log2(size)]\n",
    "rules=[[np.random.choice(a=[Rule.STABLE, Rule.UNSTABLE], p=[p, 1 - p]) for i in range(size)] for p in p_actions]\n",
    "samples= 400\n",
    "labels= [r'$0$', r'$1/n^2$', r'$1/n$', r'$1/\\sqrt{n}$', \n",
    "         r'$1/{n^{1/3}}$', r'$1/\\log^{2}(n)$', r'$1/\\log(n)$']"
   ]
  },
  {
   "cell_type": "code",
   "execution_count": 12,
   "metadata": {},
   "outputs": [
    {
     "name": "stdout",
     "output_type": "stream",
     "text": [
      "0\n",
      "1\n",
      "2\n",
      "3\n",
      "4\n",
      "5\n"
     ]
    }
   ],
   "source": [
    "data = Evolve.config_sampler(configType = ConfigType.Torus , n = n, m= n, size= size, steps= steps, perm= pi, \n",
    "                                        rules = rules, metricList = metricList, samples= samples, \n",
    "                                        p_actions=p_actions, labels=labels)"
   ]
  },
  {
   "cell_type": "code",
   "execution_count": 13,
   "metadata": {},
   "outputs": [],
   "source": [
    "title= 'Torus_'+str(n)+'_'+str(samples)+'_func'+'_canon.csv'\n",
    "data.to_csv(title, encoding='utf-8', index=False)"
   ]
  },
  {
   "cell_type": "markdown",
   "metadata": {},
   "source": [
    "### Load Data set"
   ]
  },
  {
   "cell_type": "code",
   "execution_count": 25,
   "metadata": {},
   "outputs": [],
   "source": [
    "title= 'Torus_'+str(n)+'_'+str(samples)+'_func'+'_canon.csv'\n",
    "data= pd.read_csv(data_dir / title)"
   ]
  },
  {
   "cell_type": "markdown",
   "metadata": {},
   "source": [
    "### Cycle length comparison"
   ]
  },
  {
   "cell_type": "code",
   "execution_count": 26,
   "metadata": {},
   "outputs": [
    {
     "data": {
      "application/vnd.jupyter.widget-view+json": {
       "model_id": "3c13fde9b86145b3af15d0503d2ef64a",
       "version_major": 2,
       "version_minor": 0
      },
      "text/plain": [
       "Canvas(toolbar=Toolbar(toolitems=[('Home', 'Reset original view', 'home', 'home'), ('Back', 'Back to previous …"
      ]
     },
     "metadata": {},
     "output_type": "display_data"
    }
   ],
   "source": [
    "cycle_f= Plotter.plot_cycle_hist(data, \"length\", disc= False, binwidth=10)"
   ]
  },
  {
   "cell_type": "code",
   "execution_count": 27,
   "metadata": {},
   "outputs": [
    {
     "data": {
      "text/plain": [
       "p_a\n",
       "$0$                0\n",
       "$1/\\log^{2}(n)$    0\n",
       "$1/\\sqrt{n}$       0\n",
       "$1/n$              0\n",
       "$1/n^2$            0\n",
       "$1/{n^{1/3}}$      1\n",
       "Name: length, dtype: int64"
      ]
     },
     "execution_count": 27,
     "metadata": {},
     "output_type": "execute_result"
    }
   ],
   "source": [
    "data.groupby('p_a')['length'].apply(lambda x: x[x >steps].count())"
   ]
  },
  {
   "cell_type": "code",
   "execution_count": 30,
   "metadata": {},
   "outputs": [
    {
     "data": {
      "text/plain": [
       "p_a\n",
       "$0$                330\n",
       "$1/\\log^{2}(n)$    361\n",
       "$1/\\sqrt{n}$       342\n",
       "$1/n$              330\n",
       "$1/n^2$            310\n",
       "$1/{n^{1/3}}$      320\n",
       "Name: length, dtype: int64"
      ]
     },
     "execution_count": 30,
     "metadata": {},
     "output_type": "execute_result"
    }
   ],
   "source": [
    "data.groupby('p_a')['length'].apply(lambda x: x[x==1].count())"
   ]
  },
  {
   "cell_type": "markdown",
   "metadata": {},
   "source": [
    "### Energy comparison"
   ]
  },
  {
   "cell_type": "code",
   "execution_count": 31,
   "metadata": {},
   "outputs": [
    {
     "data": {
      "application/vnd.jupyter.widget-view+json": {
       "model_id": "ce7bf453211d4e47b9a04dbd1e018e21",
       "version_major": 2,
       "version_minor": 0
      },
      "text/plain": [
       "Canvas(toolbar=Toolbar(toolitems=[('Home', 'Reset original view', 'home', 'home'), ('Back', 'Back to previous …"
      ]
     },
     "metadata": {},
     "output_type": "display_data"
    },
    {
     "data": {
      "text/plain": [
       "<AxesSubplot:xlabel='p_a', ylabel='SpinGlass'>"
      ]
     },
     "execution_count": 31,
     "metadata": {},
     "output_type": "execute_result"
    }
   ],
   "source": [
    "metric_fig, ax =plt.subplots()\n",
    "sns.violinplot(x='p_a', y='SpinGlass', data= data, scale='count', bw=.2)"
   ]
  },
  {
   "cell_type": "markdown",
   "metadata": {},
   "source": [
    "# n= 121 |  $p_{action}\\in \\{0, n^2, n, {n}^{\\frac12}, n^{\\frac13}, \\log n \\}$  |  400 samples | Random order"
   ]
  },
  {
   "cell_type": "code",
   "execution_count": 39,
   "metadata": {},
   "outputs": [],
   "source": [
    "n= 11\n",
    "m=11\n",
    "size=n*m\n",
    "p_state= 0.5\n",
    "pi=np.random.permutation(size)\n",
    "steps=500\n",
    "metricList= [Metric.SpinGlass]\n",
    "p_actions=[0, 1/(size**2), 1/size, 1/np.sqrt(size), 1/size**(1/3),1/(np.log2(size)**2), 1/np.log2(size)]\n",
    "rules=[[np.random.choice(a=[Rule.STABLE, Rule.UNSTABLE], p=[p, 1 - p]) for i in range(size)] for p in p_actions]\n",
    "samples= 400\n",
    "labels= [r'$0$', r'$1/n^2$', r'$1/n$', r'$1/\\sqrt{n}$', \n",
    "         r'$1/{n^{1/3}}$', r'$1/\\log^{2}(n)$', r'$1/\\log(n)$']"
   ]
  },
  {
   "cell_type": "code",
   "execution_count": 40,
   "metadata": {},
   "outputs": [
    {
     "name": "stdout",
     "output_type": "stream",
     "text": [
      "0\n",
      "1\n",
      "2\n",
      "3\n",
      "4\n",
      "5\n",
      "6\n"
     ]
    }
   ],
   "source": [
    "data = Evolve.config_sampler(configType = ConfigType.Torus , n = n, m= n, size= size, steps= steps, perm= pi, \n",
    "                                        rules = rules, metricList = metricList, samples= samples, \n",
    "                                        p_actions=p_actions, labels=labels)"
   ]
  },
  {
   "cell_type": "code",
   "execution_count": 41,
   "metadata": {},
   "outputs": [],
   "source": [
    "title= 'Torus_'+str(n)+'_'+str(samples)+'_func'+'_rand_2.csv'\n",
    "data.to_csv(title, encoding='utf-8', index=False)"
   ]
  },
  {
   "cell_type": "markdown",
   "metadata": {},
   "source": [
    "### Load Data set"
   ]
  },
  {
   "cell_type": "code",
   "execution_count": 32,
   "metadata": {},
   "outputs": [],
   "source": [
    "title= 'Torus_'+str(n)+'_'+str(samples)+'_func'+'_rand_1.csv'\n",
    "data= pd.read_csv(data_dir /title)"
   ]
  },
  {
   "cell_type": "markdown",
   "metadata": {},
   "source": [
    "## Cycle length comparison"
   ]
  },
  {
   "cell_type": "code",
   "execution_count": 33,
   "metadata": {},
   "outputs": [
    {
     "data": {
      "application/vnd.jupyter.widget-view+json": {
       "model_id": "be5834f49a4a4978abe045b9a9d6dac2",
       "version_major": 2,
       "version_minor": 0
      },
      "text/plain": [
       "Canvas(toolbar=Toolbar(toolitems=[('Home', 'Reset original view', 'home', 'home'), ('Back', 'Back to previous …"
      ]
     },
     "metadata": {},
     "output_type": "display_data"
    }
   ],
   "source": [
    "cycle_n= Plotter.plot_cycle_hist(data, \"length\", disc= False, binwidth=10)"
   ]
  },
  {
   "cell_type": "code",
   "execution_count": 34,
   "metadata": {},
   "outputs": [
    {
     "data": {
      "text/plain": [
       "p_a\n",
       "$0$                0\n",
       "$1/\\log(n)$        0\n",
       "$1/\\log^{2}(n)$    0\n",
       "$1/\\sqrt{n}$       0\n",
       "$1/n$              0\n",
       "$1/n^2$            0\n",
       "$1/{n^{1/3}}$      0\n",
       "Name: length, dtype: int64"
      ]
     },
     "execution_count": 34,
     "metadata": {},
     "output_type": "execute_result"
    }
   ],
   "source": [
    "data.groupby('p_a')['length'].apply(lambda x: x[x >steps].count())"
   ]
  },
  {
   "cell_type": "code",
   "execution_count": 38,
   "metadata": {},
   "outputs": [
    {
     "data": {
      "text/plain": [
       "p_a\n",
       "$0$                306\n",
       "$1/\\log(n)$        327\n",
       "$1/\\log^{2}(n)$    317\n",
       "$1/\\sqrt{n}$       345\n",
       "$1/n$              280\n",
       "$1/n^2$            307\n",
       "$1/{n^{1/3}}$      276\n",
       "Name: length, dtype: int64"
      ]
     },
     "execution_count": 38,
     "metadata": {},
     "output_type": "execute_result"
    }
   ],
   "source": [
    "data.groupby('p_a')['length'].apply(lambda x: x[x ==1].count())"
   ]
  },
  {
   "cell_type": "markdown",
   "metadata": {},
   "source": [
    "## Energy comparison"
   ]
  },
  {
   "cell_type": "code",
   "execution_count": 36,
   "metadata": {},
   "outputs": [
    {
     "data": {
      "application/vnd.jupyter.widget-view+json": {
       "model_id": "976d4530e95b4fada0302e9195f41b73",
       "version_major": 2,
       "version_minor": 0
      },
      "text/plain": [
       "Canvas(toolbar=Toolbar(toolitems=[('Home', 'Reset original view', 'home', 'home'), ('Back', 'Back to previous …"
      ]
     },
     "metadata": {},
     "output_type": "display_data"
    },
    {
     "data": {
      "text/plain": [
       "<AxesSubplot:xlabel='p_a', ylabel='SpinGlass'>"
      ]
     },
     "execution_count": 36,
     "metadata": {},
     "output_type": "execute_result"
    }
   ],
   "source": [
    "metric_fig, ax =plt.subplots()\n",
    "sns.violinplot(x='p_a', y='SpinGlass', data= data, scale='count', bw=.2)"
   ]
  },
  {
   "cell_type": "markdown",
   "metadata": {},
   "source": [
    "### Second Data set (different permutation)"
   ]
  },
  {
   "cell_type": "code",
   "execution_count": null,
   "metadata": {},
   "outputs": [],
   "source": [
    "title= 'Torus_'+str(n)+'_'+str(samples)+'_func'+'_rand_2.csv'\n",
    "data= pd.read_csv(data_dir /title)"
   ]
  },
  {
   "cell_type": "markdown",
   "metadata": {},
   "source": [
    "### Energy comparison"
   ]
  },
  {
   "cell_type": "code",
   "execution_count": null,
   "metadata": {},
   "outputs": [],
   "source": [
    "metric_fig, ax =plt.subplots()\n",
    "sns.violinplot(x='p_a', y='SpinGlass', data= data, scale='count', bw=.2)"
   ]
  },
  {
   "cell_type": "markdown",
   "metadata": {},
   "source": [
    "# n= 121 | $p_{action}\\in \\{0, 0.1 : 0.2 : 0.9, 1\\}$ |  400 samples | Random order"
   ]
  },
  {
   "cell_type": "code",
   "execution_count": 44,
   "metadata": {},
   "outputs": [],
   "source": [
    "n= 11\n",
    "m=11\n",
    "size=n*m\n",
    "p_state= 0.5\n",
    "pi=np.random.permutation(size)\n",
    "steps=500\n",
    "metricList= [Metric.SpinGlass]\n",
    "p_actions=[0, 0.1, 0.3, 0.5, 0.7, 0.9, 1]\n",
    "rules=[[np.random.choice(a=[Rule.STABLE, Rule.UNSTABLE], p=[p, 1 - p]) for i in range(size)] for p in p_actions]\n",
    "samples= 400\n",
    "labels= ['$'+str(p)+'$' for p in p_actions]"
   ]
  },
  {
   "cell_type": "code",
   "execution_count": 46,
   "metadata": {},
   "outputs": [
    {
     "name": "stdout",
     "output_type": "stream",
     "text": [
      "0\n",
      "1\n",
      "2\n",
      "3\n",
      "4\n",
      "5\n",
      "6\n"
     ]
    }
   ],
   "source": [
    "data = Evolve.config_sampler(configType = ConfigType.Torus , n = n, m= n, size= size, steps= steps, perm= pi, \n",
    "                                        rules = rules, metricList = metricList, samples= samples, \n",
    "                                        p_actions=p_actions, labels=labels)"
   ]
  },
  {
   "cell_type": "code",
   "execution_count": 47,
   "metadata": {},
   "outputs": [],
   "source": [
    "title= 'Torus_'+str(n)+'_'+str(samples)+'study'+'_rand_1.csv'\n",
    "data.to_csv(title, encoding='utf-8', index=False)"
   ]
  },
  {
   "cell_type": "markdown",
   "metadata": {},
   "source": [
    "### Load Data set"
   ]
  },
  {
   "cell_type": "code",
   "execution_count": null,
   "metadata": {},
   "outputs": [],
   "source": [
    "title= 'Torus_'+str(n)+'_'+str(samples)+'study'+'_rand_1.csv'\n",
    "data= pd.read_csv(data_dir /title)"
   ]
  }
 ],
 "metadata": {
  "kernelspec": {
   "display_name": "Python 3",
   "language": "python",
   "name": "python3"
  },
  "language_info": {
   "codemirror_mode": {
    "name": "ipython",
    "version": 3
   },
   "file_extension": ".py",
   "mimetype": "text/x-python",
   "name": "python",
   "nbconvert_exporter": "python",
   "pygments_lexer": "ipython3",
   "version": "3.8.5"
  }
 },
 "nbformat": 4,
 "nbformat_minor": 4
}
