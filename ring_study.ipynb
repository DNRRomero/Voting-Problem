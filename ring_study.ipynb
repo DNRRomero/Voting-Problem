{
 "cells": [
  {
   "cell_type": "code",
   "execution_count": 2,
   "metadata": {},
   "outputs": [],
   "source": [
    "%matplotlib widget\n",
    "import numpy as np\n",
    "import matplotlib\n",
    "import matplotlib.pyplot as plt\n",
    "from matplotlib import animation, rc\n",
    "from IPython.display import HTML\n",
    "import seaborn as sns\n",
    "import pandas as pd\n",
    "import itertools\n",
    "from pathlib import Path\n",
    "data = Path('data')"
   ]
  },
  {
   "cell_type": "code",
   "execution_count": 3,
   "metadata": {},
   "outputs": [],
   "source": [
    "sns.set_style(\"whitegrid\")\n",
    "sns.set_palette(sns.color_palette())"
   ]
  },
  {
   "cell_type": "code",
   "execution_count": 4,
   "metadata": {},
   "outputs": [],
   "source": [
    "plt.rcParams['animation.embed_limit'] = 2**128\n",
    "rc('animation', html='jshtml')"
   ]
  },
  {
   "cell_type": "code",
   "execution_count": 5,
   "metadata": {},
   "outputs": [],
   "source": [
    "import Evolve\n",
    "import Torus, Ring\n",
    "import utilities\n",
    "import Plotter\n",
    "from metric import *"
   ]
  },
  {
   "cell_type": "code",
   "execution_count": 5,
   "metadata": {},
   "outputs": [],
   "source": [
    "n= 64\n",
    "p_state= 0.5\n",
    "pi=[i for i in range(n)]\n",
    "steps=200\n",
    "metricList= [Metric.SpinGlass]\n",
    "p_actions=[0, 0.1, 0.3, 0.5, 0.7, 0.9, 1]\n",
    "rules=[[np.random.choice(a=[Rule.STABLE, Rule.UNSTABLE], p=[p, 1 - p]) for i in range(n)] for p in p_actions]"
   ]
  },
  {
   "cell_type": "markdown",
   "metadata": {},
   "source": [
    "# n= 64 | different $p_{action}$ values |  200 samples | Left to Right"
   ]
  },
  {
   "cell_type": "code",
   "execution_count": null,
   "metadata": {},
   "outputs": [],
   "source": [
    "samples= 200\n",
    "labels= ['$'+str(p)+'$' for p in p_actions]\n",
    "cycles = {'length': np.zeros(samples*len(p_actions)) , 'p_a': np.zeros(samples*len(p_actions))}\n",
    "energies = {'energy': np.zeros(samples*len(p_actions)) , 'p_a': np.zeros(samples*len(p_actions))}\n",
    "\n",
    "cycles, metrics = Evolve.config_sampler(configType = ConfigType.Ring , n = n, steps= steps, perm= pi, \n",
    "                                        rules = rules, metricList = metricList, samples= samples, \n",
    "                                        p_actions=p_actions)"
   ]
  },
  {
   "cell_type": "code",
   "execution_count": null,
   "metadata": {},
   "outputs": [],
   "source": [
    "cycleDat = pd.DataFrame(cycles)\n",
    "metricDat=pd.DataFrame(metrics)\n",
    "cycleDat.to_csv('cycles_study_canon.csv', encoding='utf-8', index=False)\n",
    "metricDat.to_csv('energy_study_canon.csv', encoding='utf-8', index=False)"
   ]
  },
  {
   "cell_type": "markdown",
   "metadata": {},
   "source": [
    "### Load Data set"
   ]
  },
  {
   "cell_type": "code",
   "execution_count": 16,
   "metadata": {},
   "outputs": [],
   "source": [
    "cycleDat= pd.read_csv(data /'cycles_study_canon.csv')\n",
    "metricDat= pd.read_csv(data / 'energy_study_canon.csv')"
   ]
  },
  {
   "cell_type": "markdown",
   "metadata": {},
   "source": [
    "## Cycle length comparison"
   ]
  },
  {
   "cell_type": "code",
   "execution_count": 17,
   "metadata": {},
   "outputs": [
    {
     "data": {
      "application/vnd.jupyter.widget-view+json": {
       "model_id": "2a272fd73aa14993b8be6eccc1647bdc",
       "version_major": 2,
       "version_minor": 0
      },
      "text/plain": [
       "Canvas(toolbar=Toolbar(toolitems=[('Home', 'Reset original view', 'home', 'home'), ('Back', 'Back to previous …"
      ]
     },
     "metadata": {},
     "output_type": "display_data"
    }
   ],
   "source": [
    "cycle_g= Plotter.plot_cycle_hist(cycleDat, \"length\")"
   ]
  },
  {
   "cell_type": "markdown",
   "metadata": {},
   "source": [
    "## Energy comparison"
   ]
  },
  {
   "cell_type": "code",
   "execution_count": null,
   "metadata": {},
   "outputs": [],
   "source": [
    "metric_g= Plotter.plot_energy_kde(metricDat, \"SpinGlass\")"
   ]
  },
  {
   "cell_type": "code",
   "execution_count": 8,
   "metadata": {
    "scrolled": false
   },
   "outputs": [
    {
     "data": {
      "application/vnd.jupyter.widget-view+json": {
       "model_id": "067190a946b74cb395184479ce51ed1e",
       "version_major": 2,
       "version_minor": 0
      },
      "text/plain": [
       "Canvas(toolbar=Toolbar(toolitems=[('Home', 'Reset original view', 'home', 'home'), ('Back', 'Back to previous …"
      ]
     },
     "metadata": {},
     "output_type": "display_data"
    },
    {
     "data": {
      "text/plain": [
       "<AxesSubplot:xlabel='p_a', ylabel='SpinGlass'>"
      ]
     },
     "execution_count": 8,
     "metadata": {},
     "output_type": "execute_result"
    }
   ],
   "source": [
    "metric_fig, ax =plt.subplots()\n",
    "sns.violinplot(x='p_a', y='SpinGlass', data= metricDat, scale='count', bw=.2)"
   ]
  },
  {
   "cell_type": "markdown",
   "metadata": {},
   "source": [
    "# n= 64 |  $p_{action}\\in \\{0.0, n^2, n, {n}^{\\frac12}, n^{\\frac13}, \\log n \\}$  |  200 samples | Left to right"
   ]
  },
  {
   "cell_type": "code",
   "execution_count": 6,
   "metadata": {},
   "outputs": [],
   "source": [
    "n= 64\n",
    "p_state= 0.5\n",
    "pi=[i for i in range(n)]\n",
    "steps=200\n",
    "metricList= [Metric.SpinGlass]\n",
    "p_actions=[0, 1/(n**2), 1/n, 1/np.sqrt(n), 1/n**(1/3), 1/np.log2(n)]\n",
    "rules=[[np.random.choice(a=[Rule.STABLE, Rule.UNSTABLE], p=[p, 1 - p]) for i in range(n)] for p in p_actions]"
   ]
  },
  {
   "cell_type": "code",
   "execution_count": null,
   "metadata": {},
   "outputs": [],
   "source": [
    "samples= 200\n",
    "labels= ['$0$', '$\\frac1{n^2}$', '$\\frac1{n}$', '$\\frac1{\\sqrt{n}}$', '$\\frac1{n^{\\frac13}}$', '$\\frac1{\\log(n)}$']\n",
    "cycles = {'length': np.zeros(samples*len(p_actions)) , 'p_a': np.zeros(samples*len(p_actions))}\n",
    "energies = {'energy': np.zeros(samples*len(p_actions)) , 'p_a': np.zeros(samples*len(p_actions))}\n",
    "\n",
    "cycles, metrics = Evolve.config_sampler(configType = ConfigType.Ring , n = n, steps= steps, perm= pi, \n",
    "                                        rules = rules, metricList = metricList, samples= samples, \n",
    "                                        p_actions=p_actions)"
   ]
  },
  {
   "cell_type": "code",
   "execution_count": null,
   "metadata": {},
   "outputs": [],
   "source": [
    "cycleDat = pd.DataFrame(cycles)\n",
    "metricDat=pd.DataFrame(metrics)\n",
    "title= str(n)+'_'+str(samples)+'_func'+'_canon'\n",
    "cycleDat.to_csv('cycles_'+title+'.csv', encoding='utf-8', index=False)\n",
    "metricDat.to_csv('energy_'+title+'.csv', encoding='utf-8', index=False)"
   ]
  },
  {
   "cell_type": "markdown",
   "metadata": {},
   "source": [
    "### Load Data set"
   ]
  },
  {
   "cell_type": "code",
   "execution_count": null,
   "metadata": {},
   "outputs": [],
   "source": [
    "title= str(n)+'_'+str(samples)+'_func'+'_rand'\n",
    "cycle_file = 'cycles_'+title+'.csv'\n",
    "energy_file = 'energy_'+title+'.csv'\n",
    "cycleDat= pd.read_csv(data /cycle_file)\n",
    "metricDat= pd.read_csv(data / energy_file)"
   ]
  },
  {
   "cell_type": "markdown",
   "metadata": {},
   "source": []
  },
  {
   "cell_type": "code",
   "execution_count": null,
   "metadata": {},
   "outputs": [],
   "source": [
    "cycle_n= Plotter.plot_cycle_hist(cycleDat, \"length\")"
   ]
  },
  {
   "cell_type": "markdown",
   "metadata": {},
   "source": []
  },
  {
   "cell_type": "code",
   "execution_count": null,
   "metadata": {},
   "outputs": [],
   "source": [
    "metric_fig, ax =plt.subplots()\n",
    "sns.violinplot(x='p_a', y='SpinGlass', data= metricDat, scale='count', bw=.2)"
   ]
  },
  {
   "cell_type": "markdown",
   "metadata": {},
   "source": [
    "# n= 64 |  $p_{action}\\in \\{0.0, n^2, n, {n}^{\\frac12}, n^{\\frac13}, \\log n \\}$  |  200 samples | Random order"
   ]
  },
  {
   "cell_type": "code",
   "execution_count": 25,
   "metadata": {},
   "outputs": [],
   "source": [
    "n= 64\n",
    "p_state= 0.5\n",
    "pi=np.random.permutation(n)\n",
    "steps=200\n",
    "metricList= [Metric.SpinGlass]\n",
    "p_actions=[0, 1/(n**2), 1/n, 1/np.sqrt(n), 1/n**(1/3), 1/np.log2(n)]\n",
    "\n",
    "rules=[[np.random.choice(a=[Rule.STABLE, Rule.UNSTABLE], p=[p, 1 - p]) for i in range(n)] for p in p_actions]"
   ]
  },
  {
   "cell_type": "code",
   "execution_count": 26,
   "metadata": {},
   "outputs": [],
   "source": [
    "samples= 200\n",
    "labels= ['$'+str(p)+'$' for p in p_actions]\n",
    "cycles = {'length': np.zeros(samples*len(p_actions)) , 'p_a': np.zeros(samples*len(p_actions))}\n",
    "energies = {'energy': np.zeros(samples*len(p_actions)) , 'p_a': np.zeros(samples*len(p_actions))}\n",
    "\n",
    "cycles, metrics = Evolve.config_sampler(configType = ConfigType.Ring , n = n, steps= steps, perm= pi, \n",
    "                                        rules = rules, metricList = metricList, samples= samples, \n",
    "                                        p_actions=p_actions, labels=labels)"
   ]
  },
  {
   "cell_type": "code",
   "execution_count": 27,
   "metadata": {},
   "outputs": [],
   "source": [
    "cycleDat = pd.DataFrame(cycles)\n",
    "metricDat=pd.DataFrame(metrics)\n",
    "title= str(n)+'_'+str(samples)+'_func'+'_rand'\n",
    "cycleDat.to_csv('cycles_'+title+'.csv', encoding='utf-8', index=False)\n",
    "metricDat.to_csv('energy_'+title+'.csv', encoding='utf-8', index=False)"
   ]
  },
  {
   "cell_type": "markdown",
   "metadata": {},
   "source": [
    "### Load Data set"
   ]
  },
  {
   "cell_type": "code",
   "execution_count": 29,
   "metadata": {},
   "outputs": [],
   "source": [
    "title= str(n)+'_'+str(samples)+'_func'+'_rand'\n",
    "cycle_file = 'cycles_'+title+'.csv'\n",
    "energy_file = 'energy_'+title+'.csv'\n",
    "cycleDat= pd.read_csv(data /cycle_file)\n",
    "metricDat= pd.read_csv(data / energy_file)"
   ]
  },
  {
   "cell_type": "code",
   "execution_count": 30,
   "metadata": {
    "scrolled": false
   },
   "outputs": [
    {
     "data": {
      "application/vnd.jupyter.widget-view+json": {
       "model_id": "b7a1ae55503f480b9d908881269b58b3",
       "version_major": 2,
       "version_minor": 0
      },
      "text/plain": [
       "Canvas(toolbar=Toolbar(toolitems=[('Home', 'Reset original view', 'home', 'home'), ('Back', 'Back to previous …"
      ]
     },
     "metadata": {},
     "output_type": "display_data"
    }
   ],
   "source": [
    "cycle_n= Plotter.plot_cycle_hist(cycleDat, \"length\")"
   ]
  },
  {
   "cell_type": "code",
   "execution_count": 31,
   "metadata": {},
   "outputs": [
    {
     "data": {
      "application/vnd.jupyter.widget-view+json": {
       "model_id": "f7443cce522b4b089164229f0721899e",
       "version_major": 2,
       "version_minor": 0
      },
      "text/plain": [
       "Canvas(toolbar=Toolbar(toolitems=[('Home', 'Reset original view', 'home', 'home'), ('Back', 'Back to previous …"
      ]
     },
     "metadata": {},
     "output_type": "display_data"
    },
    {
     "data": {
      "text/plain": [
       "<AxesSubplot:xlabel='p_a', ylabel='SpinGlass'>"
      ]
     },
     "execution_count": 31,
     "metadata": {},
     "output_type": "execute_result"
    }
   ],
   "source": [
    "metric_fig, ax =plt.subplots()\n",
    "sns.violinplot(x='p_a', y='SpinGlass', data= metricDat, scale='count', bw=.2)"
   ]
  },
  {
   "cell_type": "markdown",
   "metadata": {},
   "source": [
    "# n= 64 | different $p_{action}$ values |  200 samples | Random order"
   ]
  },
  {
   "cell_type": "code",
   "execution_count": null,
   "metadata": {},
   "outputs": [],
   "source": [
    "n= 64\n",
    "p_state= 0.5\n",
    "pi=np.random.permutation(n)\n",
    "steps=200\n",
    "metricList= [Metric.SpinGlass]\n",
    "p_actions=[0, 0.1, 0.3, 0.5, 0.7, 0.9, 1]\n",
    "rules=[[np.random.choice(a=[Rule.STABLE, Rule.UNSTABLE], p=[p, 1 - p]) for i in range(n)] for p in p_actions]"
   ]
  },
  {
   "cell_type": "code",
   "execution_count": null,
   "metadata": {},
   "outputs": [],
   "source": [
    "samples= 200\n",
    "labels= ['$'+str(p)+'$' for p in p_actions]\n",
    "cycles = {'length': np.zeros(samples*len(p_actions)) , 'p_a': np.zeros(samples*len(p_actions))}\n",
    "energies = {'energy': np.zeros(samples*len(p_actions)) , 'p_a': np.zeros(samples*len(p_actions))}\n",
    "\n",
    "cycles, metrics = Evolve.config_sampler(configType = ConfigType.Ring , n = n, steps= steps, perm= pi, \n",
    "                                        rules = rules, metricList = metricList, samples= samples, \n",
    "                                        p_actions=p_actions)"
   ]
  },
  {
   "cell_type": "code",
   "execution_count": null,
   "metadata": {},
   "outputs": [],
   "source": [
    "cycleDat = pd.DataFrame(cycles)\n",
    "metricDat=pd.DataFrame(metrics)\n",
    "cycleDat.to_csv('cycles_study_rand.csv', encoding='utf-8', index=False)\n",
    "metricDat.to_csv('energy_study_rand.csv', encoding='utf-8', index=False)"
   ]
  },
  {
   "cell_type": "markdown",
   "metadata": {},
   "source": [
    "### Load Data set"
   ]
  },
  {
   "cell_type": "code",
   "execution_count": 9,
   "metadata": {},
   "outputs": [],
   "source": [
    "cycleDat = pd.read_csv(data/'cycles_study_rand.csv')\n",
    "metricDat = pd.read_csv(data/'energy_study_rand.csv')"
   ]
  },
  {
   "cell_type": "markdown",
   "metadata": {},
   "source": [
    "## Cycle length comparison"
   ]
  },
  {
   "cell_type": "code",
   "execution_count": 10,
   "metadata": {},
   "outputs": [
    {
     "data": {
      "application/vnd.jupyter.widget-view+json": {
       "model_id": "9084ea4d5ac34aee969505e1e4d376be",
       "version_major": 2,
       "version_minor": 0
      },
      "text/plain": [
       "Canvas(toolbar=Toolbar(toolitems=[('Home', 'Reset original view', 'home', 'home'), ('Back', 'Back to previous …"
      ]
     },
     "metadata": {},
     "output_type": "display_data"
    }
   ],
   "source": [
    "cycle_rand= Plotter.plot_cycle_hist(cycleDat, \"length\")"
   ]
  },
  {
   "cell_type": "markdown",
   "metadata": {},
   "source": [
    "## Energy comparison"
   ]
  },
  {
   "cell_type": "code",
   "execution_count": null,
   "metadata": {},
   "outputs": [],
   "source": [
    "metric_rand= Plotter.plot_energy_kde(metricDat, \"SpinGlass\")"
   ]
  },
  {
   "cell_type": "code",
   "execution_count": 11,
   "metadata": {},
   "outputs": [
    {
     "data": {
      "application/vnd.jupyter.widget-view+json": {
       "model_id": "0e111470111f48f0803aea8be2064af3",
       "version_major": 2,
       "version_minor": 0
      },
      "text/plain": [
       "Canvas(toolbar=Toolbar(toolitems=[('Home', 'Reset original view', 'home', 'home'), ('Back', 'Back to previous …"
      ]
     },
     "metadata": {},
     "output_type": "display_data"
    },
    {
     "data": {
      "text/plain": [
       "<AxesSubplot:xlabel='p_a', ylabel='SpinGlass'>"
      ]
     },
     "execution_count": 11,
     "metadata": {},
     "output_type": "execute_result"
    }
   ],
   "source": [
    "metric_fig, ax =plt.subplots()\n",
    "sns.violinplot(x='p_a', y='SpinGlass', data= metricDat, scale='count', bw=.2)"
   ]
  },
  {
   "cell_type": "markdown",
   "metadata": {},
   "source": [
    "   # n=16 | fixed permutation | all configurations"
   ]
  },
  {
   "cell_type": "code",
   "execution_count": null,
   "metadata": {},
   "outputs": [],
   "source": [
    "n=16\n",
    "samples= 2**n\n",
    "steps= 120\n",
    "pi= np.random.permutation(n)\n",
    "p_actions=[0, 0.1, 0.3, 0.5, 0.7, 0.9, 1]\n",
    "cases= samples*len(p_actions)\n",
    "metricList= [Metric.SpinGlass]\n",
    "rules=[[np.random.choice(a=[Rule.STABLE, Rule.UNSTABLE], p=[p, 1 - p]) for i in range(n)] for p in p_actions]   "
   ]
  },
  {
   "cell_type": "code",
   "execution_count": null,
   "metadata": {},
   "outputs": [],
   "source": [
    "cycles = {'length': np.zeros(cases) , 'p_a': np.zeros(cases)}\n",
    "energies = {'energy': np.zeros(cases) , 'p_a': np.zeros(cases)}\n",
    "\n",
    "for i, p in enumerate(p_actions):\n",
    "    ring= Ring.createRing(n, rules=rules[i])\n",
    "    for j, s in enumerate(itertools.product([State.ON, State.OFF], repeat= n)):\n",
    "        ring.setStates(list(s))\n",
    "        evol, metrics=Evolve.evolve(config=ring, perm=pi, steps=steps, metricList= metricList, cycleBreak=True)\n",
    "        pos= i*samples+ j\n",
    "        cycles['length'][pos] = utilities.cycle_length(evol)\n",
    "        cycles['p_a'][pos] = p_actions[i]\n",
    "        e,= metrics.values()\n",
    "        energies['energy'][pos] = e[-1]\n",
    "        energies['p_a'][pos] = p_actions[i]"
   ]
  },
  {
   "cell_type": "code",
   "execution_count": null,
   "metadata": {},
   "outputs": [],
   "source": [
    "cycleDat = pd.DataFrame(cycles)\n",
    "metricDat=pd.DataFrame(energies)\n",
    "cycleDat.to_csv('cycles_'+str(n)+'_allConfigs.csv', encoding='utf-8', index=False)\n",
    "metricDat.to_csv('energy_'+str(n)+'_allConfigs.csv', encoding='utf-8', index=False)"
   ]
  },
  {
   "cell_type": "markdown",
   "metadata": {},
   "source": [
    "### Load Data Set"
   ]
  },
  {
   "cell_type": "code",
   "execution_count": 12,
   "metadata": {},
   "outputs": [],
   "source": [
    "cycleDat = pd.read_csv(data/'cycles_16_allConfigs.csv')\n",
    "metricDat = pd.read_csv(data/'energy_16_allConfigs.csv')"
   ]
  },
  {
   "cell_type": "markdown",
   "metadata": {},
   "source": [
    "## Cycle length comparison"
   ]
  },
  {
   "cell_type": "code",
   "execution_count": 13,
   "metadata": {},
   "outputs": [
    {
     "data": {
      "application/vnd.jupyter.widget-view+json": {
       "model_id": "2a8237f32780413183205e3dff3cd6f7",
       "version_major": 2,
       "version_minor": 0
      },
      "text/plain": [
       "Canvas(toolbar=Toolbar(toolitems=[('Home', 'Reset original view', 'home', 'home'), ('Back', 'Back to previous …"
      ]
     },
     "metadata": {},
     "output_type": "display_data"
    }
   ],
   "source": [
    "cycle_all= Plotter.plot_cycle_hist(cycleDat, \"length\")"
   ]
  },
  {
   "cell_type": "markdown",
   "metadata": {},
   "source": [
    "### Energy Comparison"
   ]
  },
  {
   "cell_type": "code",
   "execution_count": null,
   "metadata": {},
   "outputs": [],
   "source": [
    "metric_all= Plotter.plot_energy_kde(metricDat, \"energy\")"
   ]
  },
  {
   "cell_type": "code",
   "execution_count": 14,
   "metadata": {},
   "outputs": [
    {
     "data": {
      "application/vnd.jupyter.widget-view+json": {
       "model_id": "f3d860f4b55b4fbab9a3b157143206ee",
       "version_major": 2,
       "version_minor": 0
      },
      "text/plain": [
       "Canvas(toolbar=Toolbar(toolitems=[('Home', 'Reset original view', 'home', 'home'), ('Back', 'Back to previous …"
      ]
     },
     "metadata": {},
     "output_type": "display_data"
    },
    {
     "data": {
      "text/plain": [
       "<AxesSubplot:xlabel='p_a', ylabel='energy'>"
      ]
     },
     "execution_count": 14,
     "metadata": {},
     "output_type": "execute_result"
    }
   ],
   "source": [
    "metric_fig, ax =plt.subplots()\n",
    "sns.violinplot(x='p_a', y='energy', data= metricDat, scale='count', bw=.2)"
   ]
  },
  {
   "cell_type": "code",
   "execution_count": null,
   "metadata": {},
   "outputs": [],
   "source": [
    "n=16\n",
    "samples= 2**n\n",
    "steps= 120\n",
    "pi= np.random.permutation(n)\n",
    "p_actions=[0, 1/(n**2), 1/n, 1/np.sqrt(n), 1/n**(1/3), 1/np.log2(n)]\n",
    "cases= samples*len(p_actions)\n",
    "metricList= [Metric.SpinGlass]\n",
    "rules=[[np.random.choice(a=[Rule.STABLE, Rule.UNSTABLE], p=[p, 1 - p]) for i in range(n)] for p in p_actions]   "
   ]
  },
  {
   "cell_type": "code",
   "execution_count": null,
   "metadata": {},
   "outputs": [],
   "source": [
    "cycles = {'length': np.zeros(cases) , 'p_a': np.zeros(cases)}\n",
    "energies = {'energy': np.zeros(cases) , 'p_a': np.zeros(cases)}\n",
    "\n",
    "for i, p in enumerate(p_actions):\n",
    "    ring= Ring.createRing(n, rules=rules[i])\n",
    "    for j, s in enumerate(itertools.product([State.ON, State.OFF], repeat= n)):\n",
    "        ring.setStates(list(s))\n",
    "        evol, metrics=Evolve.evolve(config=ring, perm=pi, steps=steps, metricList= metricList, cycleBreak=True)\n",
    "        pos= i*samples+ j\n",
    "        cycles['length'][pos] = utilities.cycle_length(evol)\n",
    "        cycles['p_a'][pos] = p_actions[i]\n",
    "        e,= metrics.values()\n",
    "        energies['energy'][pos] = e[-1]\n",
    "        energies['p_a'][pos] = p_actions[i]"
   ]
  }
 ],
 "metadata": {
  "kernelspec": {
   "display_name": "Python 3",
   "language": "python",
   "name": "python3"
  },
  "language_info": {
   "codemirror_mode": {
    "name": "ipython",
    "version": 3
   },
   "file_extension": ".py",
   "mimetype": "text/x-python",
   "name": "python",
   "nbconvert_exporter": "python",
   "pygments_lexer": "ipython3",
   "version": "3.8.5"
  }
 },
 "nbformat": 4,
 "nbformat_minor": 4
}
