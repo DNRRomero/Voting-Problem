{
 "cells": [
  {
   "cell_type": "code",
   "execution_count": 48,
   "metadata": {},
   "outputs": [],
   "source": [
    "%matplotlib widget\n",
    "import numpy as np\n",
    "import matplotlib\n",
    "import matplotlib.pyplot as plt\n",
    "from matplotlib import animation, rc\n",
    "from IPython.display import HTML\n",
    "import seaborn as sns\n",
    "import pandas as pd\n",
    "import itertools\n",
    "from pathlib import Path\n",
    "data_dir = Path('data')"
   ]
  },
  {
   "cell_type": "code",
   "execution_count": 49,
   "metadata": {},
   "outputs": [],
   "source": [
    "sns.set_style(\"whitegrid\")"
   ]
  },
  {
   "cell_type": "code",
   "execution_count": 50,
   "metadata": {},
   "outputs": [],
   "source": [
    "from script import Evolve, Torus, Ring, utilities, Plotter\n",
    "from script.metric import *"
   ]
  },
  {
   "cell_type": "code",
   "execution_count": 51,
   "metadata": {},
   "outputs": [],
   "source": [
    "n= 32\n",
    "m= 32\n",
    "c_type= ConfigType.Torus\n",
    "size = n*m\n",
    "p_state= 0.5\n",
    "seed= 698203\n",
    "steps=2000\n",
    "np.random.seed(seed)\n",
    "pi=np.random.permutation(n)\n",
    "magnetList = [0.0, 0.2, 0.4, 0.6, 0.8]\n",
    "rule_set=  lambda x,y: (x+y)%2\n",
    "pair = lambda k: (k // m, k % m)\n",
    "ruler = lambda i : Rule.STABLE if i== 1 else Rule.UNSTABLE\n",
    "rules = [ruler(rule(pair(i)[0], pair(i)[1])) for i in range(size)]\n",
    "pi=np.random.permutation(n)\n",
    "metricList= [Metric.SpinGlass, Metric.Magnetization]\n",
    "samples = 300\n",
    "\n",
    "agree= {'init_magnet': [], 'length' : [], 'Magnetization_mean':[], 'Magnetization_min':[], 'Magnetization_max':[],\n",
    "        'Magnetization_std':[], 'SpinGlass':[]}   \n",
    "\n",
    "conf = utilities.createConfig(c_type, n=n, m=m, rules = rules)"
   ]
  },
  {
   "cell_type": "code",
   "execution_count": 52,
   "metadata": {},
   "outputs": [
    {
     "name": "stdout",
     "output_type": "stream",
     "text": [
      "0\n",
      "1\n",
      "2\n",
      "3\n",
      "4\n"
     ]
    }
   ],
   "source": [
    "for i, mag in enumerate(magnetList):\n",
    "    print(i)\n",
    "    for j in range(samples):\n",
    "        init_states= [State.ON]*round((size*(0.5 + mag/2))-10**(-9))+ [State.OFF]*round((size*(0.5 -mag/2)+10**(-9)))\n",
    "        np.random.shuffle(init_states)\n",
    "        conf.set_states(init_states)\n",
    "        stables = [0]\n",
    "        array, out = Evolve.evolve(conf, perm= pi, steps=steps, \n",
    "                                   metricList=metricList, cycleBreak=True)\n",
    "        curr_energy = out[Metric.SpinGlass][-1]\n",
    "        curr_magnet= out[Metric.Magnetization][-1]\n",
    "        length, start = utilities.cycle_length(array)\n",
    "\n",
    "\n",
    "        agree['init_magnet'].append(mag)\n",
    "        agree['length'].append(length)\n",
    "        agree['Magnetization_mean'].append(curr_magnet)\n",
    "        agree['Magnetization_std'].append(np.std(magnetization(array[start: start+length])))\n",
    "        agree['Magnetization_min'].append(np.min(magnetization(array[start: start+length])))\n",
    "        agree['Magnetization_max'].append(np.max(magnetization(array[start: start+length])))\n",
    "        agree['SpinGlass'].append(curr_energy)  \n",
    "\n",
    "\n",
    "data = pd.DataFrame(agree)"
   ]
  },
  {
   "cell_type": "code",
   "execution_count": 53,
   "metadata": {},
   "outputs": [],
   "source": [
    "title = '{2}_{0}_by_{0}_{1}_chess_agreement.csv'.format(n, steps, c_type.name)\n",
    "data.to_csv(title, encoding='utf-8', index=False)\n"
   ]
  },
  {
   "cell_type": "code",
   "execution_count": 54,
   "metadata": {},
   "outputs": [
    {
     "data": {
      "application/vnd.jupyter.widget-view+json": {
       "model_id": "758e64e790bb4914b673f8c284fb94c0",
       "version_major": 2,
       "version_minor": 0
      },
      "text/plain": [
       "Canvas(toolbar=Toolbar(toolitems=[('Home', 'Reset original view', 'home', 'home'), ('Back', 'Back to previous …"
      ]
     },
     "metadata": {},
     "output_type": "display_data"
    },
    {
     "data": {
      "text/plain": [
       "<AxesSubplot:xlabel='init_magnet', ylabel='Magnetization_mean'>"
      ]
     },
     "execution_count": 54,
     "metadata": {},
     "output_type": "execute_result"
    }
   ],
   "source": [
    "magnet_fix, magnet_ax = plt.subplots()\n",
    "sns.violinplot(data = data, x= 'init_magnet', y = 'Magnetization_mean')"
   ]
  },
  {
   "cell_type": "code",
   "execution_count": 60,
   "metadata": {
    "scrolled": false
   },
   "outputs": [
    {
     "data": {
      "application/vnd.jupyter.widget-view+json": {
       "model_id": "deed54df23fe410db50739defa8c9cc9",
       "version_major": 2,
       "version_minor": 0
      },
      "text/plain": [
       "Canvas(toolbar=Toolbar(toolitems=[('Home', 'Reset original view', 'home', 'home'), ('Back', 'Back to previous …"
      ]
     },
     "metadata": {},
     "output_type": "display_data"
    },
    {
     "data": {
      "text/plain": [
       "<AxesSubplot:xlabel='init_magnet', ylabel='SpinGlass'>"
      ]
     },
     "execution_count": 60,
     "metadata": {},
     "output_type": "execute_result"
    }
   ],
   "source": [
    "ener_fig, ener_ax = plt.subplots()\n",
    "sns.violinplot(data = data, x= 'init_magnet', y = 'SpinGlass')"
   ]
  },
  {
   "cell_type": "code",
   "execution_count": 58,
   "metadata": {},
   "outputs": [
    {
     "data": {
      "application/vnd.jupyter.widget-view+json": {
       "model_id": "6e86913ed8214d5898ac4a6afd4b2c16",
       "version_major": 2,
       "version_minor": 0
      },
      "text/plain": [
       "Canvas(toolbar=Toolbar(toolitems=[('Home', 'Reset original view', 'home', 'home'), ('Back', 'Back to previous …"
      ]
     },
     "metadata": {},
     "output_type": "display_data"
    },
    {
     "data": {
      "text/plain": [
       "<AxesSubplot:xlabel='init_magnet', ylabel='length'>"
      ]
     },
     "execution_count": 58,
     "metadata": {},
     "output_type": "execute_result"
    }
   ],
   "source": [
    "ener_fig, ener_ax = plt.subplots()\n",
    "sns.violinplot(data = data, x= 'init_magnet', y = 'length')"
   ]
  }
 ],
 "metadata": {
  "kernelspec": {
   "display_name": "Python 3",
   "language": "python",
   "name": "python3"
  },
  "language_info": {
   "codemirror_mode": {
    "name": "ipython",
    "version": 3
   },
   "file_extension": ".py",
   "mimetype": "text/x-python",
   "name": "python",
   "nbconvert_exporter": "python",
   "pygments_lexer": "ipython3",
   "version": "3.8.5"
  }
 },
 "nbformat": 4,
 "nbformat_minor": 4
}
