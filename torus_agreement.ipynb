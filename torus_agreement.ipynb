{
 "cells": [
  {
   "cell_type": "code",
   "execution_count": 1,
   "metadata": {
    "ExecuteTime": {
     "end_time": "2021-02-25T04:22:09.355028Z",
     "start_time": "2021-02-25T04:22:08.460308Z"
    }
   },
   "outputs": [],
   "source": [
    "%matplotlib widget\n",
    "import numpy as np\n",
    "import matplotlib\n",
    "import matplotlib.pyplot as plt\n",
    "from matplotlib import animation, rc\n",
    "from IPython.display import HTML\n",
    "import seaborn as sns\n",
    "import pandas as pd\n",
    "from pathlib import Path\n",
    "data_dir = Path('data/Torus')"
   ]
  },
  {
   "cell_type": "code",
   "execution_count": 2,
   "metadata": {
    "ExecuteTime": {
     "end_time": "2021-02-25T04:22:09.383837Z",
     "start_time": "2021-02-25T04:22:09.375418Z"
    }
   },
   "outputs": [],
   "source": [
    "sns.set_style(\"whitegrid\")\n"
   ]
  },
  {
   "cell_type": "code",
   "execution_count": 3,
   "metadata": {
    "ExecuteTime": {
     "end_time": "2021-02-25T04:22:09.681334Z",
     "start_time": "2021-02-25T04:22:09.508964Z"
    }
   },
   "outputs": [],
   "source": [
    "from src.modules import Evolve, Torus, Ring, utils, Plotter, metric"
   ]
  },
  {
   "cell_type": "markdown",
   "metadata": {},
   "source": [
    "## Nivel de Consenso según el aumento de inestables\n",
    "## Grilla de 16 x 16      |       3000 pasos        |           400 muestras"
   ]
  },
  {
   "cell_type": "markdown",
   "metadata": {},
   "source": [
    "### Load"
   ]
  },
  {
   "cell_type": "code",
   "execution_count": 4,
   "metadata": {
    "ExecuteTime": {
     "end_time": "2021-02-25T04:22:19.492794Z",
     "start_time": "2021-02-25T04:22:19.072299Z"
    }
   },
   "outputs": [],
   "source": [
    "n=20\n",
    "title = 'Torus_agreement_{0}.csv'.format(n)\n",
    "data= pd.read_csv(data_dir /title)"
   ]
  },
  {
   "cell_type": "code",
   "execution_count": 6,
   "metadata": {
    "ExecuteTime": {
     "end_time": "2021-02-25T04:22:38.267757Z",
     "start_time": "2021-02-25T04:22:38.229518Z"
    }
   },
   "outputs": [],
   "source": [
    "data['runstab']=data.unstables/(400-data.unstables)"
   ]
  },
  {
   "cell_type": "code",
   "execution_count": 7,
   "metadata": {
    "ExecuteTime": {
     "end_time": "2021-02-25T04:22:38.992888Z",
     "start_time": "2021-02-25T04:22:38.916598Z"
    }
   },
   "outputs": [
    {
     "data": {
      "text/html": [
       "<div>\n",
       "<style scoped>\n",
       "    .dataframe tbody tr th:only-of-type {\n",
       "        vertical-align: middle;\n",
       "    }\n",
       "\n",
       "    .dataframe tbody tr th {\n",
       "        vertical-align: top;\n",
       "    }\n",
       "\n",
       "    .dataframe thead th {\n",
       "        text-align: right;\n",
       "    }\n",
       "</style>\n",
       "<table border=\"1\" class=\"dataframe\">\n",
       "  <thead>\n",
       "    <tr style=\"text-align: right;\">\n",
       "      <th></th>\n",
       "      <th>init_magnet</th>\n",
       "      <th>length</th>\n",
       "      <th>Consensus_mean</th>\n",
       "      <th>Magnetization_min</th>\n",
       "      <th>Magnetization_max</th>\n",
       "      <th>Magnetization_std</th>\n",
       "      <th>Energy</th>\n",
       "      <th>unstables</th>\n",
       "      <th>runstab</th>\n",
       "    </tr>\n",
       "  </thead>\n",
       "  <tbody>\n",
       "    <tr>\n",
       "      <th>0</th>\n",
       "      <td>0.0</td>\n",
       "      <td>1</td>\n",
       "      <td>0.005</td>\n",
       "      <td>0.005</td>\n",
       "      <td>0.005</td>\n",
       "      <td>0.0</td>\n",
       "      <td>-0.625</td>\n",
       "      <td>0</td>\n",
       "      <td>0.000000</td>\n",
       "    </tr>\n",
       "    <tr>\n",
       "      <th>1</th>\n",
       "      <td>0.0</td>\n",
       "      <td>1</td>\n",
       "      <td>0.005</td>\n",
       "      <td>0.005</td>\n",
       "      <td>0.005</td>\n",
       "      <td>0.0</td>\n",
       "      <td>-0.625</td>\n",
       "      <td>1</td>\n",
       "      <td>0.002506</td>\n",
       "    </tr>\n",
       "    <tr>\n",
       "      <th>2</th>\n",
       "      <td>0.0</td>\n",
       "      <td>1</td>\n",
       "      <td>0.005</td>\n",
       "      <td>0.005</td>\n",
       "      <td>0.005</td>\n",
       "      <td>0.0</td>\n",
       "      <td>-0.625</td>\n",
       "      <td>2</td>\n",
       "      <td>0.005025</td>\n",
       "    </tr>\n",
       "    <tr>\n",
       "      <th>3</th>\n",
       "      <td>0.0</td>\n",
       "      <td>1</td>\n",
       "      <td>0.005</td>\n",
       "      <td>0.005</td>\n",
       "      <td>0.005</td>\n",
       "      <td>0.0</td>\n",
       "      <td>-0.625</td>\n",
       "      <td>3</td>\n",
       "      <td>0.007557</td>\n",
       "    </tr>\n",
       "    <tr>\n",
       "      <th>4</th>\n",
       "      <td>0.0</td>\n",
       "      <td>1</td>\n",
       "      <td>0.005</td>\n",
       "      <td>0.005</td>\n",
       "      <td>0.005</td>\n",
       "      <td>0.0</td>\n",
       "      <td>-0.625</td>\n",
       "      <td>4</td>\n",
       "      <td>0.010101</td>\n",
       "    </tr>\n",
       "    <tr>\n",
       "      <th>...</th>\n",
       "      <td>...</td>\n",
       "      <td>...</td>\n",
       "      <td>...</td>\n",
       "      <td>...</td>\n",
       "      <td>...</td>\n",
       "      <td>...</td>\n",
       "      <td>...</td>\n",
       "      <td>...</td>\n",
       "      <td>...</td>\n",
       "    </tr>\n",
       "    <tr>\n",
       "      <th>205356</th>\n",
       "      <td>0.6</td>\n",
       "      <td>1</td>\n",
       "      <td>0.980</td>\n",
       "      <td>0.980</td>\n",
       "      <td>0.980</td>\n",
       "      <td>0.0</td>\n",
       "      <td>-0.980</td>\n",
       "      <td>65</td>\n",
       "      <td>0.194030</td>\n",
       "    </tr>\n",
       "    <tr>\n",
       "      <th>205357</th>\n",
       "      <td>0.6</td>\n",
       "      <td>1</td>\n",
       "      <td>0.980</td>\n",
       "      <td>0.980</td>\n",
       "      <td>0.980</td>\n",
       "      <td>0.0</td>\n",
       "      <td>-0.980</td>\n",
       "      <td>66</td>\n",
       "      <td>0.197605</td>\n",
       "    </tr>\n",
       "    <tr>\n",
       "      <th>205358</th>\n",
       "      <td>0.6</td>\n",
       "      <td>1</td>\n",
       "      <td>0.980</td>\n",
       "      <td>0.980</td>\n",
       "      <td>0.980</td>\n",
       "      <td>0.0</td>\n",
       "      <td>-0.980</td>\n",
       "      <td>67</td>\n",
       "      <td>0.201201</td>\n",
       "    </tr>\n",
       "    <tr>\n",
       "      <th>205359</th>\n",
       "      <td>0.6</td>\n",
       "      <td>1</td>\n",
       "      <td>1.000</td>\n",
       "      <td>1.000</td>\n",
       "      <td>1.000</td>\n",
       "      <td>0.0</td>\n",
       "      <td>-1.000</td>\n",
       "      <td>68</td>\n",
       "      <td>0.204819</td>\n",
       "    </tr>\n",
       "    <tr>\n",
       "      <th>205360</th>\n",
       "      <td>0.8</td>\n",
       "      <td>1</td>\n",
       "      <td>1.000</td>\n",
       "      <td>1.000</td>\n",
       "      <td>1.000</td>\n",
       "      <td>0.0</td>\n",
       "      <td>-1.000</td>\n",
       "      <td>0</td>\n",
       "      <td>0.000000</td>\n",
       "    </tr>\n",
       "  </tbody>\n",
       "</table>\n",
       "<p>205361 rows × 9 columns</p>\n",
       "</div>"
      ],
      "text/plain": [
       "        init_magnet  length  Consensus_mean  Magnetization_min  \\\n",
       "0               0.0       1           0.005              0.005   \n",
       "1               0.0       1           0.005              0.005   \n",
       "2               0.0       1           0.005              0.005   \n",
       "3               0.0       1           0.005              0.005   \n",
       "4               0.0       1           0.005              0.005   \n",
       "...             ...     ...             ...                ...   \n",
       "205356          0.6       1           0.980              0.980   \n",
       "205357          0.6       1           0.980              0.980   \n",
       "205358          0.6       1           0.980              0.980   \n",
       "205359          0.6       1           1.000              1.000   \n",
       "205360          0.8       1           1.000              1.000   \n",
       "\n",
       "        Magnetization_max  Magnetization_std  Energy  unstables   runstab  \n",
       "0                   0.005                0.0  -0.625          0  0.000000  \n",
       "1                   0.005                0.0  -0.625          1  0.002506  \n",
       "2                   0.005                0.0  -0.625          2  0.005025  \n",
       "3                   0.005                0.0  -0.625          3  0.007557  \n",
       "4                   0.005                0.0  -0.625          4  0.010101  \n",
       "...                   ...                ...     ...        ...       ...  \n",
       "205356              0.980                0.0  -0.980         65  0.194030  \n",
       "205357              0.980                0.0  -0.980         66  0.197605  \n",
       "205358              0.980                0.0  -0.980         67  0.201201  \n",
       "205359              1.000                0.0  -1.000         68  0.204819  \n",
       "205360              1.000                0.0  -1.000          0  0.000000  \n",
       "\n",
       "[205361 rows x 9 columns]"
      ]
     },
     "execution_count": 7,
     "metadata": {},
     "output_type": "execute_result"
    }
   ],
   "source": [
    "data"
   ]
  },
  {
   "cell_type": "code",
   "execution_count": 25,
   "metadata": {
    "ExecuteTime": {
     "end_time": "2021-01-21T18:57:47.082572Z",
     "start_time": "2021-01-21T18:57:47.028664Z"
    }
   },
   "outputs": [
    {
     "ename": "AttributeError",
     "evalue": "'DataFrame' object has no attribute 'runstab'",
     "output_type": "error",
     "traceback": [
      "\u001b[0;31m---------------------------------------------------------------------------\u001b[0m",
      "\u001b[0;31mAttributeError\u001b[0m                            Traceback (most recent call last)",
      "\u001b[0;32m<ipython-input-25-a4272c12eb50>\u001b[0m in \u001b[0;36m<module>\u001b[0;34m\u001b[0m\n\u001b[0;32m----> 1\u001b[0;31m \u001b[0mdata\u001b[0m \u001b[0;34m=\u001b[0m \u001b[0mdata\u001b[0m\u001b[0;34m[\u001b[0m\u001b[0mdata\u001b[0m\u001b[0;34m.\u001b[0m\u001b[0mrunstab\u001b[0m\u001b[0;34m!=\u001b[0m\u001b[0mnp\u001b[0m\u001b[0;34m.\u001b[0m\u001b[0minf\u001b[0m\u001b[0;34m]\u001b[0m\u001b[0;34m\u001b[0m\u001b[0;34m\u001b[0m\u001b[0m\n\u001b[0m",
      "\u001b[0;32m/usr/lib/python3.8/site-packages/pandas/core/generic.py\u001b[0m in \u001b[0;36m__getattr__\u001b[0;34m(self, name)\u001b[0m\n\u001b[1;32m   5137\u001b[0m             \u001b[0;32mif\u001b[0m \u001b[0mself\u001b[0m\u001b[0;34m.\u001b[0m\u001b[0m_info_axis\u001b[0m\u001b[0;34m.\u001b[0m\u001b[0m_can_hold_identifiers_and_holds_name\u001b[0m\u001b[0;34m(\u001b[0m\u001b[0mname\u001b[0m\u001b[0;34m)\u001b[0m\u001b[0;34m:\u001b[0m\u001b[0;34m\u001b[0m\u001b[0;34m\u001b[0m\u001b[0m\n\u001b[1;32m   5138\u001b[0m                 \u001b[0;32mreturn\u001b[0m \u001b[0mself\u001b[0m\u001b[0;34m[\u001b[0m\u001b[0mname\u001b[0m\u001b[0;34m]\u001b[0m\u001b[0;34m\u001b[0m\u001b[0;34m\u001b[0m\u001b[0m\n\u001b[0;32m-> 5139\u001b[0;31m             \u001b[0;32mreturn\u001b[0m \u001b[0mobject\u001b[0m\u001b[0;34m.\u001b[0m\u001b[0m__getattribute__\u001b[0m\u001b[0;34m(\u001b[0m\u001b[0mself\u001b[0m\u001b[0;34m,\u001b[0m \u001b[0mname\u001b[0m\u001b[0;34m)\u001b[0m\u001b[0;34m\u001b[0m\u001b[0;34m\u001b[0m\u001b[0m\n\u001b[0m\u001b[1;32m   5140\u001b[0m \u001b[0;34m\u001b[0m\u001b[0m\n\u001b[1;32m   5141\u001b[0m     \u001b[0;32mdef\u001b[0m \u001b[0m__setattr__\u001b[0m\u001b[0;34m(\u001b[0m\u001b[0mself\u001b[0m\u001b[0;34m,\u001b[0m \u001b[0mname\u001b[0m\u001b[0;34m:\u001b[0m \u001b[0mstr\u001b[0m\u001b[0;34m,\u001b[0m \u001b[0mvalue\u001b[0m\u001b[0;34m)\u001b[0m \u001b[0;34m->\u001b[0m \u001b[0;32mNone\u001b[0m\u001b[0;34m:\u001b[0m\u001b[0;34m\u001b[0m\u001b[0;34m\u001b[0m\u001b[0m\n",
      "\u001b[0;31mAttributeError\u001b[0m: 'DataFrame' object has no attribute 'runstab'"
     ]
    }
   ],
   "source": [
    "data = data[data.runstab!=np.inf]"
   ]
  },
  {
   "cell_type": "code",
   "execution_count": 29,
   "metadata": {
    "ExecuteTime": {
     "end_time": "2021-01-21T19:00:11.763705Z",
     "start_time": "2021-01-21T19:00:11.685347Z"
    }
   },
   "outputs": [
    {
     "data": {
      "text/html": [
       "<div>\n",
       "<style scoped>\n",
       "    .dataframe tbody tr th:only-of-type {\n",
       "        vertical-align: middle;\n",
       "    }\n",
       "\n",
       "    .dataframe tbody tr th {\n",
       "        vertical-align: top;\n",
       "    }\n",
       "\n",
       "    .dataframe thead th {\n",
       "        text-align: right;\n",
       "    }\n",
       "</style>\n",
       "<table border=\"1\" class=\"dataframe\">\n",
       "  <thead>\n",
       "    <tr style=\"text-align: right;\">\n",
       "      <th></th>\n",
       "      <th>init_magnet</th>\n",
       "      <th>length</th>\n",
       "      <th>Consensus_mean</th>\n",
       "      <th>Magnetization_min</th>\n",
       "      <th>Magnetization_max</th>\n",
       "      <th>Magnetization_std</th>\n",
       "      <th>Energy</th>\n",
       "      <th>unstables</th>\n",
       "      <th>runstab</th>\n",
       "    </tr>\n",
       "  </thead>\n",
       "  <tbody>\n",
       "    <tr>\n",
       "      <th>0</th>\n",
       "      <td>0.0</td>\n",
       "      <td>1</td>\n",
       "      <td>0.005</td>\n",
       "      <td>0.005</td>\n",
       "      <td>0.005</td>\n",
       "      <td>0.0</td>\n",
       "      <td>-0.625</td>\n",
       "      <td>0</td>\n",
       "      <td>0.000000</td>\n",
       "    </tr>\n",
       "    <tr>\n",
       "      <th>1</th>\n",
       "      <td>0.0</td>\n",
       "      <td>1</td>\n",
       "      <td>0.005</td>\n",
       "      <td>0.005</td>\n",
       "      <td>0.005</td>\n",
       "      <td>0.0</td>\n",
       "      <td>-0.625</td>\n",
       "      <td>1</td>\n",
       "      <td>0.002506</td>\n",
       "    </tr>\n",
       "    <tr>\n",
       "      <th>2</th>\n",
       "      <td>0.0</td>\n",
       "      <td>1</td>\n",
       "      <td>0.005</td>\n",
       "      <td>0.005</td>\n",
       "      <td>0.005</td>\n",
       "      <td>0.0</td>\n",
       "      <td>-0.625</td>\n",
       "      <td>2</td>\n",
       "      <td>0.005025</td>\n",
       "    </tr>\n",
       "    <tr>\n",
       "      <th>3</th>\n",
       "      <td>0.0</td>\n",
       "      <td>1</td>\n",
       "      <td>0.005</td>\n",
       "      <td>0.005</td>\n",
       "      <td>0.005</td>\n",
       "      <td>0.0</td>\n",
       "      <td>-0.625</td>\n",
       "      <td>3</td>\n",
       "      <td>0.007557</td>\n",
       "    </tr>\n",
       "    <tr>\n",
       "      <th>4</th>\n",
       "      <td>0.0</td>\n",
       "      <td>1</td>\n",
       "      <td>0.005</td>\n",
       "      <td>0.005</td>\n",
       "      <td>0.005</td>\n",
       "      <td>0.0</td>\n",
       "      <td>-0.625</td>\n",
       "      <td>4</td>\n",
       "      <td>0.010101</td>\n",
       "    </tr>\n",
       "    <tr>\n",
       "      <th>...</th>\n",
       "      <td>...</td>\n",
       "      <td>...</td>\n",
       "      <td>...</td>\n",
       "      <td>...</td>\n",
       "      <td>...</td>\n",
       "      <td>...</td>\n",
       "      <td>...</td>\n",
       "      <td>...</td>\n",
       "      <td>...</td>\n",
       "    </tr>\n",
       "    <tr>\n",
       "      <th>205356</th>\n",
       "      <td>0.6</td>\n",
       "      <td>1</td>\n",
       "      <td>0.980</td>\n",
       "      <td>0.980</td>\n",
       "      <td>0.980</td>\n",
       "      <td>0.0</td>\n",
       "      <td>-0.980</td>\n",
       "      <td>65</td>\n",
       "      <td>0.194030</td>\n",
       "    </tr>\n",
       "    <tr>\n",
       "      <th>205357</th>\n",
       "      <td>0.6</td>\n",
       "      <td>1</td>\n",
       "      <td>0.980</td>\n",
       "      <td>0.980</td>\n",
       "      <td>0.980</td>\n",
       "      <td>0.0</td>\n",
       "      <td>-0.980</td>\n",
       "      <td>66</td>\n",
       "      <td>0.197605</td>\n",
       "    </tr>\n",
       "    <tr>\n",
       "      <th>205358</th>\n",
       "      <td>0.6</td>\n",
       "      <td>1</td>\n",
       "      <td>0.980</td>\n",
       "      <td>0.980</td>\n",
       "      <td>0.980</td>\n",
       "      <td>0.0</td>\n",
       "      <td>-0.980</td>\n",
       "      <td>67</td>\n",
       "      <td>0.201201</td>\n",
       "    </tr>\n",
       "    <tr>\n",
       "      <th>205359</th>\n",
       "      <td>0.6</td>\n",
       "      <td>1</td>\n",
       "      <td>1.000</td>\n",
       "      <td>1.000</td>\n",
       "      <td>1.000</td>\n",
       "      <td>0.0</td>\n",
       "      <td>-1.000</td>\n",
       "      <td>68</td>\n",
       "      <td>0.204819</td>\n",
       "    </tr>\n",
       "    <tr>\n",
       "      <th>205360</th>\n",
       "      <td>0.8</td>\n",
       "      <td>1</td>\n",
       "      <td>1.000</td>\n",
       "      <td>1.000</td>\n",
       "      <td>1.000</td>\n",
       "      <td>0.0</td>\n",
       "      <td>-1.000</td>\n",
       "      <td>0</td>\n",
       "      <td>0.000000</td>\n",
       "    </tr>\n",
       "  </tbody>\n",
       "</table>\n",
       "<p>205361 rows × 9 columns</p>\n",
       "</div>"
      ],
      "text/plain": [
       "        init_magnet  length  Consensus_mean  Magnetization_min  \\\n",
       "0               0.0       1           0.005              0.005   \n",
       "1               0.0       1           0.005              0.005   \n",
       "2               0.0       1           0.005              0.005   \n",
       "3               0.0       1           0.005              0.005   \n",
       "4               0.0       1           0.005              0.005   \n",
       "...             ...     ...             ...                ...   \n",
       "205356          0.6       1           0.980              0.980   \n",
       "205357          0.6       1           0.980              0.980   \n",
       "205358          0.6       1           0.980              0.980   \n",
       "205359          0.6       1           1.000              1.000   \n",
       "205360          0.8       1           1.000              1.000   \n",
       "\n",
       "        Magnetization_max  Magnetization_std  Energy  unstables   runstab  \n",
       "0                   0.005                0.0  -0.625          0  0.000000  \n",
       "1                   0.005                0.0  -0.625          1  0.002506  \n",
       "2                   0.005                0.0  -0.625          2  0.005025  \n",
       "3                   0.005                0.0  -0.625          3  0.007557  \n",
       "4                   0.005                0.0  -0.625          4  0.010101  \n",
       "...                   ...                ...     ...        ...       ...  \n",
       "205356              0.980                0.0  -0.980         65  0.194030  \n",
       "205357              0.980                0.0  -0.980         66  0.197605  \n",
       "205358              0.980                0.0  -0.980         67  0.201201  \n",
       "205359              1.000                0.0  -1.000         68  0.204819  \n",
       "205360              1.000                0.0  -1.000          0  0.000000  \n",
       "\n",
       "[205361 rows x 9 columns]"
      ]
     },
     "execution_count": 29,
     "metadata": {},
     "output_type": "execute_result"
    }
   ],
   "source": [
    "data"
   ]
  },
  {
   "cell_type": "code",
   "execution_count": 8,
   "metadata": {
    "ExecuteTime": {
     "end_time": "2021-02-25T04:22:57.403801Z",
     "start_time": "2021-02-25T04:22:57.305587Z"
    }
   },
   "outputs": [],
   "source": [
    "df = data.query('init_magnet <=0.4')"
   ]
  },
  {
   "cell_type": "code",
   "execution_count": 9,
   "metadata": {
    "ExecuteTime": {
     "end_time": "2021-02-25T04:22:59.758211Z",
     "start_time": "2021-02-25T04:22:59.401424Z"
    },
    "scrolled": true
   },
   "outputs": [
    {
     "data": {
      "application/vnd.jupyter.widget-view+json": {
       "model_id": "ba17bf8dbd084c70a5a3c88506bf9b48",
       "version_major": 2,
       "version_minor": 0
      },
      "text/plain": [
       "Canvas(toolbar=Toolbar(toolitems=[('Home', 'Reset original view', 'home', 'home'), ('Back', 'Back to previous …"
      ]
     },
     "metadata": {},
     "output_type": "display_data"
    },
    {
     "data": {
      "text/plain": [
       "<matplotlib.legend.Legend at 0x7f8dcbff33a0>"
      ]
     },
     "execution_count": 9,
     "metadata": {},
     "output_type": "execute_result"
    }
   ],
   "source": [
    "fig, ax = plt.subplots()\n",
    "sns.lineplot(data=df, x='unstables', y='Consensus_mean', ci=None, hue='init_magnet')\n",
    "plt.legend(bbox_to_anchor=(0.85, 1.1), loc=2, borderaxespad=0.)"
   ]
  },
  {
   "cell_type": "code",
   "execution_count": 33,
   "metadata": {
    "ExecuteTime": {
     "end_time": "2021-01-21T19:14:35.601306Z",
     "start_time": "2021-01-21T19:14:35.353534Z"
    }
   },
   "outputs": [],
   "source": [
    "plt.savefig('data/torus_agreement_uns.svg', format='svg', transparent=True)"
   ]
  },
  {
   "cell_type": "code",
   "execution_count": 34,
   "metadata": {
    "ExecuteTime": {
     "end_time": "2021-01-21T19:14:38.563913Z",
     "start_time": "2021-01-21T19:14:38.222737Z"
    },
    "scrolled": true
   },
   "outputs": [
    {
     "data": {
      "application/vnd.jupyter.widget-view+json": {
       "model_id": "f85f6b80e68f4319809677ed6ded2c05",
       "version_major": 2,
       "version_minor": 0
      },
      "text/plain": [
       "Canvas(toolbar=Toolbar(toolitems=[('Home', 'Reset original view', 'home', 'home'), ('Back', 'Back to previous …"
      ]
     },
     "metadata": {},
     "output_type": "display_data"
    },
    {
     "data": {
      "text/plain": [
       "<matplotlib.legend.Legend at 0x7faa1c2a6c10>"
      ]
     },
     "execution_count": 34,
     "metadata": {},
     "output_type": "execute_result"
    }
   ],
   "source": [
    "fig, ax = plt.subplots()\n",
    "sns.lineplot(data=df, x='runstab', y='Consensus_mean', ci=None, hue='init_magnet')\n",
    "plt.legend(bbox_to_anchor=(0.85, 1.1), loc=2, borderaxespad=0.)"
   ]
  },
  {
   "cell_type": "code",
   "execution_count": 35,
   "metadata": {
    "ExecuteTime": {
     "end_time": "2021-01-21T19:14:53.459957Z",
     "start_time": "2021-01-21T19:14:53.240276Z"
    }
   },
   "outputs": [],
   "source": [
    "plt.savefig('data/torus_agreement.runs.svg', format='svg', transparent=True)"
   ]
  },
  {
   "cell_type": "code",
   "execution_count": 7,
   "metadata": {
    "ExecuteTime": {
     "end_time": "2021-01-21T18:42:12.774922Z",
     "start_time": "2021-01-21T18:41:29.761399Z"
    }
   },
   "outputs": [
    {
     "data": {
      "application/vnd.jupyter.widget-view+json": {
       "model_id": "100839073e404049bafdbb40594a66dd",
       "version_major": 2,
       "version_minor": 0
      },
      "text/plain": [
       "Canvas(toolbar=Toolbar(toolitems=[('Home', 'Reset original view', 'home', 'home'), ('Back', 'Back to previous …"
      ]
     },
     "metadata": {},
     "output_type": "display_data"
    },
    {
     "name": "stdout",
     "output_type": "stream",
     "text": [
      "0.0 0.07194871794871796\n",
      "0.2 0.48128205128205126\n",
      "0.4 0.8182307692307693\n",
      "0.6 0.9621538461538461\n",
      "0.8 0.9973846153846154\n"
     ]
    },
    {
     "data": {
      "text/plain": [
       "<seaborn.axisgrid.FacetGrid at 0x7faa23c89070>"
      ]
     },
     "execution_count": 7,
     "metadata": {},
     "output_type": "execute_result"
    }
   ],
   "source": [
    "facet = sns.FacetGrid(data,  # the dataframe to pull from\n",
    "                          row=\"init_magnet\",  # define the column for each subplot row to be differentiated by\n",
    "                          hue=\"init_magnet\",  # define the column for each subplot color to be differentiated by\n",
    "                          aspect=6,  # aspect * height = width\n",
    "                          height=2,  # height of each subplot\n",
    "                          )\n",
    "by_magnet = data.groupby(\"init_magnet\")\n",
    "def init_magnet(x, color, label):\n",
    "    ax= plt.gca()\n",
    "    fix_magnet = by_magnet.get_group(float(label))\n",
    "    val = np.mean(fix_magnet.loc[fix_magnet[\"unstables\"] == 0][\"Consensus_mean\"].values)\n",
    "    print(label, val)\n",
    "    plt.axhline(y=val, ls=\"--\")\n",
    "    \n",
    "facet.map(init_magnet, \"init_magnet\")\n",
    "facet.map(sns.lineplot,'unstables',\"Consensus_mean\")\n",
    "#facet.map(sns.lineplot, 'unstables', \"Magnetization_min\", ls=\"--\")\n",
    "#facet.map(sns.lineplot, 'unstables', \"Magnetization_max\", ls= \"--\")\n",
    "\n",
    "def label(x, color, label):\n",
    "    ax = plt.gca()  # get the axes of the current object\n",
    "    ax.text(0, .2,  # location of text\n",
    "            label,  # text label\n",
    "            fontweight=\"bold\", color=color, size=18,  # text attributes\n",
    "            ha=\"left\", va=\"center\",  # alignment specifications\n",
    "            transform=ax.transAxes)  # specify axes of transformation\n",
    "        \n",
    "\n",
    "facet.map(label, \"Consensus_mean\")  # the function counts as a plotting object!\n",
    "facet.set_titles(\"\")  # set title to blank"
   ]
  },
  {
   "cell_type": "markdown",
   "metadata": {},
   "source": [
    "## Nivel de Consenso según el aumento de inestables\n",
    "## Grilla de 18 x 18      |       3500 pasos        |           400 muestras"
   ]
  },
  {
   "cell_type": "markdown",
   "metadata": {},
   "source": [
    "### Load"
   ]
  },
  {
   "cell_type": "code",
   "execution_count": 7,
   "metadata": {},
   "outputs": [],
   "source": [
    "n=18\n",
    "title = 'Torus_agreement_{0}.csv'.format(n)\n",
    "data= pd.read_csv(data_dir /title)"
   ]
  },
  {
   "cell_type": "code",
   "execution_count": 8,
   "metadata": {
    "scrolled": false
   },
   "outputs": [
    {
     "data": {
      "application/vnd.jupyter.widget-view+json": {
       "model_id": "0e68144700d34238a8ace0862937ef5e",
       "version_major": 2,
       "version_minor": 0
      },
      "text/plain": [
       "Canvas(toolbar=Toolbar(toolitems=[('Home', 'Reset original view', 'home', 'home'), ('Back', 'Back to previous …"
      ]
     },
     "metadata": {},
     "output_type": "display_data"
    },
    {
     "name": "stdout",
     "output_type": "stream",
     "text": [
      "0.0 0.07271604938271604\n",
      "0.2 0.4860956790123456\n",
      "0.4 0.8142901234567901\n",
      "0.6 0.9622376543209876\n",
      "0.8 0.9978395061728395\n"
     ]
    },
    {
     "data": {
      "text/plain": [
       "<seaborn.axisgrid.FacetGrid at 0x7f8981125190>"
      ]
     },
     "execution_count": 8,
     "metadata": {},
     "output_type": "execute_result"
    }
   ],
   "source": [
    "facet = sns.FacetGrid(data,  # the dataframe to pull from\n",
    "                          row=\"init_magnet\",  # define the column for each subplot row to be differentiated by\n",
    "                          hue=\"init_magnet\",  # define the column for each subplot color to be differentiated by\n",
    "                          aspect=6,  # aspect * height = width\n",
    "                          height=2,  # height of each subplot\n",
    "                          )\n",
    "by_magnet = data.groupby(\"init_magnet\")\n",
    "def init_magnet(x, color, label):\n",
    "    ax= plt.gca()\n",
    "    fix_magnet = by_magnet.get_group(float(label))\n",
    "    val = np.mean(fix_magnet.loc[fix_magnet[\"unstables\"] == 0][\"Consensus_mean\"].values)\n",
    "    print(label, val)\n",
    "    plt.axhline(y=val, ls=\"--\")\n",
    "    \n",
    "facet.map(init_magnet, \"init_magnet\")\n",
    "facet.map(sns.lineplot,'unstables',\"Consensus_mean\")\n",
    "#facet.map(sns.lineplot, 'unstables', \"Magnetization_min\", ls=\"--\")\n",
    "#facet.map(sns.lineplot, 'unstables', \"Magnetization_max\", ls= \"--\")\n",
    "\n",
    "def label(x, color, label):\n",
    "    ax = plt.gca()  # get the axes of the current object\n",
    "    ax.text(0, .2,  # location of text\n",
    "            label,  # text label\n",
    "            fontweight=\"bold\", color=color, size=18,  # text attributes\n",
    "            ha=\"left\", va=\"center\",  # alignment specifications\n",
    "            transform=ax.transAxes)  # specify axes of transformation\n",
    "        \n",
    "\n",
    "facet.map(label, \"Consensus_mean\")  # the function counts as a plotting object!\n",
    "facet.set_titles(\"\")  # set title to blank"
   ]
  },
  {
   "cell_type": "markdown",
   "metadata": {},
   "source": [
    "## Decaimiento de energía al agregar inestabilidad"
   ]
  },
  {
   "cell_type": "code",
   "execution_count": 9,
   "metadata": {},
   "outputs": [
    {
     "data": {
      "application/vnd.jupyter.widget-view+json": {
       "model_id": "009018256baa4f178ca9bc5e8cadd825",
       "version_major": 2,
       "version_minor": 0
      },
      "text/plain": [
       "Canvas(toolbar=Toolbar(toolitems=[('Home', 'Reset original view', 'home', 'home'), ('Back', 'Back to previous …"
      ]
     },
     "metadata": {},
     "output_type": "display_data"
    },
    {
     "name": "stdout",
     "output_type": "stream",
     "text": [
      "0.0 -0.6005092592592592\n",
      "0.2 -0.6975308641975309\n",
      "0.4 -0.8582407407407407\n",
      "0.6 -0.9663734567901235\n",
      "0.8 -0.9979012345679013\n"
     ]
    },
    {
     "data": {
      "text/plain": [
       "<seaborn.axisgrid.FacetGrid at 0x7f8980b522b0>"
      ]
     },
     "execution_count": 9,
     "metadata": {},
     "output_type": "execute_result"
    }
   ],
   "source": [
    "facet = sns.FacetGrid(data,  # the dataframe to pull from\n",
    "                          row=\"init_magnet\",  # define the column for each subplot row to be differentiated by\n",
    "                          hue=\"init_magnet\",  # define the column for each subplot color to be differentiated by\n",
    "                          aspect=6,  # aspect * height = width\n",
    "                          height=2,  # height of each subplot\n",
    "                          )\n",
    "def init_magnet(x, color, label):\n",
    "    ax= plt.gca()\n",
    "    fix_magnet = by_magnet.get_group(float(label))\n",
    "    val = np.mean(fix_magnet.loc[fix_magnet[\"unstables\"] == 0][\"Energy\"].values)\n",
    "    print(label, val)\n",
    "    plt.axhline(y=val, ls=\"--\")\n",
    "    \n",
    "facet.map(init_magnet, \"init_magnet\")\n",
    "facet.map(sns.lineplot,'unstables',\"Energy\")\n",
    "#facet.map(sns.lineplot, 'unstables', \"Magnetization_min\", ls=\"--\")\n",
    "#facet.map(sns.lineplot, 'unstables', \"Magnetization_max\", ls= \"--\")\n",
    "\n",
    "def label(x, color, label):\n",
    "    ax = plt.gca()  # get the axes of the current object\n",
    "    ax.text(0, .2,  # location of text\n",
    "            label,  # text label\n",
    "            fontweight=\"bold\", color=color, size=18,  # text attributes\n",
    "            ha=\"left\", va=\"center\",  # alignment specifications\n",
    "            transform=ax.transAxes)  # specify axes of transformation\n",
    "        \n",
    "\n",
    "facet.map(label, \"Energy\")  # the function counts as a plotting object!\n",
    "facet.set_titles(\"\")  # set title to blank"
   ]
  },
  {
   "cell_type": "code",
   "execution_count": 10,
   "metadata": {},
   "outputs": [],
   "source": [
    "by_magnet = data.groupby(\"init_magnet\")"
   ]
  },
  {
   "cell_type": "code",
   "execution_count": 12,
   "metadata": {},
   "outputs": [
    {
     "data": {
      "text/plain": [
       "400"
      ]
     },
     "execution_count": 12,
     "metadata": {},
     "output_type": "execute_result"
    }
   ],
   "source": [
    "fix_magnet = by_magnet.get_group(0.4)\n",
    "val = np.mean(fix_magnet.loc[fix_magnet[\"unstables\"] == 0][\"Consensus_mean\"].values)\n",
    "\n",
    "vow = fix_magnet[ fix_magnet['unstables'] == 0]['init_magnet'].count()\n",
    "vow"
   ]
  },
  {
   "cell_type": "markdown",
   "metadata": {},
   "source": [
    "## Nivel de Consenso según el aumento de inestables\n",
    "## Grilla de 20 x 20      |       5000 pasos        |           400 muestras"
   ]
  },
  {
   "cell_type": "markdown",
   "metadata": {},
   "source": [
    "### Load"
   ]
  },
  {
   "cell_type": "code",
   "execution_count": 16,
   "metadata": {},
   "outputs": [],
   "source": [
    "n=20\n",
    "title = 'Torus_agreement_{0}.csv'.format(n)\n",
    "data= pd.read_csv(data_dir /title)"
   ]
  },
  {
   "cell_type": "code",
   "execution_count": 17,
   "metadata": {},
   "outputs": [
    {
     "data": {
      "application/vnd.jupyter.widget-view+json": {
       "model_id": "10475048bb864a6b9d40b5b55ae9b285",
       "version_major": 2,
       "version_minor": 0
      },
      "text/plain": [
       "Canvas(toolbar=Toolbar(toolitems=[('Home', 'Reset original view', 'home', 'home'), ('Back', 'Back to previous …"
      ]
     },
     "metadata": {},
     "output_type": "display_data"
    },
    {
     "name": "stdout",
     "output_type": "stream",
     "text": [
      "0.0 0.07194871794871796\n",
      "0.2 0.48128205128205126\n",
      "0.4 0.8182307692307693\n",
      "0.6 0.9621538461538461\n",
      "0.8 0.9973846153846154\n"
     ]
    },
    {
     "data": {
      "text/plain": [
       "<seaborn.axisgrid.FacetGrid at 0x7f897c1851f0>"
      ]
     },
     "execution_count": 17,
     "metadata": {},
     "output_type": "execute_result"
    }
   ],
   "source": [
    "facet = sns.FacetGrid(data,  # the dataframe to pull from\n",
    "                          row=\"init_magnet\",  # define the column for each subplot row to be differentiated by\n",
    "                          hue=\"init_magnet\",  # define the column for each subplot color to be differentiated by\n",
    "                          aspect=6,  # aspect * height = width\n",
    "                          height=2,  # height of each subplot\n",
    "                          )\n",
    "by_magnet = data.groupby(\"init_magnet\")\n",
    "def init_magnet(x, color, label):\n",
    "    ax= plt.gca()\n",
    "    fix_magnet = by_magnet.get_group(float(label))\n",
    "    val = np.mean(fix_magnet.loc[fix_magnet[\"unstables\"] == 0][\"Consensus_mean\"].values)\n",
    "    print(label, val)\n",
    "    plt.axhline(y=val, ls=\"--\")\n",
    "    \n",
    "facet.map(init_magnet, \"init_magnet\")\n",
    "facet.map(sns.lineplot,'unstables',\"Consensus_mean\")\n",
    "#facet.map(sns.lineplot, 'unstables', \"Magnetization_min\", ls=\"--\")\n",
    "#facet.map(sns.lineplot, 'unstables', \"Magnetization_max\", ls= \"--\")\n",
    "\n",
    "def label(x, color, label):\n",
    "    ax = plt.gca()  # get the axes of the current object\n",
    "    ax.text(0, .2,  # location of text\n",
    "            label,  # text label\n",
    "            fontweight=\"bold\", color=color, size=18,  # text attributes\n",
    "            ha=\"left\", va=\"center\",  # alignment specifications\n",
    "            transform=ax.transAxes)  # specify axes of transformation\n",
    "        \n",
    "\n",
    "facet.map(label, \"Consensus_mean\")  # the function counts as a plotting object!\n",
    "facet.set_titles(\"\")  # set title to blank"
   ]
  },
  {
   "cell_type": "markdown",
   "metadata": {},
   "source": [
    "## Decaimiento de energía al agregar inestabilidad"
   ]
  },
  {
   "cell_type": "code",
   "execution_count": 15,
   "metadata": {},
   "outputs": [
    {
     "data": {
      "application/vnd.jupyter.widget-view+json": {
       "model_id": "6ce69b7645504baf906d0346f644504f",
       "version_major": 2,
       "version_minor": 0
      },
      "text/plain": [
       "Canvas(toolbar=Toolbar(toolitems=[('Home', 'Reset original view', 'home', 'home'), ('Back', 'Back to previous …"
      ]
     },
     "metadata": {},
     "output_type": "display_data"
    },
    {
     "name": "stdout",
     "output_type": "stream",
     "text": [
      "0.0 -0.6042307692307692\n",
      "0.2 -0.692923076923077\n",
      "0.4 -0.8611794871794872\n",
      "0.6 -0.9656153846153847\n",
      "0.8 -0.9975641025641026\n"
     ]
    },
    {
     "data": {
      "text/plain": [
       "<seaborn.axisgrid.FacetGrid at 0x7f897c37f6a0>"
      ]
     },
     "execution_count": 15,
     "metadata": {},
     "output_type": "execute_result"
    }
   ],
   "source": [
    "facet = sns.FacetGrid(data,  # the dataframe to pull from\n",
    "                          row=\"init_magnet\",  # define the column for each subplot row to be differentiated by\n",
    "                          hue=\"init_magnet\",  # define the column for each subplot color to be differentiated by\n",
    "                          aspect=6,  # aspect * height = width\n",
    "                          height=2,  # height of each subplot\n",
    "                          )\n",
    "def init_magnet(x, color, label):\n",
    "    ax= plt.gca()\n",
    "    fix_magnet = by_magnet.get_group(float(label))\n",
    "    val = np.mean(fix_magnet.loc[fix_magnet[\"unstables\"] == 0][\"Energy\"].values)\n",
    "    print(label, val)\n",
    "    plt.axhline(y=val, ls=\"--\")\n",
    "    \n",
    "facet.map(init_magnet, \"init_magnet\")\n",
    "facet.map(sns.lineplot,'unstables',\"Energy\")\n",
    "#facet.map(sns.lineplot, 'unstables', \"Magnetization_min\", ls=\"--\")\n",
    "#facet.map(sns.lineplot, 'unstables', \"Magnetization_max\", ls= \"--\")\n",
    "\n",
    "def label(x, color, label):\n",
    "    ax = plt.gca()  # get the axes of the current object\n",
    "    ax.text(0, .2,  # location of text\n",
    "            label,  # text label\n",
    "            fontweight=\"bold\", color=color, size=18,  # text attributes\n",
    "            ha=\"left\", va=\"center\",  # alignment specifications\n",
    "            transform=ax.transAxes)  # specify axes of transformation\n",
    "        \n",
    "\n",
    "facet.map(label, \"Energy\")  # the function counts as a plotting object!\n",
    "facet.set_titles(\"\")  # set title to blank"
   ]
  }
 ],
 "metadata": {
  "kernelspec": {
   "display_name": "Python 3",
   "language": "python",
   "name": "python3"
  },
  "language_info": {
   "codemirror_mode": {
    "name": "ipython",
    "version": 3
   },
   "file_extension": ".py",
   "mimetype": "text/x-python",
   "name": "python",
   "nbconvert_exporter": "python",
   "pygments_lexer": "ipython3",
   "version": "3.9.1"
  },
  "varInspector": {
   "cols": {
    "lenName": 16,
    "lenType": 16,
    "lenVar": 40
   },
   "kernels_config": {
    "python": {
     "delete_cmd_postfix": "",
     "delete_cmd_prefix": "del ",
     "library": "var_list.py",
     "varRefreshCmd": "print(var_dic_list())"
    },
    "r": {
     "delete_cmd_postfix": ") ",
     "delete_cmd_prefix": "rm(",
     "library": "var_list.r",
     "varRefreshCmd": "cat(var_dic_list()) "
    }
   },
   "types_to_exclude": [
    "module",
    "function",
    "builtin_function_or_method",
    "instance",
    "_Feature"
   ],
   "window_display": false
  }
 },
 "nbformat": 4,
 "nbformat_minor": 4
}
