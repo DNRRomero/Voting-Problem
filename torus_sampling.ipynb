{
 "cells": [
  {
   "cell_type": "code",
   "execution_count": 1,
   "metadata": {},
   "outputs": [],
   "source": [
    "%matplotlib widget\n",
    "import numpy as np\n",
    "import matplotlib\n",
    "import matplotlib.pyplot as plt\n",
    "from matplotlib import animation, rc\n",
    "from IPython.display import HTML\n",
    "import seaborn as sns\n",
    "import pandas as pd\n",
    "from pathlib import Path\n",
    "data = Path('data/Torus')"
   ]
  },
  {
   "cell_type": "code",
   "execution_count": 2,
   "metadata": {},
   "outputs": [],
   "source": [
    "sns.set_style(\"whitegrid\")\n",
    "sns.set_palette(sns.color_palette())"
   ]
  },
  {
   "cell_type": "code",
   "execution_count": 3,
   "metadata": {},
   "outputs": [],
   "source": [
    "from src.modules import Evolve, Torus, Ring, utils, Plotter, metric"
   ]
  },
  {
   "cell_type": "markdown",
   "metadata": {},
   "source": [
    "# Grilla 16x16\n",
    "# $p_{stable} \\in \\{0, 0.1, 0.3, 0.5, 0.7, 0.9, 1\n",
    "\\}$\n",
    "# 400 muestras |  orden: izqda a derecha"
   ]
  },
  {
   "cell_type": "markdown",
   "metadata": {},
   "source": [
    "### Load"
   ]
  },
  {
   "cell_type": "code",
   "execution_count": 4,
   "metadata": {},
   "outputs": [],
   "source": [
    "df= pd.read_csv(data / 'Torus_sampler_16_fixed_canon.csv')"
   ]
  },
  {
   "cell_type": "markdown",
   "metadata": {},
   "source": [
    "## Energy"
   ]
  },
  {
   "cell_type": "code",
   "execution_count": 5,
   "metadata": {
    "scrolled": true
   },
   "outputs": [
    {
     "data": {
      "application/vnd.jupyter.widget-view+json": {
       "model_id": "493668eae1d543e0b83b7e08ec1c152b",
       "version_major": 2,
       "version_minor": 0
      },
      "text/plain": [
       "Canvas(toolbar=Toolbar(toolitems=[('Home', 'Reset original view', 'home', 'home'), ('Back', 'Back to previous …"
      ]
     },
     "metadata": {},
     "output_type": "display_data"
    },
    {
     "data": {
      "text/plain": [
       "<AxesSubplot:xlabel='$p_{stable}$', ylabel='Energy'>"
      ]
     },
     "execution_count": 5,
     "metadata": {},
     "output_type": "execute_result"
    }
   ],
   "source": [
    "ener_fig, ax =plt.subplots()\n",
    "sns.violinplot(x='$p_{stable}$', y='Energy', data= df, scale='count', bw=.2, cut=0)"
   ]
  },
  {
   "cell_type": "markdown",
   "metadata": {},
   "source": [
    "## Magnetization"
   ]
  },
  {
   "cell_type": "code",
   "execution_count": 6,
   "metadata": {},
   "outputs": [
    {
     "data": {
      "application/vnd.jupyter.widget-view+json": {
       "model_id": "29d87b2fb7754964baf003a87437cbb7",
       "version_major": 2,
       "version_minor": 0
      },
      "text/plain": [
       "Canvas(toolbar=Toolbar(toolitems=[('Home', 'Reset original view', 'home', 'home'), ('Back', 'Back to previous …"
      ]
     },
     "metadata": {},
     "output_type": "display_data"
    },
    {
     "data": {
      "text/plain": [
       "<AxesSubplot:xlabel='$p_{stable}$', ylabel='Consensus'>"
      ]
     },
     "execution_count": 6,
     "metadata": {},
     "output_type": "execute_result"
    }
   ],
   "source": [
    "magnet_fig, ax =plt.subplots()\n",
    "sns.violinplot(x='$p_{stable}$', y='Consensus', data= df, scale='count', bw=.2, cut=0)"
   ]
  },
  {
   "cell_type": "markdown",
   "metadata": {},
   "source": [
    "# Grilla 32x32\n",
    "# $p_{stable} \\in \\{0, 0.1, 0.3, 0.5, 0.7, 0.9, 1\n",
    "\\}$\n",
    "# 400 muestras |  orden: random"
   ]
  },
  {
   "cell_type": "markdown",
   "metadata": {},
   "source": [
    "### Load Data set"
   ]
  },
  {
   "cell_type": "code",
   "execution_count": 7,
   "metadata": {},
   "outputs": [],
   "source": [
    "df= pd.read_csv(data / 'Torus_sampler_32_fixed_rand_1.csv')"
   ]
  },
  {
   "cell_type": "markdown",
   "metadata": {},
   "source": [
    "## Energía"
   ]
  },
  {
   "cell_type": "code",
   "execution_count": 8,
   "metadata": {
    "scrolled": false
   },
   "outputs": [
    {
     "data": {
      "application/vnd.jupyter.widget-view+json": {
       "model_id": "5939ed83d5cd4f589f7ff1960f427d1b",
       "version_major": 2,
       "version_minor": 0
      },
      "text/plain": [
       "Canvas(toolbar=Toolbar(toolitems=[('Home', 'Reset original view', 'home', 'home'), ('Back', 'Back to previous …"
      ]
     },
     "metadata": {},
     "output_type": "display_data"
    },
    {
     "data": {
      "text/plain": [
       "<AxesSubplot:xlabel='$p_{stable}$', ylabel='Energy'>"
      ]
     },
     "execution_count": 8,
     "metadata": {},
     "output_type": "execute_result"
    }
   ],
   "source": [
    "ener_fig, ax =plt.subplots()\n",
    "sns.violinplot(x='$p_{stable}$', y='Energy', data= df, scale='count', bw=.2, cut=0)"
   ]
  },
  {
   "cell_type": "code",
   "execution_count": 9,
   "metadata": {},
   "outputs": [],
   "source": [
    "df= pd.read_csv(data / 'Torus_sampler_32_fixed_rand_4.csv')"
   ]
  },
  {
   "cell_type": "code",
   "execution_count": 10,
   "metadata": {},
   "outputs": [
    {
     "data": {
      "application/vnd.jupyter.widget-view+json": {
       "model_id": "081f3cd87a9249bb851cb222c7c23ecf",
       "version_major": 2,
       "version_minor": 0
      },
      "text/plain": [
       "Canvas(toolbar=Toolbar(toolitems=[('Home', 'Reset original view', 'home', 'home'), ('Back', 'Back to previous …"
      ]
     },
     "metadata": {},
     "output_type": "display_data"
    },
    {
     "data": {
      "text/plain": [
       "<AxesSubplot:xlabel='$p_{stable}$', ylabel='Energy'>"
      ]
     },
     "execution_count": 10,
     "metadata": {},
     "output_type": "execute_result"
    }
   ],
   "source": [
    "ener_fig, ax =plt.subplots()\n",
    "sns.violinplot(x='$p_{stable}$', y='Energy', data= df, scale='count', bw=.2, cut=0)"
   ]
  },
  {
   "cell_type": "markdown",
   "metadata": {},
   "source": [
    "## Consenso"
   ]
  },
  {
   "cell_type": "code",
   "execution_count": 11,
   "metadata": {},
   "outputs": [
    {
     "data": {
      "application/vnd.jupyter.widget-view+json": {
       "model_id": "b9495345efc94efeb0333f60ac557ccf",
       "version_major": 2,
       "version_minor": 0
      },
      "text/plain": [
       "Canvas(toolbar=Toolbar(toolitems=[('Home', 'Reset original view', 'home', 'home'), ('Back', 'Back to previous …"
      ]
     },
     "metadata": {},
     "output_type": "display_data"
    },
    {
     "data": {
      "text/plain": [
       "<AxesSubplot:xlabel='$p_{stable}$', ylabel='Consensus'>"
      ]
     },
     "execution_count": 11,
     "metadata": {},
     "output_type": "execute_result"
    }
   ],
   "source": [
    "magnet_fig, ax =plt.subplots()\n",
    "sns.violinplot(x='$p_{stable}$', y='Consensus', data= df, scale='count', bw=.2, cut=0)"
   ]
  },
  {
   "cell_type": "markdown",
   "metadata": {},
   "source": [
    "# Grilla 16x16 \n",
    "# $p_{stable} \\in \\{0, 1/n^2, 1/n^{3/2}, 1/n, 1/\\sqrt{n}, 1/\\log^2(n), 1/\\log(n)\\}$\n",
    "# 400 muestras |  orden: izqda a derecha"
   ]
  },
  {
   "cell_type": "markdown",
   "metadata": {},
   "source": [
    "### Load"
   ]
  },
  {
   "cell_type": "code",
   "execution_count": 12,
   "metadata": {},
   "outputs": [],
   "source": [
    "df= pd.read_csv(data / 'Torus_sampler_16_var_canon.csv')"
   ]
  },
  {
   "cell_type": "markdown",
   "metadata": {},
   "source": [
    "## Energy"
   ]
  },
  {
   "cell_type": "code",
   "execution_count": 13,
   "metadata": {},
   "outputs": [
    {
     "data": {
      "application/vnd.jupyter.widget-view+json": {
       "model_id": "87e87d2497ce4adea865ebe33d66780b",
       "version_major": 2,
       "version_minor": 0
      },
      "text/plain": [
       "Canvas(toolbar=Toolbar(toolitems=[('Home', 'Reset original view', 'home', 'home'), ('Back', 'Back to previous …"
      ]
     },
     "metadata": {},
     "output_type": "display_data"
    },
    {
     "data": {
      "text/plain": [
       "<AxesSubplot:xlabel='$p_{stable}$', ylabel='Energy'>"
      ]
     },
     "execution_count": 13,
     "metadata": {},
     "output_type": "execute_result"
    }
   ],
   "source": [
    "ener_fig, ax =plt.subplots()\n",
    "sns.violinplot(x='$p_{stable}$', y='Energy', data= df, scale='count', bw=.2, cut=1)"
   ]
  },
  {
   "cell_type": "markdown",
   "metadata": {},
   "source": [
    "## Magnetization"
   ]
  },
  {
   "cell_type": "code",
   "execution_count": 14,
   "metadata": {},
   "outputs": [
    {
     "data": {
      "application/vnd.jupyter.widget-view+json": {
       "model_id": "a43fb91928654c058290188e0de4f87e",
       "version_major": 2,
       "version_minor": 0
      },
      "text/plain": [
       "Canvas(toolbar=Toolbar(toolitems=[('Home', 'Reset original view', 'home', 'home'), ('Back', 'Back to previous …"
      ]
     },
     "metadata": {},
     "output_type": "display_data"
    },
    {
     "data": {
      "text/plain": [
       "<AxesSubplot:xlabel='$p_{stable}$', ylabel='Consensus'>"
      ]
     },
     "execution_count": 14,
     "metadata": {},
     "output_type": "execute_result"
    }
   ],
   "source": [
    "magnet_fig, ax =plt.subplots()\n",
    "sns.violinplot(x='$p_{stable}$', y='Consensus', data= df, scale='count', bw=.2, cut=0)"
   ]
  },
  {
   "cell_type": "markdown",
   "metadata": {},
   "source": [
    "# Grilla 32x32 \n",
    "# $p_{stable} \\in \\{0, 1/n^2, 1/n^{3/2}, 1/n, 1/\\sqrt{n}, 1/\\log^2(n), 1/\\log(n)\\}$\n",
    "# 400 muestras |  orden: random"
   ]
  },
  {
   "cell_type": "markdown",
   "metadata": {},
   "source": [
    "### Load Data set"
   ]
  },
  {
   "cell_type": "code",
   "execution_count": 15,
   "metadata": {},
   "outputs": [],
   "source": [
    "df= pd.read_csv(data / 'Torus_sampler_32_var_rand_1.csv')"
   ]
  },
  {
   "cell_type": "markdown",
   "metadata": {},
   "source": [
    "## Energy"
   ]
  },
  {
   "cell_type": "code",
   "execution_count": 16,
   "metadata": {},
   "outputs": [
    {
     "data": {
      "application/vnd.jupyter.widget-view+json": {
       "model_id": "432c2acb241a493087c160c04e69c309",
       "version_major": 2,
       "version_minor": 0
      },
      "text/plain": [
       "Canvas(toolbar=Toolbar(toolitems=[('Home', 'Reset original view', 'home', 'home'), ('Back', 'Back to previous …"
      ]
     },
     "metadata": {},
     "output_type": "display_data"
    },
    {
     "data": {
      "text/plain": [
       "<AxesSubplot:xlabel='$p_{stable}$', ylabel='Energy'>"
      ]
     },
     "execution_count": 16,
     "metadata": {},
     "output_type": "execute_result"
    }
   ],
   "source": [
    " labels = [r'$1/\\log^2 n$',r'$1/\\sqrt{n}$', r'$1/n^{1/3}$',  r'$1/\\log n$',\n",
    "              r'$1/\\sqrt{\\log n}$', r'$1/\\log^{1/3}n$']\n",
    "ener_fig, ax =plt.subplots()\n",
    "sns.violinplot(x='$p_{stable}$', y='Energy', data= df, scale='count', bw=.2, cut=0, order=labels)"
   ]
  },
  {
   "cell_type": "code",
   "execution_count": 7,
   "metadata": {},
   "outputs": [
    {
     "data": {
      "text/plain": [
       "{'$1/\\\\log^{2}(n)$': 100.0,\n",
       " '$1/\\\\sqrt{n}$': 32.0,\n",
       " '$1/{n^{1/3}}$': 10.079368399158984,\n",
       " '$1/\\\\log(n)$': 10.0,\n",
       " '$1/\\\\sqrt{\\\\log(n)}$': 3.1622776601683795,\n",
       " '$1/\\\\log^{1/3}(n)$': 2.154434690031884}"
      ]
     },
     "execution_count": 7,
     "metadata": {},
     "output_type": "execute_result"
    }
   ],
   "source": [
    "size = 32*32\n",
    "p_actions = [ 1 / np.sqrt(size),  1 / np.power(size, 1/3), 1 / np.power(np.log2(size), 2),\n",
    "                  1 / np.log2(size), 1/np.sqrt(np.log2(size)), 1 / np.power(np.log2(size), 1/3)]\n",
    "labels = [r'$1/\\log^{2}(n)$', r'$1/\\sqrt{n}$', r'$1/{n^{1/3}}$',\n",
    "               r'$1/\\log(n)$', r'$1/\\sqrt{\\log(n)}$', r'$1/\\log^{1/3}(n)$']\n",
    "\n",
    "ay = [np.power(np.log2(size), 2), np.sqrt(size), np.power(size, 1/3), \n",
    "                  np.log2(size), np.sqrt(np.log2(size)), np.power(np.log2(size), 1/3)]\n",
    "\n",
    "vals = {lab: act for (act, lab) in zip(ay, labels)}\n",
    "vals"
   ]
  },
  {
   "cell_type": "markdown",
   "metadata": {},
   "source": [
    "## Magnetization"
   ]
  },
  {
   "cell_type": "code",
   "execution_count": 17,
   "metadata": {},
   "outputs": [
    {
     "data": {
      "application/vnd.jupyter.widget-view+json": {
       "model_id": "a95b8f0f58f04043aeee1b4d0fac9723",
       "version_major": 2,
       "version_minor": 0
      },
      "text/plain": [
       "Canvas(toolbar=Toolbar(toolitems=[('Home', 'Reset original view', 'home', 'home'), ('Back', 'Back to previous …"
      ]
     },
     "metadata": {},
     "output_type": "display_data"
    },
    {
     "data": {
      "text/plain": [
       "<AxesSubplot:xlabel='$p_{stable}$', ylabel='Consensus'>"
      ]
     },
     "execution_count": 17,
     "metadata": {},
     "output_type": "execute_result"
    }
   ],
   "source": [
    "magnet_fig, ax =plt.subplots()\n",
    "sns.violinplot(x='$p_{stable}$', y='Consensus', data= df, scale='count', bw=.2, cut=0, order=labels)"
   ]
  },
  {
   "cell_type": "code",
   "execution_count": 23,
   "metadata": {
    "scrolled": false
   },
   "outputs": [
    {
     "data": {
      "application/vnd.jupyter.widget-view+json": {
       "model_id": "4ab1c3fbcf8b48c9a80f5536a9e90773",
       "version_major": 2,
       "version_minor": 0
      },
      "text/plain": [
       "Canvas(toolbar=Toolbar(toolitems=[('Home', 'Reset original view', 'home', 'home'), ('Back', 'Back to previous …"
      ]
     },
     "metadata": {},
     "output_type": "display_data"
    },
    {
     "data": {
      "text/plain": [
       "<seaborn.axisgrid.JointGrid at 0x7f18acff3a30>"
      ]
     },
     "execution_count": 23,
     "metadata": {},
     "output_type": "execute_result"
    }
   ],
   "source": [
    "\n",
    "sns.jointplot(data=df, x=\"length\", y=\"Consensus\",  hue=\"$p_{stable}$\", ylim=(0,1), xlim=(0,13000))\n"
   ]
  },
  {
   "cell_type": "code",
   "execution_count": 42,
   "metadata": {},
   "outputs": [
    {
     "name": "stdout",
     "output_type": "stream",
     "text": [
      "$1/n^{1/3}$\n"
     ]
    },
    {
     "data": {
      "application/vnd.jupyter.widget-view+json": {
       "model_id": "79dafd1299764702bcd8c591f8767397",
       "version_major": 2,
       "version_minor": 0
      },
      "text/plain": [
       "Canvas(toolbar=Toolbar(toolitems=[('Home', 'Reset original view', 'home', 'home'), ('Back', 'Back to previous …"
      ]
     },
     "metadata": {},
     "output_type": "display_data"
    },
    {
     "data": {
      "text/plain": [
       "<seaborn.axisgrid.JointGrid at 0x7f18a7852dc0>"
      ]
     },
     "execution_count": 42,
     "metadata": {},
     "output_type": "execute_result"
    }
   ],
   "source": [
    "plt.close('all')\n",
    "per_stable= df.groupby(\"$p_{stable}$\")\n",
    "keys= [a for a, _ in per_stable]\n",
    "i=5\n",
    "fix_stable= per_stable.get_group(keys[i])\n",
    "print(keys[i])\n",
    "sns.jointplot(data=fix_stable, x=\"length\", y=\"Consensus\", ylim=(0,1), xlim=(0,13000))\n"
   ]
  },
  {
   "cell_type": "code",
   "execution_count": 28,
   "metadata": {
    "scrolled": false
   },
   "outputs": [
    {
     "data": {
      "application/vnd.jupyter.widget-view+json": {
       "model_id": "248058056ed749b2902b138c79ff4d1e",
       "version_major": 2,
       "version_minor": 0
      },
      "text/plain": [
       "Canvas(toolbar=Toolbar(toolitems=[('Home', 'Reset original view', 'home', 'home'), ('Back', 'Back to previous …"
      ]
     },
     "metadata": {},
     "output_type": "display_data"
    },
    {
     "data": {
      "text/plain": [
       "<seaborn.axisgrid.PairGrid at 0x7f18a7fb60d0>"
      ]
     },
     "execution_count": 28,
     "metadata": {},
     "output_type": "execute_result"
    }
   ],
   "source": [
    "sns.pairplot(df, hue=\"$p_{stable}$\", corner=True)"
   ]
  },
  {
   "cell_type": "markdown",
   "metadata": {},
   "source": [
    "# Grilla 64x64\n",
    "# $p_{stable} \\in \\{0, 1/n^2, 1/n^{3/2}, 1/n, 1/\\sqrt{n}, 1/\\log^2(n), 1/\\log(n)\\}$\n",
    "# 400 muestras |  orden: random"
   ]
  },
  {
   "cell_type": "markdown",
   "metadata": {},
   "source": [
    "### Load"
   ]
  },
  {
   "cell_type": "code",
   "execution_count": 5,
   "metadata": {},
   "outputs": [],
   "source": [
    "df= pd.read_csv(data / 'Torus_sampler_64_var_rand_3.csv')"
   ]
  },
  {
   "cell_type": "code",
   "execution_count": 6,
   "metadata": {},
   "outputs": [
    {
     "data": {
      "text/html": [
       "<div>\n",
       "<style scoped>\n",
       "    .dataframe tbody tr th:only-of-type {\n",
       "        vertical-align: middle;\n",
       "    }\n",
       "\n",
       "    .dataframe tbody tr th {\n",
       "        vertical-align: top;\n",
       "    }\n",
       "\n",
       "    .dataframe thead th {\n",
       "        text-align: right;\n",
       "    }\n",
       "</style>\n",
       "<table border=\"1\" class=\"dataframe\">\n",
       "  <thead>\n",
       "    <tr style=\"text-align: right;\">\n",
       "      <th></th>\n",
       "      <th>length</th>\n",
       "      <th>$p_{stable}$</th>\n",
       "      <th>p_act</th>\n",
       "      <th>Energy</th>\n",
       "      <th>Consensus</th>\n",
       "    </tr>\n",
       "  </thead>\n",
       "  <tbody>\n",
       "    <tr>\n",
       "      <th>0</th>\n",
       "      <td>50002</td>\n",
       "      <td>$1/\\sqrt{n}$</td>\n",
       "      <td>0.015625</td>\n",
       "      <td>-0.965820</td>\n",
       "      <td>0.674805</td>\n",
       "    </tr>\n",
       "    <tr>\n",
       "      <th>1</th>\n",
       "      <td>50002</td>\n",
       "      <td>$1/n^{1/3}$</td>\n",
       "      <td>0.062500</td>\n",
       "      <td>-0.956055</td>\n",
       "      <td>0.732910</td>\n",
       "    </tr>\n",
       "    <tr>\n",
       "      <th>2</th>\n",
       "      <td>34</td>\n",
       "      <td>$1/\\log^2 n$</td>\n",
       "      <td>0.006944</td>\n",
       "      <td>-0.968262</td>\n",
       "      <td>0.429228</td>\n",
       "    </tr>\n",
       "    <tr>\n",
       "      <th>3</th>\n",
       "      <td>50002</td>\n",
       "      <td>$1/\\log n$</td>\n",
       "      <td>0.083333</td>\n",
       "      <td>-0.940918</td>\n",
       "      <td>0.365234</td>\n",
       "    </tr>\n",
       "    <tr>\n",
       "      <th>4</th>\n",
       "      <td>50002</td>\n",
       "      <td>$1/\\sqrt{\\log n}$</td>\n",
       "      <td>0.288675</td>\n",
       "      <td>-0.820801</td>\n",
       "      <td>0.201660</td>\n",
       "    </tr>\n",
       "    <tr>\n",
       "      <th>...</th>\n",
       "      <td>...</td>\n",
       "      <td>...</td>\n",
       "      <td>...</td>\n",
       "      <td>...</td>\n",
       "      <td>...</td>\n",
       "    </tr>\n",
       "    <tr>\n",
       "      <th>1183</th>\n",
       "      <td>50002</td>\n",
       "      <td>$1/n^{1/3}$</td>\n",
       "      <td>0.062500</td>\n",
       "      <td>-0.939941</td>\n",
       "      <td>0.233887</td>\n",
       "    </tr>\n",
       "    <tr>\n",
       "      <th>1184</th>\n",
       "      <td>1</td>\n",
       "      <td>$1/\\log^2 n$</td>\n",
       "      <td>0.006944</td>\n",
       "      <td>-1.000000</td>\n",
       "      <td>1.000000</td>\n",
       "    </tr>\n",
       "    <tr>\n",
       "      <th>1185</th>\n",
       "      <td>50002</td>\n",
       "      <td>$1/\\log n$</td>\n",
       "      <td>0.083333</td>\n",
       "      <td>-0.925293</td>\n",
       "      <td>0.151367</td>\n",
       "    </tr>\n",
       "    <tr>\n",
       "      <th>1186</th>\n",
       "      <td>50002</td>\n",
       "      <td>$1/\\sqrt{\\log n}$</td>\n",
       "      <td>0.288675</td>\n",
       "      <td>-0.822754</td>\n",
       "      <td>0.039551</td>\n",
       "    </tr>\n",
       "    <tr>\n",
       "      <th>1187</th>\n",
       "      <td>50002</td>\n",
       "      <td>$1/\\log^{1/3}n$</td>\n",
       "      <td>0.436790</td>\n",
       "      <td>-0.786133</td>\n",
       "      <td>0.097168</td>\n",
       "    </tr>\n",
       "  </tbody>\n",
       "</table>\n",
       "<p>1188 rows × 5 columns</p>\n",
       "</div>"
      ],
      "text/plain": [
       "      length       $p_{stable}$     p_act    Energy  Consensus\n",
       "0      50002       $1/\\sqrt{n}$  0.015625 -0.965820   0.674805\n",
       "1      50002        $1/n^{1/3}$  0.062500 -0.956055   0.732910\n",
       "2         34       $1/\\log^2 n$  0.006944 -0.968262   0.429228\n",
       "3      50002         $1/\\log n$  0.083333 -0.940918   0.365234\n",
       "4      50002  $1/\\sqrt{\\log n}$  0.288675 -0.820801   0.201660\n",
       "...      ...                ...       ...       ...        ...\n",
       "1183   50002        $1/n^{1/3}$  0.062500 -0.939941   0.233887\n",
       "1184       1       $1/\\log^2 n$  0.006944 -1.000000   1.000000\n",
       "1185   50002         $1/\\log n$  0.083333 -0.925293   0.151367\n",
       "1186   50002  $1/\\sqrt{\\log n}$  0.288675 -0.822754   0.039551\n",
       "1187   50002    $1/\\log^{1/3}n$  0.436790 -0.786133   0.097168\n",
       "\n",
       "[1188 rows x 5 columns]"
      ]
     },
     "execution_count": 6,
     "metadata": {},
     "output_type": "execute_result"
    }
   ],
   "source": [
    "df"
   ]
  },
  {
   "cell_type": "code",
   "execution_count": 7,
   "metadata": {},
   "outputs": [
    {
     "data": {
      "application/vnd.jupyter.widget-view+json": {
       "model_id": "11e2344b14c34d4989280e0c32bd5da1",
       "version_major": 2,
       "version_minor": 0
      },
      "text/plain": [
       "Canvas(toolbar=Toolbar(toolitems=[('Home', 'Reset original view', 'home', 'home'), ('Back', 'Back to previous …"
      ]
     },
     "metadata": {},
     "output_type": "display_data"
    },
    {
     "data": {
      "text/plain": [
       "<AxesSubplot:xlabel='$p_{stable}$', ylabel='Energy'>"
      ]
     },
     "execution_count": 7,
     "metadata": {},
     "output_type": "execute_result"
    }
   ],
   "source": [
    " labels = [r'$1/\\log^2 n$',r'$1/\\sqrt{n}$', r'$1/n^{1/3}$',  r'$1/\\log n$',\n",
    "              r'$1/\\sqrt{\\log n}$', r'$1/\\log^{1/3}n$']\n",
    "ener_fig, ax =plt.subplots()\n",
    "sns.violinplot(x='$p_{stable}$', y='Energy', data= df, scale='count', bw=.2, cut=0, order=labels)"
   ]
  },
  {
   "cell_type": "code",
   "execution_count": 11,
   "metadata": {
    "scrolled": true
   },
   "outputs": [
    {
     "data": {
      "text/plain": [
       "{'$1/\\\\log^{2}(n)$': 144.0,\n",
       " '$1/\\\\sqrt{n}$': 64.0,\n",
       " '$1/{n^{1/3}}$': 15.999999999999998,\n",
       " '$1/\\\\log(n)$': 12.0,\n",
       " '$1/\\\\sqrt{\\\\log(n)}$': 3.4641016151377544,\n",
       " '$1/\\\\log^{1/3}(n)$': 2.2894284851066637}"
      ]
     },
     "execution_count": 11,
     "metadata": {},
     "output_type": "execute_result"
    }
   ],
   "source": [
    "size = 64*64\n",
    "p_actions = [ 1 / np.sqrt(size),  1 / np.power(size, 1/3), 1 / np.power(np.log2(size), 2),\n",
    "                  1 / np.log2(size), 1/np.sqrt(np.log2(size)), 1 / np.power(np.log2(size), 1/3)]\n",
    "labels = [r'$1/\\log^{2}(n)$', r'$1/\\sqrt{n}$', r'$1/{n^{1/3}}$',\n",
    "               r'$1/\\log(n)$', r'$1/\\sqrt{\\log(n)}$', r'$1/\\log^{1/3}(n)$']\n",
    "\n",
    "ay = [np.power(np.log2(size), 2), np.sqrt(size), np.power(size, 1/3), \n",
    "                  np.log2(size), np.sqrt(np.log2(size)), np.power(np.log2(size), 1/3)]\n",
    "\n",
    "vals = {lab: act for (act, lab) in zip(ay, labels)}\n",
    "vals"
   ]
  },
  {
   "cell_type": "markdown",
   "metadata": {},
   "source": [
    "### Consenso\n"
   ]
  },
  {
   "cell_type": "code",
   "execution_count": 14,
   "metadata": {},
   "outputs": [
    {
     "data": {
      "application/vnd.jupyter.widget-view+json": {
       "model_id": "37570a7ac9974b1792d4074e3d15ab2d",
       "version_major": 2,
       "version_minor": 0
      },
      "text/plain": [
       "Canvas(toolbar=Toolbar(toolitems=[('Home', 'Reset original view', 'home', 'home'), ('Back', 'Back to previous …"
      ]
     },
     "metadata": {},
     "output_type": "display_data"
    },
    {
     "data": {
      "text/plain": [
       "<AxesSubplot:xlabel='$p_{stable}$', ylabel='Consensus'>"
      ]
     },
     "execution_count": 14,
     "metadata": {},
     "output_type": "execute_result"
    }
   ],
   "source": [
    "labels=[r'$1/\\log^2 n$',r'$1/\\sqrt{n}$', r'$1/n^{1/3}$',  r'$1/\\log n$',\n",
    "              r'$1/\\sqrt{\\log n}$', r'$1/\\log^{1/3}n$']\n",
    "magnet_fig, ax =plt.subplots()\n",
    "sns.violinplot(x='$p_{stable}$', y='Consensus', data= df, scale='count', bw=.2, cut=0, order= labels)"
   ]
  }
 ],
 "metadata": {
  "kernelspec": {
   "display_name": "Python 3",
   "language": "python",
   "name": "python3"
  },
  "language_info": {
   "codemirror_mode": {
    "name": "ipython",
    "version": 3
   },
   "file_extension": ".py",
   "mimetype": "text/x-python",
   "name": "python",
   "nbconvert_exporter": "python",
   "pygments_lexer": "ipython3",
   "version": "3.8.6"
  },
  "varInspector": {
   "cols": {
    "lenName": 16,
    "lenType": 16,
    "lenVar": 40
   },
   "kernels_config": {
    "python": {
     "delete_cmd_postfix": "",
     "delete_cmd_prefix": "del ",
     "library": "var_list.py",
     "varRefreshCmd": "print(var_dic_list())"
    },
    "r": {
     "delete_cmd_postfix": ") ",
     "delete_cmd_prefix": "rm(",
     "library": "var_list.r",
     "varRefreshCmd": "cat(var_dic_list()) "
    }
   },
   "types_to_exclude": [
    "module",
    "function",
    "builtin_function_or_method",
    "instance",
    "_Feature"
   ],
   "window_display": false
  }
 },
 "nbformat": 4,
 "nbformat_minor": 4
}
