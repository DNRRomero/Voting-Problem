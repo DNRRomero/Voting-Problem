{
 "cells": [
  {
   "cell_type": "code",
   "execution_count": 1,
   "metadata": {},
   "outputs": [],
   "source": [
    "%matplotlib widget\n",
    "import numpy as np\n",
    "import matplotlib\n",
    "import matplotlib.pyplot as plt\n",
    "from matplotlib import animation, rc\n",
    "from IPython.display import HTML\n",
    "import seaborn as sns\n",
    "import pandas as pd\n",
    "from pathlib import Path\n",
    "data = Path('data/Torus')"
   ]
  },
  {
   "cell_type": "code",
   "execution_count": 2,
   "metadata": {},
   "outputs": [],
   "source": [
    "sns.set_style(\"whitegrid\")\n",
    "sns.set_palette(sns.color_palette())"
   ]
  },
  {
   "cell_type": "code",
   "execution_count": 3,
   "metadata": {},
   "outputs": [],
   "source": [
    "from src.modules import Evolve, Torus, Ring, utils, Plotter, metric"
   ]
  },
  {
   "cell_type": "markdown",
   "metadata": {},
   "source": [
    "# Grilla 32x32\n",
    "# Fracción de estables en \\{0, 0.2, 0.4, 0.5, 0.6, 0.8, 1\\}\n",
    "# Magnetización 0\n",
    "# 400 muestras |  orden: al azar"
   ]
  },
  {
   "cell_type": "markdown",
   "metadata": {},
   "source": [
    "### Load"
   ]
  },
  {
   "cell_type": "code",
   "execution_count": 23,
   "metadata": {},
   "outputs": [],
   "source": [
    "df= pd.read_csv(data / 'Torus_evol_32_rand_3.csv')"
   ]
  },
  {
   "cell_type": "code",
   "execution_count": 24,
   "metadata": {},
   "outputs": [],
   "source": [
    "per_stab= df.groupby('stability')\n",
    "per_sample = df.groupby('sample')\n",
    "samples = [a for a, _ in per_sample]"
   ]
  },
  {
   "cell_type": "code",
   "execution_count": 25,
   "metadata": {},
   "outputs": [
    {
     "data": {
      "text/html": [
       "<div>\n",
       "<style scoped>\n",
       "    .dataframe tbody tr th:only-of-type {\n",
       "        vertical-align: middle;\n",
       "    }\n",
       "\n",
       "    .dataframe tbody tr th {\n",
       "        vertical-align: top;\n",
       "    }\n",
       "\n",
       "    .dataframe thead th {\n",
       "        text-align: right;\n",
       "    }\n",
       "</style>\n",
       "<table border=\"1\" class=\"dataframe\">\n",
       "  <thead>\n",
       "    <tr style=\"text-align: right;\">\n",
       "      <th></th>\n",
       "      <th>stability</th>\n",
       "      <th>step</th>\n",
       "      <th>length</th>\n",
       "      <th>cycle_start</th>\n",
       "      <th>Energy</th>\n",
       "      <th>Consensus</th>\n",
       "      <th>sample</th>\n",
       "    </tr>\n",
       "  </thead>\n",
       "  <tbody>\n",
       "    <tr>\n",
       "      <th>848</th>\n",
       "      <td>0.2</td>\n",
       "      <td>0</td>\n",
       "      <td>84</td>\n",
       "      <td>9</td>\n",
       "      <td>0.009766</td>\n",
       "      <td>0.000000</td>\n",
       "      <td>20401340392</td>\n",
       "    </tr>\n",
       "    <tr>\n",
       "      <th>849</th>\n",
       "      <td>0.2</td>\n",
       "      <td>1</td>\n",
       "      <td>84</td>\n",
       "      <td>9</td>\n",
       "      <td>-0.523438</td>\n",
       "      <td>0.054688</td>\n",
       "      <td>20401340392</td>\n",
       "    </tr>\n",
       "    <tr>\n",
       "      <th>850</th>\n",
       "      <td>0.2</td>\n",
       "      <td>2</td>\n",
       "      <td>84</td>\n",
       "      <td>9</td>\n",
       "      <td>-0.677734</td>\n",
       "      <td>0.134766</td>\n",
       "      <td>20401340392</td>\n",
       "    </tr>\n",
       "    <tr>\n",
       "      <th>851</th>\n",
       "      <td>0.2</td>\n",
       "      <td>3</td>\n",
       "      <td>84</td>\n",
       "      <td>9</td>\n",
       "      <td>-0.724609</td>\n",
       "      <td>0.144531</td>\n",
       "      <td>20401340392</td>\n",
       "    </tr>\n",
       "    <tr>\n",
       "      <th>852</th>\n",
       "      <td>0.2</td>\n",
       "      <td>4</td>\n",
       "      <td>84</td>\n",
       "      <td>9</td>\n",
       "      <td>-0.746094</td>\n",
       "      <td>0.156250</td>\n",
       "      <td>20401340392</td>\n",
       "    </tr>\n",
       "    <tr>\n",
       "      <th>...</th>\n",
       "      <td>...</td>\n",
       "      <td>...</td>\n",
       "      <td>...</td>\n",
       "      <td>...</td>\n",
       "      <td>...</td>\n",
       "      <td>...</td>\n",
       "      <td>...</td>\n",
       "    </tr>\n",
       "    <tr>\n",
       "      <th>974062</th>\n",
       "      <td>0.2</td>\n",
       "      <td>421</td>\n",
       "      <td>420</td>\n",
       "      <td>6</td>\n",
       "      <td>-0.705078</td>\n",
       "      <td>0.064453</td>\n",
       "      <td>20401340227</td>\n",
       "    </tr>\n",
       "    <tr>\n",
       "      <th>974063</th>\n",
       "      <td>0.2</td>\n",
       "      <td>422</td>\n",
       "      <td>420</td>\n",
       "      <td>6</td>\n",
       "      <td>-0.705078</td>\n",
       "      <td>0.066406</td>\n",
       "      <td>20401340227</td>\n",
       "    </tr>\n",
       "    <tr>\n",
       "      <th>974064</th>\n",
       "      <td>0.2</td>\n",
       "      <td>423</td>\n",
       "      <td>420</td>\n",
       "      <td>6</td>\n",
       "      <td>-0.705078</td>\n",
       "      <td>0.083984</td>\n",
       "      <td>20401340227</td>\n",
       "    </tr>\n",
       "    <tr>\n",
       "      <th>974065</th>\n",
       "      <td>0.2</td>\n",
       "      <td>424</td>\n",
       "      <td>420</td>\n",
       "      <td>6</td>\n",
       "      <td>-0.705078</td>\n",
       "      <td>0.070312</td>\n",
       "      <td>20401340227</td>\n",
       "    </tr>\n",
       "    <tr>\n",
       "      <th>974066</th>\n",
       "      <td>0.2</td>\n",
       "      <td>425</td>\n",
       "      <td>420</td>\n",
       "      <td>6</td>\n",
       "      <td>-0.705078</td>\n",
       "      <td>0.064453</td>\n",
       "      <td>20401340227</td>\n",
       "    </tr>\n",
       "  </tbody>\n",
       "</table>\n",
       "<p>179005 rows × 7 columns</p>\n",
       "</div>"
      ],
      "text/plain": [
       "        stability  step  length  cycle_start    Energy  Consensus       sample\n",
       "848           0.2     0      84            9  0.009766   0.000000  20401340392\n",
       "849           0.2     1      84            9 -0.523438   0.054688  20401340392\n",
       "850           0.2     2      84            9 -0.677734   0.134766  20401340392\n",
       "851           0.2     3      84            9 -0.724609   0.144531  20401340392\n",
       "852           0.2     4      84            9 -0.746094   0.156250  20401340392\n",
       "...           ...   ...     ...          ...       ...        ...          ...\n",
       "974062        0.2   421     420            6 -0.705078   0.064453  20401340227\n",
       "974063        0.2   422     420            6 -0.705078   0.066406  20401340227\n",
       "974064        0.2   423     420            6 -0.705078   0.083984  20401340227\n",
       "974065        0.2   424     420            6 -0.705078   0.070312  20401340227\n",
       "974066        0.2   425     420            6 -0.705078   0.064453  20401340227\n",
       "\n",
       "[179005 rows x 7 columns]"
      ]
     },
     "execution_count": 25,
     "metadata": {},
     "output_type": "execute_result"
    }
   ],
   "source": [
    "fix_stab = per_stab.get_group(0.2)\n",
    "fix_stab"
   ]
  },
  {
   "cell_type": "markdown",
   "metadata": {},
   "source": [
    "## Decrecimiento de energía por iteraciones, según estabilidad inicial"
   ]
  },
  {
   "cell_type": "code",
   "execution_count": 26,
   "metadata": {
    "scrolled": false
   },
   "outputs": [
    {
     "data": {
      "application/vnd.jupyter.widget-view+json": {
       "model_id": "fdf025ac79964e54a9218f1710253cca",
       "version_major": 2,
       "version_minor": 0
      },
      "text/plain": [
       "Canvas(toolbar=Toolbar(toolitems=[('Home', 'Reset original view', 'home', 'home'), ('Back', 'Back to previous …"
      ]
     },
     "metadata": {},
     "output_type": "display_data"
    },
    {
     "data": {
      "text/plain": [
       "<AxesSubplot:xlabel='step', ylabel='Energy'>"
      ]
     },
     "execution_count": 26,
     "metadata": {},
     "output_type": "execute_result"
    }
   ],
   "source": [
    "ener_fig, ax =plt.subplots()\n",
    "sns.lineplot(x='step', y='Energy', hue='stability', data= df)"
   ]
  },
  {
   "cell_type": "markdown",
   "metadata": {},
   "source": [
    "### Muestras individuales"
   ]
  },
  {
   "cell_type": "code",
   "execution_count": 27,
   "metadata": {},
   "outputs": [
    {
     "data": {
      "application/vnd.jupyter.widget-view+json": {
       "model_id": "c9d9d01fda8c4dbbaa11069390486195",
       "version_major": 2,
       "version_minor": 0
      },
      "text/plain": [
       "Canvas(toolbar=Toolbar(toolitems=[('Home', 'Reset original view', 'home', 'home'), ('Back', 'Back to previous …"
      ]
     },
     "metadata": {},
     "output_type": "display_data"
    },
    {
     "data": {
      "text/plain": [
       "<AxesSubplot:xlabel='step', ylabel='Energy'>"
      ]
     },
     "execution_count": 27,
     "metadata": {},
     "output_type": "execute_result"
    }
   ],
   "source": [
    "plt.close(ener_fig) \n",
    "ener_fig, ax =plt.subplots()\n",
    "i= 0\n",
    "sns.lineplot(x='step', y='Energy', hue='stability', data= per_sample.get_group(samples[120]))"
   ]
  }
 ],
 "metadata": {
  "kernelspec": {
   "display_name": "Python 3",
   "language": "python",
   "name": "python3"
  },
  "language_info": {
   "codemirror_mode": {
    "name": "ipython",
    "version": 3
   },
   "file_extension": ".py",
   "mimetype": "text/x-python",
   "name": "python",
   "nbconvert_exporter": "python",
   "pygments_lexer": "ipython3",
   "version": "3.8.6"
  }
 },
 "nbformat": 4,
 "nbformat_minor": 4
}
