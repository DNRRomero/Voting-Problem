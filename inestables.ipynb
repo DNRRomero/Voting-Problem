{
 "cells": [
  {
   "cell_type": "code",
   "execution_count": 1,
   "metadata": {},
   "outputs": [],
   "source": [
    "%matplotlib widget\n",
    "import numpy as np\n",
    "import matplotlib.pyplot as plt\n",
    "from matplotlib import animation, rc\n",
    "from IPython.display import HTML"
   ]
  },
  {
   "cell_type": "code",
   "execution_count": 2,
   "metadata": {},
   "outputs": [],
   "source": [
    "import seaborn as sns\n",
    "import pandas as pd"
   ]
  },
  {
   "cell_type": "code",
   "execution_count": 3,
   "metadata": {},
   "outputs": [],
   "source": [
    "sns.set_style(\"whitegrid\")\n",
    "sns.set_palette(sns.color_palette())"
   ]
  },
  {
   "cell_type": "code",
   "execution_count": 4,
   "metadata": {},
   "outputs": [],
   "source": [
    "plt.rcParams['animation.embed_limit'] = 2**128\n",
    "rc('animation', html='jshtml')"
   ]
  },
  {
   "cell_type": "code",
   "execution_count": 5,
   "metadata": {},
   "outputs": [],
   "source": [
    "import Evolve\n",
    "import Torus, Ring\n",
    "import utilities\n",
    "from metric import *"
   ]
  },
  {
   "cell_type": "markdown",
   "metadata": {},
   "source": [
    "## Anillo con estados al azar $\\frac12$ y distintos valores de $p_{action}$"
   ]
  },
  {
   "cell_type": "code",
   "execution_count": 6,
   "metadata": {},
   "outputs": [],
   "source": [
    "n= 150\n",
    "p_actions=[0, 0.2, 0.4, 0.6, 0.8]\n",
    "p_state= 0.5\n",
    "pi=[i for i in range(n)]\n",
    "steps=200\n",
    "metricList= [Metric.Density, Metric.SpinGlass]\n",
    "states=[np.random.choice(a=[State.ON, State.OFF], p=[p_state, 1 - p_state]) for i in range(n)]"
   ]
  },
  {
   "cell_type": "code",
   "execution_count": 7,
   "metadata": {},
   "outputs": [],
   "source": [
    "rings= [Ring.createRing(n, states= states, p_action=p_actions[i]) for i in range(len(p_actions))]"
   ]
  },
  {
   "cell_type": "code",
   "execution_count": 8,
   "metadata": {},
   "outputs": [],
   "source": [
    "out_metrics=Evolve.multi_evolve(configs=rings, perm=pi, steps=steps, metricList= metricList)"
   ]
  },
  {
   "cell_type": "markdown",
   "metadata": {},
   "source": [
    "### $p_{action}$ desde $0$ hasta $0.8$"
   ]
  },
  {
   "cell_type": "code",
   "execution_count": 13,
   "metadata": {
    "scrolled": true
   },
   "outputs": [
    {
     "data": {
      "application/vnd.jupyter.widget-view+json": {
       "model_id": "9cb7ff5ec3f14f15a9d1fbc9aef3823c",
       "version_major": 2,
       "version_minor": 0
      },
      "text/plain": [
       "Canvas(toolbar=Toolbar(toolitems=[('Home', 'Reset original view', 'home', 'home'), ('Back', 'Back to previous …"
      ]
     },
     "metadata": {},
     "output_type": "display_data"
    }
   ],
   "source": [
    "legends=['$0$','$0.2$', '$0.4$', '$0.6$', '$0.8$']\n",
    "Evolve.plot_multi_metrics(out_metrics, legends, title='$p_{action}$')"
   ]
  },
  {
   "cell_type": "code",
   "execution_count": 10,
   "metadata": {},
   "outputs": [],
   "source": [
    "n= 150\n",
    "p_actions=[0, 0.2, 0.4, 0.6, 0.8]\n",
    "p_state= 0.5\n",
    "pi=[i for i in range(n)]\n",
    "steps=200\n",
    "metricList= [Metric.SpinGlass]\n",
    "rules=[[np.random.choice(a=[Rule.STABLE, Rule.UNSTABLE], p=[p, 1 - p]) for i in range(n)] for p in p_actions]"
   ]
  },
  {
   "cell_type": "code",
   "execution_count": 13,
   "metadata": {},
   "outputs": [],
   "source": [
    "samples= 150\n",
    "p_actions=[0, 0.2, 0.4, 0.6, 0.8]\n",
    "labels= ['$'+str(p)+'$' for p in p_actions]\n",
    "cycles = {'length': np.zeros(samples*len(p_actions)) , 'p_a': np.zeros(samples*len(p_actions))}\n",
    "energies = {'energy': np.zeros(samples*len(p_actions)) , 'p_a': np.zeros(samples*len(p_actions))}\n",
    "\n",
    "for i , p in enumerate(p_actions):\n",
    "    ring= Ring.createRing(n, rules=rules[i])\n",
    "    for j in range(samples):\n",
    "        states=[np.random.choice(a=[State.ON, State.OFF], p=[p_state, 1 - p_state]) for i in range(n)]\n",
    "        ring.setStates(states)\n",
    "        evol, metrics=Evolve.evolve(config=ring, perm=pi, steps=steps, metricList= metricList)\n",
    "        pos= i*samples+ j\n",
    "        cycles['length'][pos] = utilities.cycle_length(evol)\n",
    "        cycles['p_a'][pos] = p_actions[i]\n",
    "        e,= metrics.values()\n",
    "        energies['energy'][pos] = e[-1]\n",
    "        energies['p_a'][pos] = p_actions[i]"
   ]
  },
  {
   "cell_type": "code",
   "execution_count": 14,
   "metadata": {
    "scrolled": true
   },
   "outputs": [],
   "source": [
    "cycle_data = pd.DataFrame(cycles)\n",
    "energy_data=pd.DataFrame(energies)"
   ]
  },
  {
   "cell_type": "code",
   "execution_count": 11,
   "metadata": {
    "scrolled": true
   },
   "outputs": [
    {
     "ename": "NameError",
     "evalue": "name 'cycle_data' is not defined",
     "output_type": "error",
     "traceback": [
      "\u001b[0;31m---------------------------------------------------------------------------\u001b[0m",
      "\u001b[0;31mNameError\u001b[0m                                 Traceback (most recent call last)",
      "\u001b[0;32m<ipython-input-11-a5cd68b10040>\u001b[0m in \u001b[0;36m<module>\u001b[0;34m\u001b[0m\n\u001b[0;32m----> 1\u001b[0;31m \u001b[0mcycle_data\u001b[0m\u001b[0;34m.\u001b[0m\u001b[0mto_csv\u001b[0m\u001b[0;34m(\u001b[0m\u001b[0;34m'cycles_ring.csv'\u001b[0m\u001b[0;34m,\u001b[0m \u001b[0mencoding\u001b[0m\u001b[0;34m=\u001b[0m\u001b[0;34m'utf-8'\u001b[0m\u001b[0;34m,\u001b[0m \u001b[0mindex\u001b[0m\u001b[0;34m=\u001b[0m\u001b[0;32mFalse\u001b[0m\u001b[0;34m)\u001b[0m\u001b[0;34m\u001b[0m\u001b[0;34m\u001b[0m\u001b[0m\n\u001b[0m\u001b[1;32m      2\u001b[0m \u001b[0menergy_data\u001b[0m\u001b[0;34m.\u001b[0m\u001b[0mto_csv\u001b[0m\u001b[0;34m(\u001b[0m\u001b[0;34m'energy_ring.csv'\u001b[0m\u001b[0;34m,\u001b[0m \u001b[0mencoding\u001b[0m\u001b[0;34m=\u001b[0m\u001b[0;34m'utf-8'\u001b[0m\u001b[0;34m,\u001b[0m \u001b[0mindex\u001b[0m\u001b[0;34m=\u001b[0m\u001b[0;32mFalse\u001b[0m\u001b[0;34m)\u001b[0m\u001b[0;34m\u001b[0m\u001b[0;34m\u001b[0m\u001b[0m\n",
      "\u001b[0;31mNameError\u001b[0m: name 'cycle_data' is not defined"
     ]
    }
   ],
   "source": [
    "cycle_data.to_csv('cycles_ring.csv', encoding='utf-8', index=False)\n",
    "energy_data.to_csv('energy_ring.csv', encoding='utf-8', index=False)"
   ]
  },
  {
   "cell_type": "code",
   "execution_count": 9,
   "metadata": {},
   "outputs": [],
   "source": [
    "cycle_data= pd.read_csv('cycles_ring.csv')\n",
    "energy_data= pd.read_csv('energy_ring.csv')"
   ]
  },
  {
   "cell_type": "code",
   "execution_count": 13,
   "metadata": {},
   "outputs": [
    {
     "data": {
      "text/html": [
       "<div>\n",
       "<style scoped>\n",
       "    .dataframe tbody tr th:only-of-type {\n",
       "        vertical-align: middle;\n",
       "    }\n",
       "\n",
       "    .dataframe tbody tr th {\n",
       "        vertical-align: top;\n",
       "    }\n",
       "\n",
       "    .dataframe thead th {\n",
       "        text-align: right;\n",
       "    }\n",
       "</style>\n",
       "<table border=\"1\" class=\"dataframe\">\n",
       "  <thead>\n",
       "    <tr style=\"text-align: right;\">\n",
       "      <th></th>\n",
       "      <th>length</th>\n",
       "      <th>p_a</th>\n",
       "    </tr>\n",
       "  </thead>\n",
       "  <tbody>\n",
       "    <tr>\n",
       "      <th>0</th>\n",
       "      <td>149.0</td>\n",
       "      <td>0.0</td>\n",
       "    </tr>\n",
       "    <tr>\n",
       "      <th>1</th>\n",
       "      <td>149.0</td>\n",
       "      <td>0.0</td>\n",
       "    </tr>\n",
       "    <tr>\n",
       "      <th>2</th>\n",
       "      <td>149.0</td>\n",
       "      <td>0.0</td>\n",
       "    </tr>\n",
       "    <tr>\n",
       "      <th>3</th>\n",
       "      <td>149.0</td>\n",
       "      <td>0.0</td>\n",
       "    </tr>\n",
       "    <tr>\n",
       "      <th>4</th>\n",
       "      <td>149.0</td>\n",
       "      <td>0.0</td>\n",
       "    </tr>\n",
       "    <tr>\n",
       "      <th>...</th>\n",
       "      <td>...</td>\n",
       "      <td>...</td>\n",
       "    </tr>\n",
       "    <tr>\n",
       "      <th>745</th>\n",
       "      <td>2.0</td>\n",
       "      <td>0.8</td>\n",
       "    </tr>\n",
       "    <tr>\n",
       "      <th>746</th>\n",
       "      <td>2.0</td>\n",
       "      <td>0.8</td>\n",
       "    </tr>\n",
       "    <tr>\n",
       "      <th>747</th>\n",
       "      <td>6.0</td>\n",
       "      <td>0.8</td>\n",
       "    </tr>\n",
       "    <tr>\n",
       "      <th>748</th>\n",
       "      <td>6.0</td>\n",
       "      <td>0.8</td>\n",
       "    </tr>\n",
       "    <tr>\n",
       "      <th>749</th>\n",
       "      <td>6.0</td>\n",
       "      <td>0.8</td>\n",
       "    </tr>\n",
       "  </tbody>\n",
       "</table>\n",
       "<p>750 rows × 2 columns</p>\n",
       "</div>"
      ],
      "text/plain": [
       "     length  p_a\n",
       "0     149.0  0.0\n",
       "1     149.0  0.0\n",
       "2     149.0  0.0\n",
       "3     149.0  0.0\n",
       "4     149.0  0.0\n",
       "..      ...  ...\n",
       "745     2.0  0.8\n",
       "746     2.0  0.8\n",
       "747     6.0  0.8\n",
       "748     6.0  0.8\n",
       "749     6.0  0.8\n",
       "\n",
       "[750 rows x 2 columns]"
      ]
     },
     "execution_count": 13,
     "metadata": {},
     "output_type": "execute_result"
    }
   ],
   "source": [
    "cycle_data"
   ]
  },
  {
   "cell_type": "code",
   "execution_count": 10,
   "metadata": {
    "scrolled": false
   },
   "outputs": [
    {
     "data": {
      "application/vnd.jupyter.widget-view+json": {
       "model_id": "4253b2757f1b460aa0de5142cd5bf715",
       "version_major": 2,
       "version_minor": 0
      },
      "text/plain": [
       "Canvas(toolbar=Toolbar(toolitems=[('Home', 'Reset original view', 'home', 'home'), ('Back', 'Back to previous …"
      ]
     },
     "metadata": {},
     "output_type": "display_data"
    },
    {
     "data": {
      "text/plain": [
       "<AxesSubplot:xlabel='p_a', ylabel='length'>"
      ]
     },
     "execution_count": 10,
     "metadata": {},
     "output_type": "execute_result"
    }
   ],
   "source": [
    "cycle_fig, ax =plt.subplots()\n",
    "sns.violinplot(x='p_a', y='length', data= cycle_data, scale='count', bw=.2)"
   ]
  },
  {
   "cell_type": "code",
   "execution_count": 29,
   "metadata": {},
   "outputs": [
    {
     "ename": "AttributeError",
     "evalue": "module 'seaborn' has no attribute 'histplot'",
     "output_type": "error",
     "traceback": [
      "\u001b[0;31m---------------------------------------------------------------------------\u001b[0m",
      "\u001b[0;31mAttributeError\u001b[0m                            Traceback (most recent call last)",
      "\u001b[0;32m<ipython-input-29-2f6c8fe602ba>\u001b[0m in \u001b[0;36m<module>\u001b[0;34m\u001b[0m\n\u001b[0;32m----> 1\u001b[0;31m \u001b[0msns\u001b[0m\u001b[0;34m.\u001b[0m\u001b[0mhistplot\u001b[0m\u001b[0;34m(\u001b[0m\u001b[0mcycle_data\u001b[0m\u001b[0;34m,\u001b[0m \u001b[0mx\u001b[0m\u001b[0;34m=\u001b[0m\u001b[0;34m\"length\"\u001b[0m\u001b[0;34m,\u001b[0m \u001b[0mcol\u001b[0m\u001b[0;34m=\u001b[0m\u001b[0;34m\"p_a\"\u001b[0m\u001b[0;34m,\u001b[0m \u001b[0mmultiple\u001b[0m\u001b[0;34m=\u001b[0m\u001b[0;34m\"dodge\"\u001b[0m\u001b[0;34m)\u001b[0m\u001b[0;34m\u001b[0m\u001b[0;34m\u001b[0m\u001b[0m\n\u001b[0m",
      "\u001b[0;31mAttributeError\u001b[0m: module 'seaborn' has no attribute 'histplot'"
     ]
    }
   ],
   "source": [
    "sns.histplot(cycle_data, x=\"length\", col=\"p_a\", multiple=\"dodge\")\n"
   ]
  },
  {
   "cell_type": "code",
   "execution_count": 17,
   "metadata": {},
   "outputs": [
    {
     "name": "stdout",
     "output_type": "stream",
     "text": [
      "0      149.0\n",
      "1      149.0\n",
      "2      149.0\n",
      "3      149.0\n",
      "4      149.0\n",
      "       ...  \n",
      "145    149.0\n",
      "146    149.0\n",
      "147    149.0\n",
      "148    149.0\n",
      "149    149.0\n",
      "Name: length, Length: 150, dtype: float64\n"
     ]
    }
   ],
   "source": [
    "is_p00=cycle_data['p_a']==0\n",
    "print(cycle_data[is_p00]['length'])"
   ]
  },
  {
   "cell_type": "code",
   "execution_count": 11,
   "metadata": {},
   "outputs": [
    {
     "data": {
      "application/vnd.jupyter.widget-view+json": {
       "model_id": "55d1799558904d39b5e2b897df244231",
       "version_major": 2,
       "version_minor": 0
      },
      "text/plain": [
       "Canvas(toolbar=Toolbar(toolitems=[('Home', 'Reset original view', 'home', 'home'), ('Back', 'Back to previous …"
      ]
     },
     "metadata": {},
     "output_type": "display_data"
    },
    {
     "ename": "NameError",
     "evalue": "name 'is_p00' is not defined",
     "output_type": "error",
     "traceback": [
      "\u001b[0;31m---------------------------------------------------------------------------\u001b[0m",
      "\u001b[0;31mNameError\u001b[0m                                 Traceback (most recent call last)",
      "\u001b[0;32m<ipython-input-11-5d0c880fc9e3>\u001b[0m in \u001b[0;36m<module>\u001b[0;34m\u001b[0m\n\u001b[1;32m      1\u001b[0m \u001b[0mstab\u001b[0m\u001b[0;34m,\u001b[0m \u001b[0max_stab\u001b[0m\u001b[0;34m=\u001b[0m \u001b[0mplt\u001b[0m\u001b[0;34m.\u001b[0m\u001b[0msubplots\u001b[0m\u001b[0;34m(\u001b[0m\u001b[0;34m)\u001b[0m\u001b[0;34m\u001b[0m\u001b[0;34m\u001b[0m\u001b[0m\n\u001b[0;32m----> 2\u001b[0;31m \u001b[0mcycle_data\u001b[0m\u001b[0;34m[\u001b[0m\u001b[0mis_p00\u001b[0m\u001b[0;34m]\u001b[0m\u001b[0;34m[\u001b[0m\u001b[0;34m'length'\u001b[0m\u001b[0;34m]\u001b[0m\u001b[0;34m.\u001b[0m\u001b[0mplot\u001b[0m\u001b[0;34m.\u001b[0m\u001b[0mhist\u001b[0m\u001b[0;34m(\u001b[0m\u001b[0;34m)\u001b[0m\u001b[0;34m\u001b[0m\u001b[0;34m\u001b[0m\u001b[0m\n\u001b[0m",
      "\u001b[0;31mNameError\u001b[0m: name 'is_p00' is not defined"
     ]
    }
   ],
   "source": [
    "stab, ax_stab= plt.subplots()\n",
    "cycle_data[is_p00]['length'].plot.hist()"
   ]
  },
  {
   "cell_type": "code",
   "execution_count": 12,
   "metadata": {
    "scrolled": false
   },
   "outputs": [
    {
     "data": {
      "application/vnd.jupyter.widget-view+json": {
       "model_id": "4db716b12fc24d6bbff94cd14d0b680a",
       "version_major": 2,
       "version_minor": 0
      },
      "text/plain": [
       "Canvas(toolbar=Toolbar(toolitems=[('Home', 'Reset original view', 'home', 'home'), ('Back', 'Back to previous …"
      ]
     },
     "metadata": {},
     "output_type": "display_data"
    },
    {
     "data": {
      "text/plain": [
       "<AxesSubplot:xlabel='p_a', ylabel='energy'>"
      ]
     },
     "execution_count": 12,
     "metadata": {},
     "output_type": "execute_result"
    }
   ],
   "source": [
    "energy_fig, ax =plt.subplots()\n",
    "sns.violinplot(x='p_a', y='energy', data= energy_data, scale='count', bw=.2)"
   ]
  },
  {
   "cell_type": "code",
   "execution_count": 25,
   "metadata": {},
   "outputs": [],
   "source": [
    "n= 150\n",
    "p_state= 0.5\n",
    "pi=[i for i in range(n)]\n",
    "steps=200\n",
    "metricList= [Metric.SpinGlass]\n",
    "rules=[[np.random.choice(a=[Rule.STABLE, Rule.UNSTABLE], p=[p, 1 - p]) for i in range(n)] for p in p_actions]"
   ]
  },
  {
   "cell_type": "code",
   "execution_count": 17,
   "metadata": {},
   "outputs": [],
   "source": [
    "samples= 150\n",
    "p_actions=[1]\n",
    "labels= ['$'+str(p)+'$' for p in p_actions]\n",
    "cycles = {'length': np.zeros(samples*len(p_actions)) , 'p_a': np.zeros(samples*len(p_actions))}\n",
    "energies = {'energy': np.zeros(samples*len(p_actions)) , 'p_a': np.zeros(samples*len(p_actions))}\n",
    "\n",
    "for i , p in enumerate(p_actions):\n",
    "    ring= Ring.createRing(n, rules=rules[i])\n",
    "    for j in range(samples):\n",
    "        states=[np.random.choice(a=[State.ON, State.OFF], p=[p_state, 1 - p_state]) for i in range(n)]\n",
    "        ring.setStates(states)\n",
    "        evol, metrics=Evolve.evolve(config=ring, perm=pi, steps=steps, metricList= metricList)\n",
    "        pos= i*samples+ j\n",
    "        cycles['length'][pos] = utilities.cycle_length(evol)\n",
    "        cycles['p_a'][pos] = p_actions[i]\n",
    "        e,= metrics.values()\n",
    "        energies['energy'][pos] = e[-1]\n",
    "        energies['p_a'][pos] = p_actions[i]"
   ]
  },
  {
   "cell_type": "code",
   "execution_count": 18,
   "metadata": {},
   "outputs": [],
   "source": [
    "stab_cycle_data = pd.DataFrame(cycles)\n",
    "stab_energy_data=pd.DataFrame(energies)"
   ]
  },
  {
   "cell_type": "code",
   "execution_count": 19,
   "metadata": {},
   "outputs": [],
   "source": [
    "stab_cycle_data.to_csv('stab_cycles_ring.csv', encoding='utf-8', index=False)\n",
    "stab_energy_data.to_csv('stab_energy_ring.csv', encoding='utf-8', index=False)"
   ]
  },
  {
   "cell_type": "code",
   "execution_count": 26,
   "metadata": {},
   "outputs": [],
   "source": [
    "stab_cycle_data= pd.read_csv('stab_cycles_ring.csv')\n",
    "stab_energy_data= pd.read_csv('stab_energy_ring.csv')"
   ]
  },
  {
   "cell_type": "code",
   "execution_count": 28,
   "metadata": {},
   "outputs": [
    {
     "data": {
      "application/vnd.jupyter.widget-view+json": {
       "model_id": "7be4bd5af57244159ee251dba8beb6dd",
       "version_major": 2,
       "version_minor": 0
      },
      "text/plain": [
       "Canvas(toolbar=Toolbar(toolitems=[('Home', 'Reset original view', 'home', 'home'), ('Back', 'Back to previous …"
      ]
     },
     "metadata": {},
     "output_type": "display_data"
    },
    {
     "data": {
      "text/plain": [
       "<AxesSubplot:xlabel='p_a', ylabel='energy'>"
      ]
     },
     "execution_count": 28,
     "metadata": {},
     "output_type": "execute_result"
    }
   ],
   "source": [
    "stab_energy_fig, ax =plt.subplots()\n",
    "sns.violinplot(x='p_a', y='energy', data= stab_energy_data, scale='count', bw=.2)"
   ]
  },
  {
   "cell_type": "markdown",
   "metadata": {},
   "source": [
    "### $p_{action}$ orden $\\log n, \\sqrt{n}, $ y $n$"
   ]
  },
  {
   "cell_type": "code",
   "execution_count": null,
   "metadata": {},
   "outputs": [],
   "source": [
    "n= 150\n",
    "p_actions=[ 1/n, 1/np.sqrt(n), 1/np.log(n)]\n",
    "p_state= 0.5\n",
    "pi=[i for i in range(n)]\n",
    "steps=200\n",
    "metricList= [Metric.Density, Metric.SpinGlass]\n",
    "states=[np.random.choice(a=[State.ON, State.OFF], p=[p_state, 1 - p_state]) for i in range(n)]"
   ]
  },
  {
   "cell_type": "code",
   "execution_count": null,
   "metadata": {},
   "outputs": [],
   "source": [
    "rings= [Ring.createRing(n, states= states, p_action=p) for p in p_actions]"
   ]
  },
  {
   "cell_type": "code",
   "execution_count": null,
   "metadata": {},
   "outputs": [],
   "source": [
    "out_metrics=Evolve.multi_evolve(configs=rings, perm=pi, steps=steps, metricList= metricList)"
   ]
  },
  {
   "cell_type": "code",
   "execution_count": null,
   "metadata": {},
   "outputs": [],
   "source": [
    "legends=['$1/n$','$1/\\sqrt{n}$', '$1/\\log(n)$']\n",
    "Evolve.plot_multi_metrics(out_metrics, legends, title='$p_{action}$')"
   ]
  },
  {
   "cell_type": "markdown",
   "metadata": {},
   "source": [
    "## Grilla con estados al azar $\\frac12$ y distintos valores de $p_{action}$"
   ]
  },
  {
   "cell_type": "code",
   "execution_count": null,
   "metadata": {},
   "outputs": [],
   "source": [
    "n= 15\n",
    "m=15\n",
    "size= n*m\n",
    "p_actions=[0, 0.2, 0.4, 0.6, 0.8]\n",
    "p_state= 0.5\n",
    "pi=[i for i in range(size)]\n",
    "steps=200\n",
    "metricList= [Metric.Density, Metric.SpinGlass]\n",
    "states=[np.random.choice(a=[State.ON, State.OFF], p=[p_state, 1 - p_state]) for i in range(size)]"
   ]
  },
  {
   "cell_type": "code",
   "execution_count": null,
   "metadata": {},
   "outputs": [],
   "source": [
    "tori= [Torus.createTorus(n,m, states= states, p_action=p_actions[i]) for i in range(len(p_actions))]\n"
   ]
  },
  {
   "cell_type": "code",
   "execution_count": null,
   "metadata": {},
   "outputs": [],
   "source": [
    "out_metrics=Evolve.multi_evolve(configs=tori, perm=pi, steps=steps, metricList= metricList)"
   ]
  },
  {
   "cell_type": "code",
   "execution_count": null,
   "metadata": {
    "scrolled": true
   },
   "outputs": [],
   "source": [
    "legends=['$0$','$0.2$', '$0.4$', '$0.6$', '$0.8$']\n",
    "Evolve.plot_multi_metrics(out_metrics, legends, title='$p_{action}$')"
   ]
  },
  {
   "cell_type": "markdown",
   "metadata": {},
   "source": [
    "### $p_{action}$ orden $\\log n, \\sqrt{n}, $ y $n$"
   ]
  },
  {
   "cell_type": "code",
   "execution_count": null,
   "metadata": {},
   "outputs": [],
   "source": [
    "n= 15\n",
    "m=15\n",
    "size= n*m\n",
    "p_actions=[ 1/n, 1/np.sqrt(n), 1/np.log(n)]\n",
    "p_state= 0.5\n",
    "pi=[i for i in range(size)]\n",
    "steps=200\n",
    "metricList= [Metric.Density, Metric.SpinGlass]\n",
    "states=[np.random.choice(a=[State.ON, State.OFF], p=[p_state, 1 - p_state]) for i in range(size)]"
   ]
  },
  {
   "cell_type": "code",
   "execution_count": null,
   "metadata": {},
   "outputs": [],
   "source": [
    "tori= [Torus.createTorus(n,m, states= states, p_action=p) for p in p_actions]\n"
   ]
  },
  {
   "cell_type": "code",
   "execution_count": null,
   "metadata": {},
   "outputs": [],
   "source": [
    "out_metrics=Evolve.multi_evolve(configs=tori, perm=pi, steps=steps, metricList= metricList)"
   ]
  },
  {
   "cell_type": "code",
   "execution_count": null,
   "metadata": {},
   "outputs": [],
   "source": [
    "legends=['$1/n$','$1/\\sqrt{n}$', '$1/\\log(n)$']\n",
    "Evolve.plot_multi_metrics(out_metrics, legends, title='$p_{action}$')"
   ]
  }
 ],
 "metadata": {
  "kernelspec": {
   "display_name": "Python 3",
   "language": "python",
   "name": "python3"
  },
  "language_info": {
   "codemirror_mode": {
    "name": "ipython",
    "version": 3
   },
   "file_extension": ".py",
   "mimetype": "text/x-python",
   "name": "python",
   "nbconvert_exporter": "python",
   "pygments_lexer": "ipython3",
   "version": "3.8.5"
  },
  "widgets": {
   "application/vnd.jupyter.widget-state+json": {
    "state": {
     "12162cdd94e44882a4bfbd2fd6ca9bce": {
      "model_module": "jupyter-matplotlib",
      "model_module_version": "^0.7.4",
      "model_name": "ToolbarModel",
      "state": {
       "layout": "IPY_MODEL_c6df73f97b9542e49e65c6d32e2ac339",
       "toolitems": [
        [
         "Home",
         "Reset original view",
         "home",
         "home"
        ],
        [
         "Back",
         "Back to previous view",
         "arrow-left",
         "back"
        ],
        [
         "Forward",
         "Forward to next view",
         "arrow-right",
         "forward"
        ],
        [
         "Pan",
         "Left button pans, Right button zooms\nx/y fixes axis, CTRL fixes aspect",
         "arrows",
         "pan"
        ],
        [
         "Zoom",
         "Zoom to rectangle\nx/y fixes axis, CTRL fixes aspect",
         "square-o",
         "zoom"
        ],
        [
         "Download",
         "Download plot",
         "floppy-o",
         "save_figure"
        ]
       ]
      }
     },
     "244c7bcb2f5949e595b97ef9010bd38d": {
      "model_module": "@jupyter-widgets/base",
      "model_module_version": "1.2.0",
      "model_name": "LayoutModel",
      "state": {}
     },
     "377c41ced34a41d4af4cc71c0cac8e4f": {
      "model_module": "jupyter-matplotlib",
      "model_module_version": "^0.7.4",
      "model_name": "ToolbarModel",
      "state": {
       "layout": "IPY_MODEL_3b1dbc64f09b4e6d8c1ba0cf1cf58998",
       "toolitems": [
        [
         "Home",
         "Reset original view",
         "home",
         "home"
        ],
        [
         "Back",
         "Back to previous view",
         "arrow-left",
         "back"
        ],
        [
         "Forward",
         "Forward to next view",
         "arrow-right",
         "forward"
        ],
        [
         "Pan",
         "Left button pans, Right button zooms\nx/y fixes axis, CTRL fixes aspect",
         "arrows",
         "pan"
        ],
        [
         "Zoom",
         "Zoom to rectangle\nx/y fixes axis, CTRL fixes aspect",
         "square-o",
         "zoom"
        ],
        [
         "Download",
         "Download plot",
         "floppy-o",
         "save_figure"
        ]
       ]
      }
     },
     "3b1dbc64f09b4e6d8c1ba0cf1cf58998": {
      "model_module": "@jupyter-widgets/base",
      "model_module_version": "1.2.0",
      "model_name": "LayoutModel",
      "state": {}
     },
     "5469b415be2a4e8f883785b4b62b4b9d": {
      "model_module": "jupyter-matplotlib",
      "model_module_version": "^0.7.4",
      "model_name": "MPLCanvasModel",
      "state": {
       "_cursor": "default",
       "_figure_label": "Figure 1",
       "_height": 480,
       "_width": 640,
       "layout": "IPY_MODEL_764d1f67012145d58bc391d2a1240c85",
       "toolbar": "IPY_MODEL_577337aeead04673a0e886ae369bbf0f",
       "toolbar_position": "left"
      }
     },
     "5759e29af4ea40cfaffd5fb4282adf6b": {
      "model_module": "jupyter-matplotlib",
      "model_module_version": "^0.7.4",
      "model_name": "ToolbarModel",
      "state": {
       "layout": "IPY_MODEL_e0227ba036b8438985362f77520472b9",
       "toolitems": [
        [
         "Home",
         "Reset original view",
         "home",
         "home"
        ],
        [
         "Back",
         "Back to previous view",
         "arrow-left",
         "back"
        ],
        [
         "Forward",
         "Forward to next view",
         "arrow-right",
         "forward"
        ],
        [
         "Pan",
         "Left button pans, Right button zooms\nx/y fixes axis, CTRL fixes aspect",
         "arrows",
         "pan"
        ],
        [
         "Zoom",
         "Zoom to rectangle\nx/y fixes axis, CTRL fixes aspect",
         "square-o",
         "zoom"
        ],
        [
         "Download",
         "Download plot",
         "floppy-o",
         "save_figure"
        ]
       ]
      }
     },
     "577337aeead04673a0e886ae369bbf0f": {
      "model_module": "jupyter-matplotlib",
      "model_module_version": "^0.7.4",
      "model_name": "ToolbarModel",
      "state": {
       "layout": "IPY_MODEL_244c7bcb2f5949e595b97ef9010bd38d",
       "toolitems": [
        [
         "Home",
         "Reset original view",
         "home",
         "home"
        ],
        [
         "Back",
         "Back to previous view",
         "arrow-left",
         "back"
        ],
        [
         "Forward",
         "Forward to next view",
         "arrow-right",
         "forward"
        ],
        [
         "Pan",
         "Left button pans, Right button zooms\nx/y fixes axis, CTRL fixes aspect",
         "arrows",
         "pan"
        ],
        [
         "Zoom",
         "Zoom to rectangle\nx/y fixes axis, CTRL fixes aspect",
         "square-o",
         "zoom"
        ],
        [
         "Download",
         "Download plot",
         "floppy-o",
         "save_figure"
        ]
       ]
      }
     },
     "597b254e8c974d0bafd39ca39f910a29": {
      "model_module": "@jupyter-widgets/base",
      "model_module_version": "1.2.0",
      "model_name": "LayoutModel",
      "state": {}
     },
     "764d1f67012145d58bc391d2a1240c85": {
      "model_module": "@jupyter-widgets/base",
      "model_module_version": "1.2.0",
      "model_name": "LayoutModel",
      "state": {}
     },
     "a124a4e25281454d9e5c206af672427f": {
      "model_module": "jupyter-matplotlib",
      "model_module_version": "^0.7.4",
      "model_name": "MPLCanvasModel",
      "state": {
       "_cursor": "default",
       "_figure_label": "Figure 3",
       "_height": 480,
       "_message": "x= y=110.0",
       "_width": 640,
       "layout": "IPY_MODEL_ec425f213f1849f68251bd5315030b2e",
       "toolbar": "IPY_MODEL_12162cdd94e44882a4bfbd2fd6ca9bce",
       "toolbar_position": "left"
      }
     },
     "c6df73f97b9542e49e65c6d32e2ac339": {
      "model_module": "@jupyter-widgets/base",
      "model_module_version": "1.2.0",
      "model_name": "LayoutModel",
      "state": {}
     },
     "cb2324fcedcb4a13b8f67e58c353e9e0": {
      "model_module": "@jupyter-widgets/base",
      "model_module_version": "1.2.0",
      "model_name": "LayoutModel",
      "state": {}
     },
     "da6aa216105f4a7385f0cca32f4a8c7d": {
      "model_module": "jupyter-matplotlib",
      "model_module_version": "^0.7.4",
      "model_name": "MPLCanvasModel",
      "state": {
       "layout": "IPY_MODEL_597b254e8c974d0bafd39ca39f910a29",
       "toolbar": "IPY_MODEL_5759e29af4ea40cfaffd5fb4282adf6b",
       "toolbar_position": "left"
      }
     },
     "e0227ba036b8438985362f77520472b9": {
      "model_module": "@jupyter-widgets/base",
      "model_module_version": "1.2.0",
      "model_name": "LayoutModel",
      "state": {}
     },
     "ec425f213f1849f68251bd5315030b2e": {
      "model_module": "@jupyter-widgets/base",
      "model_module_version": "1.2.0",
      "model_name": "LayoutModel",
      "state": {}
     },
     "ff0f52047b044cc18d2089d0248a0ab7": {
      "model_module": "jupyter-matplotlib",
      "model_module_version": "^0.7.4",
      "model_name": "MPLCanvasModel",
      "state": {
       "_cursor": "default",
       "_figure_label": "Figure 4",
       "_height": 480,
       "_width": 640,
       "layout": "IPY_MODEL_cb2324fcedcb4a13b8f67e58c353e9e0",
       "toolbar": "IPY_MODEL_377c41ced34a41d4af4cc71c0cac8e4f",
       "toolbar_position": "left"
      }
     }
    },
    "version_major": 2,
    "version_minor": 0
   }
  }
 },
 "nbformat": 4,
 "nbformat_minor": 4
}
