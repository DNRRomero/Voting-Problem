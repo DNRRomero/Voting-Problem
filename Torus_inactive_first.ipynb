{
 "cells": [
  {
   "cell_type": "code",
   "execution_count": 1,
   "metadata": {
    "ExecuteTime": {
     "end_time": "2021-02-25T05:18:08.901775Z",
     "start_time": "2021-02-25T05:18:05.343829Z"
    }
   },
   "outputs": [],
   "source": [
    "%matplotlib widget\n",
    "import numpy as np\n",
    "import matplotlib\n",
    "import matplotlib.pyplot as plt\n",
    "from matplotlib import animation, rc\n",
    "from IPython.display import HTML\n",
    "import seaborn as sns\n",
    "import pandas as pd\n",
    "from pathlib import Path\n",
    "data = Path('data/Torus')"
   ]
  },
  {
   "cell_type": "code",
   "execution_count": 2,
   "metadata": {
    "ExecuteTime": {
     "end_time": "2021-02-25T05:18:08.969414Z",
     "start_time": "2021-02-25T05:18:08.955281Z"
    }
   },
   "outputs": [],
   "source": [
    "from matplotlib import animation, rc\n",
    "plt.rcParams['animation.embed_limit'] = 2**128\n",
    "rc('animation', html='jshtml')"
   ]
  },
  {
   "cell_type": "code",
   "execution_count": 3,
   "metadata": {
    "ExecuteTime": {
     "end_time": "2021-02-25T05:18:09.038189Z",
     "start_time": "2021-02-25T05:18:09.018700Z"
    }
   },
   "outputs": [],
   "source": [
    "sns.set_style(\"whitegrid\")\n",
    "sns.set_palette(sns.color_palette())"
   ]
  },
  {
   "cell_type": "code",
   "execution_count": 4,
   "metadata": {
    "ExecuteTime": {
     "end_time": "2021-02-25T05:18:10.013529Z",
     "start_time": "2021-02-25T05:18:09.106744Z"
    }
   },
   "outputs": [],
   "source": [
    "from src.modules import Evolve, Torus, Ring, utils, Plotter, metric, data_structure"
   ]
  },
  {
   "cell_type": "code",
   "execution_count": 8,
   "metadata": {
    "ExecuteTime": {
     "end_time": "2021-01-26T17:26:37.500366Z",
     "start_time": "2021-01-26T17:26:37.455085Z"
    }
   },
   "outputs": [
    {
     "data": {
      "text/html": [
       "<div>\n",
       "<style scoped>\n",
       "    .dataframe tbody tr th:only-of-type {\n",
       "        vertical-align: middle;\n",
       "    }\n",
       "\n",
       "    .dataframe tbody tr th {\n",
       "        vertical-align: top;\n",
       "    }\n",
       "\n",
       "    .dataframe thead th {\n",
       "        text-align: right;\n",
       "    }\n",
       "</style>\n",
       "<table border=\"1\" class=\"dataframe\">\n",
       "  <thead>\n",
       "    <tr style=\"text-align: right;\">\n",
       "      <th></th>\n",
       "      <th>length</th>\n",
       "      <th>$r_{stable}$</th>\n",
       "      <th>fct</th>\n",
       "      <th>Energy</th>\n",
       "      <th>Consensus</th>\n",
       "    </tr>\n",
       "  </thead>\n",
       "  <tbody>\n",
       "    <tr>\n",
       "      <th>0</th>\n",
       "      <td>12002</td>\n",
       "      <td>0.190698</td>\n",
       "      <td>164</td>\n",
       "      <td>-0.937500</td>\n",
       "      <td>0.693359</td>\n",
       "    </tr>\n",
       "    <tr>\n",
       "      <th>1</th>\n",
       "      <td>12002</td>\n",
       "      <td>0.196262</td>\n",
       "      <td>168</td>\n",
       "      <td>-0.861328</td>\n",
       "      <td>0.039062</td>\n",
       "    </tr>\n",
       "    <tr>\n",
       "      <th>2</th>\n",
       "      <td>12002</td>\n",
       "      <td>0.201878</td>\n",
       "      <td>172</td>\n",
       "      <td>-0.882812</td>\n",
       "      <td>0.062500</td>\n",
       "    </tr>\n",
       "    <tr>\n",
       "      <th>3</th>\n",
       "      <td>12002</td>\n",
       "      <td>0.207547</td>\n",
       "      <td>176</td>\n",
       "      <td>-0.892578</td>\n",
       "      <td>0.505859</td>\n",
       "    </tr>\n",
       "    <tr>\n",
       "      <th>4</th>\n",
       "      <td>12002</td>\n",
       "      <td>0.213270</td>\n",
       "      <td>180</td>\n",
       "      <td>-0.867188</td>\n",
       "      <td>0.042969</td>\n",
       "    </tr>\n",
       "    <tr>\n",
       "      <th>...</th>\n",
       "      <td>...</td>\n",
       "      <td>...</td>\n",
       "      <td>...</td>\n",
       "      <td>...</td>\n",
       "      <td>...</td>\n",
       "    </tr>\n",
       "    <tr>\n",
       "      <th>1775</th>\n",
       "      <td>12002</td>\n",
       "      <td>0.280000</td>\n",
       "      <td>224</td>\n",
       "      <td>-0.886719</td>\n",
       "      <td>0.123047</td>\n",
       "    </tr>\n",
       "    <tr>\n",
       "      <th>1776</th>\n",
       "      <td>12002</td>\n",
       "      <td>0.286432</td>\n",
       "      <td>228</td>\n",
       "      <td>-0.835938</td>\n",
       "      <td>0.041016</td>\n",
       "    </tr>\n",
       "    <tr>\n",
       "      <th>1777</th>\n",
       "      <td>12002</td>\n",
       "      <td>0.292929</td>\n",
       "      <td>232</td>\n",
       "      <td>-0.837891</td>\n",
       "      <td>0.027344</td>\n",
       "    </tr>\n",
       "    <tr>\n",
       "      <th>1778</th>\n",
       "      <td>12002</td>\n",
       "      <td>0.299492</td>\n",
       "      <td>236</td>\n",
       "      <td>-0.830078</td>\n",
       "      <td>0.023438</td>\n",
       "    </tr>\n",
       "    <tr>\n",
       "      <th>1779</th>\n",
       "      <td>540</td>\n",
       "      <td>0.306122</td>\n",
       "      <td>240</td>\n",
       "      <td>-0.824219</td>\n",
       "      <td>0.094564</td>\n",
       "    </tr>\n",
       "  </tbody>\n",
       "</table>\n",
       "<p>1780 rows × 5 columns</p>\n",
       "</div>"
      ],
      "text/plain": [
       "      length  $r_{stable}$  fct    Energy  Consensus\n",
       "0      12002      0.190698  164 -0.937500   0.693359\n",
       "1      12002      0.196262  168 -0.861328   0.039062\n",
       "2      12002      0.201878  172 -0.882812   0.062500\n",
       "3      12002      0.207547  176 -0.892578   0.505859\n",
       "4      12002      0.213270  180 -0.867188   0.042969\n",
       "...      ...           ...  ...       ...        ...\n",
       "1775   12002      0.280000  224 -0.886719   0.123047\n",
       "1776   12002      0.286432  228 -0.835938   0.041016\n",
       "1777   12002      0.292929  232 -0.837891   0.027344\n",
       "1778   12002      0.299492  236 -0.830078   0.023438\n",
       "1779     540      0.306122  240 -0.824219   0.094564\n",
       "\n",
       "[1780 rows x 5 columns]"
      ]
     },
     "execution_count": 8,
     "metadata": {},
     "output_type": "execute_result"
    }
   ],
   "source": [
    "trans2"
   ]
  },
  {
   "cell_type": "code",
   "execution_count": 5,
   "metadata": {
    "ExecuteTime": {
     "end_time": "2021-02-25T05:18:12.734198Z",
     "start_time": "2021-02-25T05:18:12.591595Z"
    }
   },
   "outputs": [],
   "source": [
    "trans = pd.read_csv('data/Torus/Torus_transition_32_summary.csv', sep=';')"
   ]
  },
  {
   "cell_type": "code",
   "execution_count": 8,
   "metadata": {
    "ExecuteTime": {
     "end_time": "2021-02-25T04:54:48.235267Z",
     "start_time": "2021-02-25T04:54:48.158386Z"
    }
   },
   "outputs": [
    {
     "data": {
      "text/html": [
       "<div>\n",
       "<style scoped>\n",
       "    .dataframe tbody tr th:only-of-type {\n",
       "        vertical-align: middle;\n",
       "    }\n",
       "\n",
       "    .dataframe tbody tr th {\n",
       "        vertical-align: top;\n",
       "    }\n",
       "\n",
       "    .dataframe thead th {\n",
       "        text-align: right;\n",
       "    }\n",
       "</style>\n",
       "<table border=\"1\" class=\"dataframe\">\n",
       "  <thead>\n",
       "    <tr style=\"text-align: right;\">\n",
       "      <th></th>\n",
       "      <th>length</th>\n",
       "      <th>$r_{stable}$</th>\n",
       "      <th>fct</th>\n",
       "      <th>Energy</th>\n",
       "      <th>Consensus</th>\n",
       "      <th>sample</th>\n",
       "    </tr>\n",
       "  </thead>\n",
       "  <tbody>\n",
       "    <tr>\n",
       "      <th>0</th>\n",
       "      <td>1</td>\n",
       "      <td>0.0</td>\n",
       "      <td>0</td>\n",
       "      <td>-0.000000</td>\n",
       "      <td>0.000000</td>\n",
       "      <td>NaN</td>\n",
       "    </tr>\n",
       "    <tr>\n",
       "      <th>1</th>\n",
       "      <td>1</td>\n",
       "      <td>0.0</td>\n",
       "      <td>0</td>\n",
       "      <td>-1.000000</td>\n",
       "      <td>1.000000</td>\n",
       "      <td>NaN</td>\n",
       "    </tr>\n",
       "    <tr>\n",
       "      <th>2</th>\n",
       "      <td>1</td>\n",
       "      <td>0.0</td>\n",
       "      <td>0</td>\n",
       "      <td>-0.000000</td>\n",
       "      <td>0.000000</td>\n",
       "      <td>NaN</td>\n",
       "    </tr>\n",
       "    <tr>\n",
       "      <th>3</th>\n",
       "      <td>1</td>\n",
       "      <td>0.0</td>\n",
       "      <td>0</td>\n",
       "      <td>-0.000000</td>\n",
       "      <td>0.000000</td>\n",
       "      <td>NaN</td>\n",
       "    </tr>\n",
       "    <tr>\n",
       "      <th>4</th>\n",
       "      <td>1</td>\n",
       "      <td>0.0</td>\n",
       "      <td>0</td>\n",
       "      <td>-0.000000</td>\n",
       "      <td>0.000000</td>\n",
       "      <td>NaN</td>\n",
       "    </tr>\n",
       "    <tr>\n",
       "      <th>...</th>\n",
       "      <td>...</td>\n",
       "      <td>...</td>\n",
       "      <td>...</td>\n",
       "      <td>...</td>\n",
       "      <td>...</td>\n",
       "      <td>...</td>\n",
       "    </tr>\n",
       "    <tr>\n",
       "      <th>58517</th>\n",
       "      <td>1</td>\n",
       "      <td>inf</td>\n",
       "      <td>1024</td>\n",
       "      <td>-0.632812</td>\n",
       "      <td>0.074219</td>\n",
       "      <td>NaN</td>\n",
       "    </tr>\n",
       "    <tr>\n",
       "      <th>58518</th>\n",
       "      <td>1</td>\n",
       "      <td>inf</td>\n",
       "      <td>1024</td>\n",
       "      <td>-0.617188</td>\n",
       "      <td>0.007812</td>\n",
       "      <td>NaN</td>\n",
       "    </tr>\n",
       "    <tr>\n",
       "      <th>58519</th>\n",
       "      <td>1</td>\n",
       "      <td>inf</td>\n",
       "      <td>1024</td>\n",
       "      <td>-0.628906</td>\n",
       "      <td>0.033203</td>\n",
       "      <td>NaN</td>\n",
       "    </tr>\n",
       "    <tr>\n",
       "      <th>58520</th>\n",
       "      <td>1</td>\n",
       "      <td>inf</td>\n",
       "      <td>1024</td>\n",
       "      <td>-0.621094</td>\n",
       "      <td>0.037109</td>\n",
       "      <td>NaN</td>\n",
       "    </tr>\n",
       "    <tr>\n",
       "      <th>58521</th>\n",
       "      <td>1</td>\n",
       "      <td>inf</td>\n",
       "      <td>1024</td>\n",
       "      <td>-0.583984</td>\n",
       "      <td>0.005859</td>\n",
       "      <td>NaN</td>\n",
       "    </tr>\n",
       "  </tbody>\n",
       "</table>\n",
       "<p>58522 rows × 6 columns</p>\n",
       "</div>"
      ],
      "text/plain": [
       "       length  $r_{stable}$   fct    Energy  Consensus  sample\n",
       "0           1           0.0     0 -0.000000   0.000000     NaN\n",
       "1           1           0.0     0 -1.000000   1.000000     NaN\n",
       "2           1           0.0     0 -0.000000   0.000000     NaN\n",
       "3           1           0.0     0 -0.000000   0.000000     NaN\n",
       "4           1           0.0     0 -0.000000   0.000000     NaN\n",
       "...       ...           ...   ...       ...        ...     ...\n",
       "58517       1           inf  1024 -0.632812   0.074219     NaN\n",
       "58518       1           inf  1024 -0.617188   0.007812     NaN\n",
       "58519       1           inf  1024 -0.628906   0.033203     NaN\n",
       "58520       1           inf  1024 -0.621094   0.037109     NaN\n",
       "58521       1           inf  1024 -0.583984   0.005859     NaN\n",
       "\n",
       "[58522 rows x 6 columns]"
      ]
     },
     "execution_count": 8,
     "metadata": {},
     "output_type": "execute_result"
    }
   ],
   "source": [
    "trans"
   ]
  },
  {
   "cell_type": "code",
   "execution_count": 12,
   "metadata": {
    "ExecuteTime": {
     "end_time": "2021-02-25T02:52:36.162697Z",
     "start_time": "2021-02-25T02:52:36.155277Z"
    }
   },
   "outputs": [
    {
     "data": {
      "text/plain": [
       "240"
      ]
     },
     "execution_count": 12,
     "metadata": {},
     "output_type": "execute_result"
    }
   ],
   "source": [
    "trans2.fct.max()"
   ]
  },
  {
   "cell_type": "code",
   "execution_count": 7,
   "metadata": {
    "ExecuteTime": {
     "end_time": "2021-02-25T02:51:55.369975Z",
     "start_time": "2021-02-25T02:51:55.356539Z"
    }
   },
   "outputs": [],
   "source": [
    "trans2 = pd.read_csv('data/Torus/Torus_transition_32_rand_4_cont_2.csv')"
   ]
  },
  {
   "cell_type": "code",
   "execution_count": 13,
   "metadata": {
    "ExecuteTime": {
     "end_time": "2021-02-25T02:52:41.981300Z",
     "start_time": "2021-02-25T02:52:41.972084Z"
    }
   },
   "outputs": [],
   "source": [
    "trans = pd.concat([trans, trans2], ignore_index=True)"
   ]
  },
  {
   "cell_type": "code",
   "execution_count": 15,
   "metadata": {
    "ExecuteTime": {
     "end_time": "2021-02-25T02:54:07.300716Z",
     "start_time": "2021-02-25T02:54:07.298619Z"
    }
   },
   "outputs": [],
   "source": [
    "from glob import glob"
   ]
  },
  {
   "cell_type": "code",
   "execution_count": 19,
   "metadata": {
    "ExecuteTime": {
     "end_time": "2021-02-25T02:56:43.295708Z",
     "start_time": "2021-02-25T02:56:43.293184Z"
    }
   },
   "outputs": [],
   "source": [
    "files = glob('data/Torus/Torus_transition_32*')"
   ]
  },
  {
   "cell_type": "code",
   "execution_count": 79,
   "metadata": {
    "ExecuteTime": {
     "end_time": "2021-02-25T04:03:21.228292Z",
     "start_time": "2021-02-25T04:03:20.686765Z"
    }
   },
   "outputs": [],
   "source": [
    "trans.to_csv('data/Torus/Torus_transition_32_summary.csv', sep=';', index=False)"
   ]
  },
  {
   "cell_type": "code",
   "execution_count": 26,
   "metadata": {
    "ExecuteTime": {
     "end_time": "2021-02-25T03:01:01.770971Z",
     "start_time": "2021-02-25T03:01:01.749285Z"
    }
   },
   "outputs": [],
   "source": [
    "g = pd.concat(g, ignore_index=True)"
   ]
  },
  {
   "cell_type": "code",
   "execution_count": null,
   "metadata": {},
   "outputs": [],
   "source": [
    "pd.read_csv('data/Torus/Torus_transition_32_rand_4')"
   ]
  },
  {
   "cell_type": "code",
   "execution_count": 14,
   "metadata": {
    "ExecuteTime": {
     "end_time": "2021-01-26T17:28:41.536766Z",
     "start_time": "2021-01-26T17:28:41.513321Z"
    }
   },
   "outputs": [],
   "source": [
    "best_trans = trans.groupby('$r_{stable}$').agg({'Consensus': 'max'})"
   ]
  },
  {
   "cell_type": "code",
   "execution_count": 9,
   "metadata": {
    "ExecuteTime": {
     "end_time": "2021-02-25T04:55:06.080644Z",
     "start_time": "2021-02-25T04:55:05.746947Z"
    }
   },
   "outputs": [
    {
     "data": {
      "application/vnd.jupyter.widget-view+json": {
       "model_id": "0879323b20b842d5a2a786bd25680fd7",
       "version_major": 2,
       "version_minor": 0
      },
      "text/plain": [
       "Canvas(toolbar=Toolbar(toolitems=[('Home', 'Reset original view', 'home', 'home'), ('Back', 'Back to previous …"
      ]
     },
     "metadata": {},
     "output_type": "display_data"
    },
    {
     "ename": "NameError",
     "evalue": "name 'best_trans' is not defined",
     "output_type": "error",
     "traceback": [
      "\u001b[0;31m---------------------------------------------------------------------------\u001b[0m",
      "\u001b[0;31mNameError\u001b[0m                                 Traceback (most recent call last)",
      "\u001b[0;32m<ipython-input-9-f1ce8b40e4c5>\u001b[0m in \u001b[0;36m<module>\u001b[0;34m\u001b[0m\n\u001b[1;32m      1\u001b[0m \u001b[0max\u001b[0m\u001b[0;34m,\u001b[0m\u001b[0mfig\u001b[0m \u001b[0;34m=\u001b[0m \u001b[0mplt\u001b[0m\u001b[0;34m.\u001b[0m\u001b[0msubplots\u001b[0m\u001b[0;34m(\u001b[0m\u001b[0;34m)\u001b[0m\u001b[0;34m\u001b[0m\u001b[0;34m\u001b[0m\u001b[0m\n\u001b[0;32m----> 2\u001b[0;31m \u001b[0msns\u001b[0m\u001b[0;34m.\u001b[0m\u001b[0mlineplot\u001b[0m\u001b[0;34m(\u001b[0m\u001b[0mdata\u001b[0m\u001b[0;34m=\u001b[0m\u001b[0mbest_trans\u001b[0m\u001b[0;34m,\u001b[0m \u001b[0mx\u001b[0m\u001b[0;34m=\u001b[0m\u001b[0;34m'$r_{stable}$'\u001b[0m\u001b[0;34m,\u001b[0m \u001b[0my\u001b[0m\u001b[0;34m=\u001b[0m\u001b[0;34m'Consensus'\u001b[0m\u001b[0;34m,\u001b[0m\u001b[0;34m)\u001b[0m\u001b[0;34m\u001b[0m\u001b[0;34m\u001b[0m\u001b[0m\n\u001b[0m",
      "\u001b[0;31mNameError\u001b[0m: name 'best_trans' is not defined"
     ]
    }
   ],
   "source": [
    "ax,fig = plt.subplots()\n",
    "sns.lineplot(data=best_trans, x='$r_{stable}$', y='Consensus',)"
   ]
  },
  {
   "cell_type": "code",
   "execution_count": 10,
   "metadata": {
    "ExecuteTime": {
     "end_time": "2021-02-25T04:28:21.080905Z",
     "start_time": "2021-02-25T04:28:21.070409Z"
    }
   },
   "outputs": [],
   "source": [
    "%matplotlib widget"
   ]
  },
  {
   "cell_type": "code",
   "execution_count": 6,
   "metadata": {
    "ExecuteTime": {
     "end_time": "2021-02-25T05:18:30.116993Z",
     "start_time": "2021-02-25T05:18:29.820461Z"
    }
   },
   "outputs": [
    {
     "data": {
      "application/vnd.jupyter.widget-view+json": {
       "model_id": "154bd9db3af54e4b9cbd216edf994c07",
       "version_major": 2,
       "version_minor": 0
      },
      "text/plain": [
       "Canvas(toolbar=Toolbar(toolitems=[('Home', 'Reset original view', 'home', 'home'), ('Back', 'Back to previous …"
      ]
     },
     "metadata": {},
     "output_type": "display_data"
    },
    {
     "data": {
      "text/plain": [
       "Text(0.5, 1.0, '32 x 32 Torus consensus reached according to $r_{stable}$')"
      ]
     },
     "execution_count": 6,
     "metadata": {},
     "output_type": "execute_result"
    }
   ],
   "source": [
    "ax,fig = plt.subplots()\n",
    "sns.lineplot(data=trans, x='$r_{stable}$', y='Consensus',ci=None)\n",
    "fig.set_title('32 x 32 Torus consensus reached according to $r_{stable}$')"
   ]
  },
  {
   "cell_type": "code",
   "execution_count": 33,
   "metadata": {
    "ExecuteTime": {
     "end_time": "2021-01-26T17:53:19.758426Z",
     "start_time": "2021-01-26T17:53:19.474823Z"
    }
   },
   "outputs": [
    {
     "data": {
      "application/vnd.jupyter.widget-view+json": {
       "model_id": "871b62af7b744c9ca00d9764e2bacb08",
       "version_major": 2,
       "version_minor": 0
      },
      "text/plain": [
       "Canvas(toolbar=Toolbar(toolitems=[('Home', 'Reset original view', 'home', 'home'), ('Back', 'Back to previous …"
      ]
     },
     "metadata": {},
     "output_type": "display_data"
    },
    {
     "data": {
      "text/plain": [
       "<AxesSubplot:xlabel='Consensus', ylabel='length'>"
      ]
     },
     "execution_count": 33,
     "metadata": {},
     "output_type": "execute_result"
    }
   ],
   "source": [
    "ax,fig = plt.subplots()\n",
    "sns.scatterplot(data=trans, x='Consensus', y='length', hue='fct', legend=None)"
   ]
  },
  {
   "cell_type": "code",
   "execution_count": 32,
   "metadata": {
    "ExecuteTime": {
     "end_time": "2021-01-26T17:49:29.232642Z",
     "start_time": "2021-01-26T17:49:29.004045Z"
    }
   },
   "outputs": [
    {
     "data": {
      "application/vnd.jupyter.widget-view+json": {
       "model_id": "0bb974cd6276422e9567013af8df4a59",
       "version_major": 2,
       "version_minor": 0
      },
      "text/plain": [
       "Canvas(toolbar=Toolbar(toolitems=[('Home', 'Reset original view', 'home', 'home'), ('Back', 'Back to previous …"
      ]
     },
     "metadata": {},
     "output_type": "display_data"
    },
    {
     "data": {
      "text/plain": [
       "<AxesSubplot:xlabel='$r_{stable}$', ylabel='length'>"
      ]
     },
     "execution_count": 32,
     "metadata": {},
     "output_type": "execute_result"
    }
   ],
   "source": [
    "ax,fig = plt.subplots()\n",
    "sns.scatterplot(data=trans, x='$r_{stable}$', y='length')"
   ]
  },
  {
   "cell_type": "code",
   "execution_count": 31,
   "metadata": {
    "ExecuteTime": {
     "end_time": "2021-01-26T17:45:49.918681Z",
     "start_time": "2021-01-26T17:45:49.742204Z"
    }
   },
   "outputs": [
    {
     "data": {
      "application/vnd.jupyter.widget-view+json": {
       "model_id": "40c23c06ee8641f084d84b2a810f873b",
       "version_major": 2,
       "version_minor": 0
      },
      "text/plain": [
       "Canvas(toolbar=Toolbar(toolitems=[('Home', 'Reset original view', 'home', 'home'), ('Back', 'Back to previous …"
      ]
     },
     "metadata": {},
     "output_type": "display_data"
    },
    {
     "data": {
      "text/plain": [
       "<AxesSubplot:xlabel='$r_{stable}$', ylabel='length'>"
      ]
     },
     "execution_count": 31,
     "metadata": {},
     "output_type": "execute_result"
    }
   ],
   "source": [
    "ax,fig = plt.subplots()\n",
    "sns.lineplot(data=trans, x='$r_{stable}$', y='length',ci=None)"
   ]
  },
  {
   "cell_type": "code",
   "execution_count": 31,
   "metadata": {
    "ExecuteTime": {
     "end_time": "2021-01-21T01:29:13.649129Z",
     "start_time": "2021-01-21T01:29:13.395923Z"
    }
   },
   "outputs": [],
   "source": [
    "plt.savefig('data/torus_transition.svg', format='svg', transparent=True)"
   ]
  },
  {
   "cell_type": "code",
   "execution_count": null,
   "metadata": {},
   "outputs": [],
   "source": []
  },
  {
   "cell_type": "markdown",
   "metadata": {},
   "source": [
    "# Grilla 32x32 \n",
    "# consenso inicial en $\\{0, 0.1, 0.3, 0.5, 0.7, 0.9, 1\\}$ en inactivos\n",
    "# estables vs inestables\n",
    "# Priorizando inactivos vs orden al azar"
   ]
  },
  {
   "cell_type": "code",
   "execution_count": 6,
   "metadata": {},
   "outputs": [
    {
     "data": {
      "application/vnd.jupyter.widget-view+json": {
       "model_id": "0815c06a321f4a1ab5dff7e25d44b6e2",
       "version_major": 2,
       "version_minor": 0
      },
      "text/plain": [
       "Canvas(toolbar=Toolbar(toolitems=[('Home', 'Reset original view', 'home', 'home'), ('Back', 'Back to previous …"
      ]
     },
     "metadata": {},
     "output_type": "display_data"
    }
   ],
   "source": [
    "conf= utils.create_config(data_structure.ConfigType.Torus, n=32)\n",
    "states = utils.states_per_magnet(1024, 0.5, data_structure.State.ON)\n",
    "conf.set_states(states)\n",
    "Plotter.plot_config(conf, which='state')"
   ]
  },
  {
   "cell_type": "markdown",
   "metadata": {},
   "source": [
    "### Load"
   ]
  },
  {
   "cell_type": "code",
   "execution_count": 32,
   "metadata": {
    "ExecuteTime": {
     "end_time": "2021-01-21T01:50:42.465648Z",
     "start_time": "2021-01-21T01:50:42.197607Z"
    }
   },
   "outputs": [],
   "source": [
    "df= pd.read_csv(data / 'Torus_inactive_32.csv')"
   ]
  },
  {
   "cell_type": "code",
   "execution_count": 36,
   "metadata": {
    "ExecuteTime": {
     "end_time": "2021-01-21T01:52:41.411512Z",
     "start_time": "2021-01-21T01:52:41.342964Z"
    }
   },
   "outputs": [
    {
     "data": {
      "text/html": [
       "<div>\n",
       "<style scoped>\n",
       "    .dataframe tbody tr th:only-of-type {\n",
       "        vertical-align: middle;\n",
       "    }\n",
       "\n",
       "    .dataframe tbody tr th {\n",
       "        vertical-align: top;\n",
       "    }\n",
       "\n",
       "    .dataframe thead th {\n",
       "        text-align: right;\n",
       "    }\n",
       "</style>\n",
       "<table border=\"1\" class=\"dataframe\">\n",
       "  <thead>\n",
       "    <tr style=\"text-align: right;\">\n",
       "      <th></th>\n",
       "      <th>init_magnet</th>\n",
       "      <th>Energy</th>\n",
       "      <th>Density</th>\n",
       "      <th>order</th>\n",
       "      <th>init_stab</th>\n",
       "      <th>length</th>\n",
       "      <th>sample</th>\n",
       "      <th>$r_{stable}$</th>\n",
       "    </tr>\n",
       "  </thead>\n",
       "  <tbody>\n",
       "    <tr>\n",
       "      <th>0</th>\n",
       "      <td>0.0</td>\n",
       "      <td>-1.000000</td>\n",
       "      <td>1.000000</td>\n",
       "      <td>off_first</td>\n",
       "      <td>0.0</td>\n",
       "      <td>0</td>\n",
       "      <td>20426372152</td>\n",
       "      <td>0.000000</td>\n",
       "    </tr>\n",
       "    <tr>\n",
       "      <th>1</th>\n",
       "      <td>0.0</td>\n",
       "      <td>-1.000000</td>\n",
       "      <td>0.000000</td>\n",
       "      <td>random</td>\n",
       "      <td>0.0</td>\n",
       "      <td>1</td>\n",
       "      <td>20426372152</td>\n",
       "      <td>0.000000</td>\n",
       "    </tr>\n",
       "    <tr>\n",
       "      <th>2</th>\n",
       "      <td>0.0</td>\n",
       "      <td>-0.990234</td>\n",
       "      <td>0.994141</td>\n",
       "      <td>off_first</td>\n",
       "      <td>0.2</td>\n",
       "      <td>0</td>\n",
       "      <td>20426372152</td>\n",
       "      <td>0.250000</td>\n",
       "    </tr>\n",
       "    <tr>\n",
       "      <th>3</th>\n",
       "      <td>0.0</td>\n",
       "      <td>-0.880859</td>\n",
       "      <td>0.538086</td>\n",
       "      <td>random</td>\n",
       "      <td>0.2</td>\n",
       "      <td>12002</td>\n",
       "      <td>20426372152</td>\n",
       "      <td>0.250000</td>\n",
       "    </tr>\n",
       "    <tr>\n",
       "      <th>4</th>\n",
       "      <td>0.0</td>\n",
       "      <td>-0.935547</td>\n",
       "      <td>0.950195</td>\n",
       "      <td>off_first</td>\n",
       "      <td>0.4</td>\n",
       "      <td>0</td>\n",
       "      <td>20426372152</td>\n",
       "      <td>0.666667</td>\n",
       "    </tr>\n",
       "    <tr>\n",
       "      <th>...</th>\n",
       "      <td>...</td>\n",
       "      <td>...</td>\n",
       "      <td>...</td>\n",
       "      <td>...</td>\n",
       "      <td>...</td>\n",
       "      <td>...</td>\n",
       "      <td>...</td>\n",
       "      <td>...</td>\n",
       "    </tr>\n",
       "    <tr>\n",
       "      <th>49207</th>\n",
       "      <td>-0.1</td>\n",
       "      <td>-0.796875</td>\n",
       "      <td>0.737119</td>\n",
       "      <td>random</td>\n",
       "      <td>0.5</td>\n",
       "      <td>420</td>\n",
       "      <td>2075800228</td>\n",
       "      <td>1.000000</td>\n",
       "    </tr>\n",
       "    <tr>\n",
       "      <th>49208</th>\n",
       "      <td>-0.1</td>\n",
       "      <td>-0.925781</td>\n",
       "      <td>0.939453</td>\n",
       "      <td>off_first</td>\n",
       "      <td>0.6</td>\n",
       "      <td>0</td>\n",
       "      <td>2075800228</td>\n",
       "      <td>1.500000</td>\n",
       "    </tr>\n",
       "    <tr>\n",
       "      <th>49209</th>\n",
       "      <td>-0.1</td>\n",
       "      <td>-0.728516</td>\n",
       "      <td>0.659626</td>\n",
       "      <td>random</td>\n",
       "      <td>0.6</td>\n",
       "      <td>420</td>\n",
       "      <td>2075800228</td>\n",
       "      <td>1.500000</td>\n",
       "    </tr>\n",
       "    <tr>\n",
       "      <th>49210</th>\n",
       "      <td>-0.1</td>\n",
       "      <td>-0.865234</td>\n",
       "      <td>0.899414</td>\n",
       "      <td>off_first</td>\n",
       "      <td>0.8</td>\n",
       "      <td>0</td>\n",
       "      <td>2075800228</td>\n",
       "      <td>4.000000</td>\n",
       "    </tr>\n",
       "    <tr>\n",
       "      <th>49211</th>\n",
       "      <td>-0.1</td>\n",
       "      <td>-0.732422</td>\n",
       "      <td>0.668457</td>\n",
       "      <td>random</td>\n",
       "      <td>0.8</td>\n",
       "      <td>6</td>\n",
       "      <td>2075800228</td>\n",
       "      <td>4.000000</td>\n",
       "    </tr>\n",
       "  </tbody>\n",
       "</table>\n",
       "<p>49212 rows × 8 columns</p>\n",
       "</div>"
      ],
      "text/plain": [
       "       init_magnet    Energy   Density      order  init_stab  length  \\\n",
       "0              0.0 -1.000000  1.000000  off_first        0.0       0   \n",
       "1              0.0 -1.000000  0.000000     random        0.0       1   \n",
       "2              0.0 -0.990234  0.994141  off_first        0.2       0   \n",
       "3              0.0 -0.880859  0.538086     random        0.2   12002   \n",
       "4              0.0 -0.935547  0.950195  off_first        0.4       0   \n",
       "...            ...       ...       ...        ...        ...     ...   \n",
       "49207         -0.1 -0.796875  0.737119     random        0.5     420   \n",
       "49208         -0.1 -0.925781  0.939453  off_first        0.6       0   \n",
       "49209         -0.1 -0.728516  0.659626     random        0.6     420   \n",
       "49210         -0.1 -0.865234  0.899414  off_first        0.8       0   \n",
       "49211         -0.1 -0.732422  0.668457     random        0.8       6   \n",
       "\n",
       "            sample  $r_{stable}$  \n",
       "0      20426372152      0.000000  \n",
       "1      20426372152      0.000000  \n",
       "2      20426372152      0.250000  \n",
       "3      20426372152      0.250000  \n",
       "4      20426372152      0.666667  \n",
       "...            ...           ...  \n",
       "49207   2075800228      1.000000  \n",
       "49208   2075800228      1.500000  \n",
       "49209   2075800228      1.500000  \n",
       "49210   2075800228      4.000000  \n",
       "49211   2075800228      4.000000  \n",
       "\n",
       "[49212 rows x 8 columns]"
      ]
     },
     "execution_count": 36,
     "metadata": {},
     "output_type": "execute_result"
    }
   ],
   "source": [
    "df"
   ]
  },
  {
   "cell_type": "markdown",
   "metadata": {},
   "source": [
    "## Magnetization"
   ]
  },
  {
   "cell_type": "code",
   "execution_count": 45,
   "metadata": {
    "ExecuteTime": {
     "end_time": "2021-01-21T02:04:32.638274Z",
     "start_time": "2021-01-21T02:04:32.619894Z"
    }
   },
   "outputs": [],
   "source": [
    "dg=df[df['init_magnet'].isin([0.0, 0.2, -0.2])]"
   ]
  },
  {
   "cell_type": "code",
   "execution_count": 42,
   "metadata": {
    "ExecuteTime": {
     "end_time": "2021-01-21T02:01:34.279397Z",
     "start_time": "2021-01-21T02:01:34.253680Z"
    }
   },
   "outputs": [
    {
     "data": {
      "text/plain": [
       "array([ 0. ,  0.2,  0.4,  0.5,  0.6,  0.8, -0.4, -0.3, -0.2, -0.1])"
      ]
     },
     "execution_count": 42,
     "metadata": {},
     "output_type": "execute_result"
    }
   ],
   "source": [
    "df.init_magnet.unique()"
   ]
  },
  {
   "cell_type": "code",
   "execution_count": 57,
   "metadata": {
    "ExecuteTime": {
     "end_time": "2021-01-21T02:09:04.998638Z",
     "start_time": "2021-01-21T02:09:04.990984Z"
    }
   },
   "outputs": [],
   "source": [
    "plt.close('all')"
   ]
  },
  {
   "cell_type": "code",
   "execution_count": 58,
   "metadata": {
    "ExecuteTime": {
     "end_time": "2021-01-21T02:09:07.478928Z",
     "start_time": "2021-01-21T02:09:07.152868Z"
    },
    "scrolled": false
   },
   "outputs": [
    {
     "data": {
      "application/vnd.jupyter.widget-view+json": {
       "model_id": "6cb60c2797094349bc1453b491bed4c4",
       "version_major": 2,
       "version_minor": 0
      },
      "text/plain": [
       "Canvas(toolbar=Toolbar(toolitems=[('Home', 'Reset original view', 'home', 'home'), ('Back', 'Back to previous …"
      ]
     },
     "metadata": {},
     "output_type": "display_data"
    },
    {
     "data": {
      "text/plain": [
       "<matplotlib.legend.Legend at 0x7f4769ecca60>"
      ]
     },
     "execution_count": 58,
     "metadata": {},
     "output_type": "execute_result"
    }
   ],
   "source": [
    "fig,ax = plt.subplots()\n",
    "sns.lineplot(x='$r_{stable}$', y='Density', data=dg, hue='init_magnet', style='order', ci=None)\n",
    "plt.legend(bbox_to_anchor=(0.85, 1.1), loc=2, borderaxespad=0.)"
   ]
  },
  {
   "cell_type": "code",
   "execution_count": 59,
   "metadata": {
    "ExecuteTime": {
     "end_time": "2021-01-21T02:09:26.213837Z",
     "start_time": "2021-01-21T02:09:25.970815Z"
    }
   },
   "outputs": [],
   "source": [
    "plt.savefig('data/torus_inactive.svg', format='svg', transparent=True)"
   ]
  },
  {
   "cell_type": "code",
   "execution_count": 64,
   "metadata": {},
   "outputs": [
    {
     "data": {
      "application/vnd.jupyter.widget-view+json": {
       "model_id": "34b830fae7714dcd88f010427d5d6866",
       "version_major": 2,
       "version_minor": 0
      },
      "text/plain": [
       "Canvas(toolbar=Toolbar(toolitems=[('Home', 'Reset original view', 'home', 'home'), ('Back', 'Back to previous …"
      ]
     },
     "metadata": {},
     "output_type": "display_data"
    },
    {
     "data": {
      "text/plain": [
       "<AxesSubplot:xlabel='init_magnet', ylabel='Density'>"
      ]
     },
     "execution_count": 64,
     "metadata": {},
     "output_type": "execute_result"
    }
   ],
   "source": [
    "magnet_fig, ax =plt.subplots()\n",
    "sns.violinplot(x='init_magnet', y='Density', hue = 'order', data= df, scale='count', bw=.2, cut=0, split=True, inner= None)"
   ]
  },
  {
   "cell_type": "code",
   "execution_count": 66,
   "metadata": {},
   "outputs": [
    {
     "data": {
      "text/html": [
       "<div>\n",
       "<style scoped>\n",
       "    .dataframe tbody tr th:only-of-type {\n",
       "        vertical-align: middle;\n",
       "    }\n",
       "\n",
       "    .dataframe tbody tr th {\n",
       "        vertical-align: top;\n",
       "    }\n",
       "\n",
       "    .dataframe thead th {\n",
       "        text-align: right;\n",
       "    }\n",
       "</style>\n",
       "<table border=\"1\" class=\"dataframe\">\n",
       "  <thead>\n",
       "    <tr style=\"text-align: right;\">\n",
       "      <th></th>\n",
       "      <th>init_magnet</th>\n",
       "      <th>Energy</th>\n",
       "      <th>Density</th>\n",
       "      <th>order</th>\n",
       "      <th>init_stab</th>\n",
       "      <th>length</th>\n",
       "      <th>sample</th>\n",
       "    </tr>\n",
       "  </thead>\n",
       "  <tbody>\n",
       "    <tr>\n",
       "      <th>48</th>\n",
       "      <td>0.6</td>\n",
       "      <td>-1.0</td>\n",
       "      <td>1.0</td>\n",
       "      <td>off_first</td>\n",
       "      <td>0.0</td>\n",
       "      <td>0</td>\n",
       "      <td>20426372152</td>\n",
       "    </tr>\n",
       "    <tr>\n",
       "      <th>49</th>\n",
       "      <td>0.6</td>\n",
       "      <td>-1.0</td>\n",
       "      <td>0.0</td>\n",
       "      <td>random</td>\n",
       "      <td>0.0</td>\n",
       "      <td>1</td>\n",
       "      <td>20426372152</td>\n",
       "    </tr>\n",
       "    <tr>\n",
       "      <th>120</th>\n",
       "      <td>0.6</td>\n",
       "      <td>-1.0</td>\n",
       "      <td>1.0</td>\n",
       "      <td>off_first</td>\n",
       "      <td>0.0</td>\n",
       "      <td>0</td>\n",
       "      <td>20426372257</td>\n",
       "    </tr>\n",
       "    <tr>\n",
       "      <th>121</th>\n",
       "      <td>0.6</td>\n",
       "      <td>-1.0</td>\n",
       "      <td>0.0</td>\n",
       "      <td>random</td>\n",
       "      <td>0.0</td>\n",
       "      <td>1</td>\n",
       "      <td>20426372257</td>\n",
       "    </tr>\n",
       "    <tr>\n",
       "      <th>192</th>\n",
       "      <td>0.6</td>\n",
       "      <td>-1.0</td>\n",
       "      <td>1.0</td>\n",
       "      <td>off_first</td>\n",
       "      <td>0.0</td>\n",
       "      <td>0</td>\n",
       "      <td>2042637271</td>\n",
       "    </tr>\n",
       "    <tr>\n",
       "      <th>...</th>\n",
       "      <td>...</td>\n",
       "      <td>...</td>\n",
       "      <td>...</td>\n",
       "      <td>...</td>\n",
       "      <td>...</td>\n",
       "      <td>...</td>\n",
       "      <td>...</td>\n",
       "    </tr>\n",
       "    <tr>\n",
       "      <th>28705</th>\n",
       "      <td>0.6</td>\n",
       "      <td>-1.0</td>\n",
       "      <td>0.0</td>\n",
       "      <td>random</td>\n",
       "      <td>0.0</td>\n",
       "      <td>1</td>\n",
       "      <td>2042552638</td>\n",
       "    </tr>\n",
       "    <tr>\n",
       "      <th>28776</th>\n",
       "      <td>0.6</td>\n",
       "      <td>-1.0</td>\n",
       "      <td>1.0</td>\n",
       "      <td>off_first</td>\n",
       "      <td>0.0</td>\n",
       "      <td>0</td>\n",
       "      <td>204255264</td>\n",
       "    </tr>\n",
       "    <tr>\n",
       "      <th>28777</th>\n",
       "      <td>0.6</td>\n",
       "      <td>-1.0</td>\n",
       "      <td>0.0</td>\n",
       "      <td>random</td>\n",
       "      <td>0.0</td>\n",
       "      <td>1</td>\n",
       "      <td>204255264</td>\n",
       "    </tr>\n",
       "    <tr>\n",
       "      <th>28848</th>\n",
       "      <td>0.6</td>\n",
       "      <td>-1.0</td>\n",
       "      <td>1.0</td>\n",
       "      <td>off_first</td>\n",
       "      <td>0.0</td>\n",
       "      <td>0</td>\n",
       "      <td>2042552661</td>\n",
       "    </tr>\n",
       "    <tr>\n",
       "      <th>28849</th>\n",
       "      <td>0.6</td>\n",
       "      <td>-1.0</td>\n",
       "      <td>0.0</td>\n",
       "      <td>random</td>\n",
       "      <td>0.0</td>\n",
       "      <td>1</td>\n",
       "      <td>2042552661</td>\n",
       "    </tr>\n",
       "  </tbody>\n",
       "</table>\n",
       "<p>802 rows × 7 columns</p>\n",
       "</div>"
      ],
      "text/plain": [
       "       init_magnet  Energy  Density      order  init_stab  length       sample\n",
       "48             0.6    -1.0      1.0  off_first        0.0       0  20426372152\n",
       "49             0.6    -1.0      0.0     random        0.0       1  20426372152\n",
       "120            0.6    -1.0      1.0  off_first        0.0       0  20426372257\n",
       "121            0.6    -1.0      0.0     random        0.0       1  20426372257\n",
       "192            0.6    -1.0      1.0  off_first        0.0       0   2042637271\n",
       "...            ...     ...      ...        ...        ...     ...          ...\n",
       "28705          0.6    -1.0      0.0     random        0.0       1   2042552638\n",
       "28776          0.6    -1.0      1.0  off_first        0.0       0    204255264\n",
       "28777          0.6    -1.0      0.0     random        0.0       1    204255264\n",
       "28848          0.6    -1.0      1.0  off_first        0.0       0   2042552661\n",
       "28849          0.6    -1.0      0.0     random        0.0       1   2042552661\n",
       "\n",
       "[802 rows x 7 columns]"
      ]
     },
     "execution_count": 66,
     "metadata": {},
     "output_type": "execute_result"
    }
   ],
   "source": [
    "per_stab = df.groupby('init_stab')\n",
    "fix_stab= per_stab.get_group(0.0)\n",
    "per_magn = fix_stab.groupby('init_magnet')\n",
    "fix_magn= per_magn.get_group(0.6)\n",
    "fix_magn"
   ]
  },
  {
   "cell_type": "markdown",
   "metadata": {},
   "source": [
    "### Escogiendo fracción inicial de estables"
   ]
  },
  {
   "cell_type": "code",
   "execution_count": 79,
   "metadata": {
    "scrolled": false
   },
   "outputs": [
    {
     "data": {
      "application/vnd.jupyter.widget-view+json": {
       "model_id": "03b09167f9354a40898ebeb0e6ae06fc",
       "version_major": 2,
       "version_minor": 0
      },
      "text/plain": [
       "Canvas(toolbar=Toolbar(toolitems=[('Home', 'Reset original view', 'home', 'home'), ('Back', 'Back to previous …"
      ]
     },
     "metadata": {},
     "output_type": "display_data"
    },
    {
     "data": {
      "text/plain": [
       "<AxesSubplot:xlabel='init_magnet', ylabel='Density'>"
      ]
     },
     "execution_count": 79,
     "metadata": {},
     "output_type": "execute_result"
    }
   ],
   "source": [
    "per_init_stab = df.groupby(\"init_stab\")\n",
    "fix_init_stab= per_init_stab.get_group(1.0)\n",
    "plt.close(magnet_fig)\n",
    "magnet_fig, ax =plt.subplots()\n",
    "sns.violinplot(x='init_magnet', y='Density', hue = 'order', data= fix_init_stab,\n",
    "               scale='count', bw=.2, cut=0, split=True, inner=None)"
   ]
  },
  {
   "cell_type": "markdown",
   "metadata": {},
   "source": [
    "### Detalle"
   ]
  },
  {
   "cell_type": "code",
   "execution_count": 7,
   "metadata": {
    "scrolled": false
   },
   "outputs": [
    {
     "data": {
      "application/vnd.jupyter.widget-view+json": {
       "model_id": "ab9e457f4fe4421f9cb7493cb166ea8f",
       "version_major": 2,
       "version_minor": 0
      },
      "text/plain": [
       "Canvas(toolbar=Toolbar(toolitems=[('Home', 'Reset original view', 'home', 'home'), ('Back', 'Back to previous …"
      ]
     },
     "metadata": {},
     "output_type": "display_data"
    },
    {
     "data": {
      "text/plain": [
       "<seaborn.axisgrid.FacetGrid at 0x7f8b4ccea940>"
      ]
     },
     "execution_count": 7,
     "metadata": {},
     "output_type": "execute_result"
    }
   ],
   "source": [
    "sns.catplot(x=\"init_magnet\", y=\"Density\",\n",
    "                hue=\"order\", row=\"init_stab\" ,\n",
    "                data=df, kind=\"violin\", split=True, scale=\"count\", cut=0, inner=None)"
   ]
  },
  {
   "cell_type": "markdown",
   "metadata": {},
   "source": [
    "# Grilla 32x32 \n",
    "# consenso inicial en $\\{0, 0.2, 0.4, 0.5, 0.6, 0.8\\}$ en inactivos\n",
    "# estabilidad inicial en $\\{0, 0.2, 0.4, 0.5, 0.6, 0.8, 1\\}$\n",
    "# estables vs 0-biased\n",
    "# Priorizando inactivos vs orden al azar"
   ]
  },
  {
   "cell_type": "markdown",
   "metadata": {},
   "source": [
    "### Load"
   ]
  },
  {
   "cell_type": "code",
   "execution_count": 60,
   "metadata": {
    "ExecuteTime": {
     "end_time": "2021-01-21T02:27:43.270016Z",
     "start_time": "2021-01-21T02:27:43.192238Z"
    }
   },
   "outputs": [],
   "source": [
    "df= pd.read_csv(data / 'Torus_inactive_stab_biased_32.csv')"
   ]
  },
  {
   "cell_type": "code",
   "execution_count": 65,
   "metadata": {
    "ExecuteTime": {
     "end_time": "2021-01-21T02:29:47.786064Z",
     "start_time": "2021-01-21T02:29:47.771471Z"
    },
    "scrolled": false
   },
   "outputs": [],
   "source": [
    "df['$r_{stable}$'] = df.init_stab.div((1-df.init_stab))"
   ]
  },
  {
   "cell_type": "code",
   "execution_count": 67,
   "metadata": {
    "ExecuteTime": {
     "end_time": "2021-01-21T02:31:08.104178Z",
     "start_time": "2021-01-21T02:31:08.075789Z"
    }
   },
   "outputs": [],
   "source": [
    "dg = df[df['init_magnet']<=0.4]"
   ]
  },
  {
   "cell_type": "code",
   "execution_count": 69,
   "metadata": {
    "ExecuteTime": {
     "end_time": "2021-01-21T02:31:13.086840Z",
     "start_time": "2021-01-21T02:31:12.739034Z"
    },
    "scrolled": false
   },
   "outputs": [
    {
     "data": {
      "application/vnd.jupyter.widget-view+json": {
       "model_id": "732b212bcb994f3798b49fe7267d243a",
       "version_major": 2,
       "version_minor": 0
      },
      "text/plain": [
       "Canvas(toolbar=Toolbar(toolitems=[('Home', 'Reset original view', 'home', 'home'), ('Back', 'Back to previous …"
      ]
     },
     "metadata": {},
     "output_type": "display_data"
    },
    {
     "data": {
      "text/plain": [
       "<matplotlib.legend.Legend at 0x7f4766db7e20>"
      ]
     },
     "execution_count": 69,
     "metadata": {},
     "output_type": "execute_result"
    }
   ],
   "source": [
    "fig,ax = plt.subplots()\n",
    "sns.lineplot(x='$r_{stable}$', y='Density', data=dg, hue='init_magnet', style='order', ci=None)\n",
    "plt.legend(bbox_to_anchor=(0.85, 1.1), loc=2, borderaxespad=0.)"
   ]
  },
  {
   "cell_type": "code",
   "execution_count": 70,
   "metadata": {
    "ExecuteTime": {
     "end_time": "2021-01-21T02:32:26.307888Z",
     "start_time": "2021-01-21T02:32:26.032691Z"
    }
   },
   "outputs": [],
   "source": [
    "plt.savefig('data/torus_inactive_stab_biased.svg', format='svg', transparent=True)"
   ]
  },
  {
   "cell_type": "code",
   "execution_count": 54,
   "metadata": {
    "scrolled": true
   },
   "outputs": [
    {
     "data": {
      "application/vnd.jupyter.widget-view+json": {
       "model_id": "70dac3610ed44490a79c5d9401374a89",
       "version_major": 2,
       "version_minor": 0
      },
      "text/plain": [
       "Canvas(toolbar=Toolbar(toolitems=[('Home', 'Reset original view', 'home', 'home'), ('Back', 'Back to previous …"
      ]
     },
     "metadata": {},
     "output_type": "display_data"
    },
    {
     "data": {
      "text/plain": [
       "<AxesSubplot:xlabel='init_magnet', ylabel='Density'>"
      ]
     },
     "execution_count": 54,
     "metadata": {},
     "output_type": "execute_result"
    }
   ],
   "source": [
    "magnet_fig, ax =plt.subplots()\n",
    "sns.violinplot(x='init_magnet', y='Density', hue = 'order', data= df, scale='count', bw=.2, cut=0, split=True)"
   ]
  },
  {
   "cell_type": "code",
   "execution_count": 62,
   "metadata": {},
   "outputs": [
    {
     "name": "stdout",
     "output_type": "stream",
     "text": [
      "0.2\n",
      "0.4\n",
      "0.5\n",
      "0.6\n",
      "0.8\n"
     ]
    }
   ],
   "source": [
    "per_stab = df.groupby('init_stab')\n",
    "for i,_ in per_stab:\n",
    "    print(i)"
   ]
  },
  {
   "cell_type": "markdown",
   "metadata": {},
   "source": [
    "### Escogiendo fracción inicial de estables"
   ]
  },
  {
   "cell_type": "code",
   "execution_count": 85,
   "metadata": {},
   "outputs": [
    {
     "data": {
      "application/vnd.jupyter.widget-view+json": {
       "model_id": "3c0034c0eff7498daf9a98b736fe8690",
       "version_major": 2,
       "version_minor": 0
      },
      "text/plain": [
       "Canvas(toolbar=Toolbar(toolitems=[('Home', 'Reset original view', 'home', 'home'), ('Back', 'Back to previous …"
      ]
     },
     "metadata": {},
     "output_type": "display_data"
    },
    {
     "data": {
      "text/plain": [
       "<AxesSubplot:xlabel='init_magnet', ylabel='Density'>"
      ]
     },
     "execution_count": 85,
     "metadata": {},
     "output_type": "execute_result"
    }
   ],
   "source": [
    "per_init_stab = df.groupby(\"init_stab\")\n",
    "fix_init_stab= per_init_stab.get_group(0.8)\n",
    "magnet_fig, ax =plt.subplots()\n",
    "sns.violinplot(x='init_magnet', y='Density', hue = 'order', data= fix_init_stab,\n",
    "               scale='count', bw=.2, cut=0, split=True, inner=None)"
   ]
  },
  {
   "cell_type": "markdown",
   "metadata": {},
   "source": [
    "# Grilla 32x32 \n",
    "# consenso inicial en $\\{0, 0.2, 0.4, 0.5, 0.6, 0.8\\}$ en inactivos\n",
    "# estabilidad inicial en $\\{0, 0.2, 0.4, 0.5, 0.6, 0.8, 1\\}$\n",
    "# inestables vs 0-biased\n",
    "# Priorizando inactivos vs orden al azar"
   ]
  },
  {
   "cell_type": "code",
   "execution_count": 71,
   "metadata": {
    "ExecuteTime": {
     "end_time": "2021-01-21T02:33:41.186728Z",
     "start_time": "2021-01-21T02:33:41.102626Z"
    }
   },
   "outputs": [],
   "source": [
    "df= pd.read_csv(data / 'Torus_inactive_uns_bias_32.csv')"
   ]
  },
  {
   "cell_type": "code",
   "execution_count": 72,
   "metadata": {
    "ExecuteTime": {
     "end_time": "2021-01-21T02:33:42.426793Z",
     "start_time": "2021-01-21T02:33:42.409861Z"
    }
   },
   "outputs": [],
   "source": [
    "df['$r_{stable}$'] = df.init_stab.div((1-df.init_stab))"
   ]
  },
  {
   "cell_type": "code",
   "execution_count": 76,
   "metadata": {
    "ExecuteTime": {
     "end_time": "2021-01-21T02:35:23.607218Z",
     "start_time": "2021-01-21T02:35:23.576954Z"
    }
   },
   "outputs": [],
   "source": [
    "dg = df.query('(init_magnet>=-0.25)&(init_magnet<=0.25)')"
   ]
  },
  {
   "cell_type": "code",
   "execution_count": 77,
   "metadata": {
    "ExecuteTime": {
     "end_time": "2021-01-21T02:35:24.579285Z",
     "start_time": "2021-01-21T02:35:24.225571Z"
    }
   },
   "outputs": [
    {
     "data": {
      "application/vnd.jupyter.widget-view+json": {
       "model_id": "e4daa07c13e845088831069cd28a2867",
       "version_major": 2,
       "version_minor": 0
      },
      "text/plain": [
       "Canvas(toolbar=Toolbar(toolitems=[('Home', 'Reset original view', 'home', 'home'), ('Back', 'Back to previous …"
      ]
     },
     "metadata": {},
     "output_type": "display_data"
    },
    {
     "data": {
      "text/plain": [
       "<matplotlib.legend.Legend at 0x7f4765249b80>"
      ]
     },
     "execution_count": 77,
     "metadata": {},
     "output_type": "execute_result"
    }
   ],
   "source": [
    "fig,ax = plt.subplots()\n",
    "sns.lineplot(x='$r_{stable}$', y='Density', data=dg, hue='init_magnet', style='order', ci=None)\n",
    "plt.legend(bbox_to_anchor=(0.85, 1.1), loc=2, borderaxespad=0.)"
   ]
  },
  {
   "cell_type": "code",
   "execution_count": 78,
   "metadata": {
    "ExecuteTime": {
     "end_time": "2021-01-21T02:43:12.836753Z",
     "start_time": "2021-01-21T02:43:12.567605Z"
    }
   },
   "outputs": [],
   "source": [
    "plt.savefig('data/torus_inactive_unstab_biased.svg', format='svg', transparent=True)"
   ]
  },
  {
   "cell_type": "markdown",
   "metadata": {},
   "source": [
    "### Resumen"
   ]
  },
  {
   "cell_type": "code",
   "execution_count": 87,
   "metadata": {},
   "outputs": [
    {
     "data": {
      "application/vnd.jupyter.widget-view+json": {
       "model_id": "89ec37b522c4444da29c1119c3fe0fa6",
       "version_major": 2,
       "version_minor": 0
      },
      "text/plain": [
       "Canvas(toolbar=Toolbar(toolitems=[('Home', 'Reset original view', 'home', 'home'), ('Back', 'Back to previous …"
      ]
     },
     "metadata": {},
     "output_type": "display_data"
    },
    {
     "data": {
      "text/plain": [
       "<AxesSubplot:xlabel='init_magnet', ylabel='Density'>"
      ]
     },
     "execution_count": 87,
     "metadata": {},
     "output_type": "execute_result"
    }
   ],
   "source": [
    "magnet_fig, ax =plt.subplots()\n",
    "sns.violinplot(x='init_magnet', y='Density', hue = 'order', data= df,\n",
    "               scale='count', bw=.2, cut=0, split=True, inner=None)"
   ]
  },
  {
   "cell_type": "markdown",
   "metadata": {},
   "source": [
    "### Escogiendo porción inicial de instables"
   ]
  },
  {
   "cell_type": "code",
   "execution_count": 92,
   "metadata": {},
   "outputs": [
    {
     "data": {
      "application/vnd.jupyter.widget-view+json": {
       "model_id": "90e5b3e7af3846fd9d7e272c1bbd332d",
       "version_major": 2,
       "version_minor": 0
      },
      "text/plain": [
       "Canvas(toolbar=Toolbar(toolitems=[('Home', 'Reset original view', 'home', 'home'), ('Back', 'Back to previous …"
      ]
     },
     "metadata": {},
     "output_type": "display_data"
    },
    {
     "data": {
      "text/plain": [
       "<AxesSubplot:xlabel='init_magnet', ylabel='Density'>"
      ]
     },
     "execution_count": 92,
     "metadata": {},
     "output_type": "execute_result"
    }
   ],
   "source": [
    "per_init_stab = df.groupby(\"init_stab\")\n",
    "fix_init_stab= per_init_stab.get_group(0.8)\n",
    "magnet_fig, ax =plt.subplots()\n",
    "sns.violinplot(x='init_magnet', y='Density', hue = 'order', data= fix_init_stab,\n",
    "               scale='count', bw=.2, cut=0, split=True, inner=None)"
   ]
  },
  {
   "cell_type": "markdown",
   "metadata": {},
   "source": [
    "# Grilla 32x32 \n",
    "# consenso inicial en $\\{-0.4, -0.2, 0.0, 0.2, 0.4\\}$ en inactivos\n",
    "# estabilidad inicial en $\\{0, 0.2, 0.4, 0.5, 0.6, 0.8, 1\\}$\n",
    "# cantidad de freezing en $\\{0.1, 0.2, 0.3, 0.4, 0.5 \\}$\n",
    "# 0-freezing vs estables vs inestables\n",
    "# Priorizando inactivos vs orden al azar"
   ]
  },
  {
   "cell_type": "markdown",
   "metadata": {},
   "source": [
    "### Load"
   ]
  },
  {
   "cell_type": "code",
   "execution_count": 79,
   "metadata": {
    "ExecuteTime": {
     "end_time": "2021-01-21T02:54:40.502069Z",
     "start_time": "2021-01-21T02:54:40.386055Z"
    }
   },
   "outputs": [],
   "source": [
    "df= pd.read_csv(data / 'Torus_inactive_freeze_stab-uns_b_32.csv')"
   ]
  },
  {
   "cell_type": "code",
   "execution_count": 80,
   "metadata": {
    "ExecuteTime": {
     "end_time": "2021-01-21T02:54:41.614745Z",
     "start_time": "2021-01-21T02:54:41.412190Z"
    }
   },
   "outputs": [],
   "source": [
    "dg = pd.read_csv(data / 'Torus_inactive_freeze_stab-uns_32.csv')"
   ]
  },
  {
   "cell_type": "code",
   "execution_count": 83,
   "metadata": {
    "ExecuteTime": {
     "end_time": "2021-01-21T02:55:42.030285Z",
     "start_time": "2021-01-21T02:55:42.003245Z"
    }
   },
   "outputs": [],
   "source": [
    "df= pd.concat([df, dg], ignore_index=True)"
   ]
  },
  {
   "cell_type": "code",
   "execution_count": 85,
   "metadata": {
    "ExecuteTime": {
     "end_time": "2021-01-21T02:56:27.202698Z",
     "start_time": "2021-01-21T02:56:27.197936Z"
    }
   },
   "outputs": [],
   "source": [
    "df['rstab'] = df.init_stab.div((1-df.init_stab))"
   ]
  },
  {
   "cell_type": "code",
   "execution_count": 86,
   "metadata": {
    "ExecuteTime": {
     "end_time": "2021-01-21T02:56:32.027571Z",
     "start_time": "2021-01-21T02:56:31.957348Z"
    },
    "scrolled": false
   },
   "outputs": [
    {
     "data": {
      "text/html": [
       "<div>\n",
       "<style scoped>\n",
       "    .dataframe tbody tr th:only-of-type {\n",
       "        vertical-align: middle;\n",
       "    }\n",
       "\n",
       "    .dataframe tbody tr th {\n",
       "        vertical-align: top;\n",
       "    }\n",
       "\n",
       "    .dataframe thead th {\n",
       "        text-align: right;\n",
       "    }\n",
       "</style>\n",
       "<table border=\"1\" class=\"dataframe\">\n",
       "  <thead>\n",
       "    <tr style=\"text-align: right;\">\n",
       "      <th></th>\n",
       "      <th>init_magnet</th>\n",
       "      <th>Energy</th>\n",
       "      <th>Density</th>\n",
       "      <th>order</th>\n",
       "      <th>init_stab</th>\n",
       "      <th>length</th>\n",
       "      <th>init_freeze</th>\n",
       "      <th>sample</th>\n",
       "      <th>rstab</th>\n",
       "    </tr>\n",
       "  </thead>\n",
       "  <tbody>\n",
       "    <tr>\n",
       "      <th>0</th>\n",
       "      <td>-0.4</td>\n",
       "      <td>-0.992188</td>\n",
       "      <td>0.001953</td>\n",
       "      <td>off_first</td>\n",
       "      <td>0.0</td>\n",
       "      <td>0</td>\n",
       "      <td>0.15</td>\n",
       "      <td>2114889880</td>\n",
       "      <td>0.000000</td>\n",
       "    </tr>\n",
       "    <tr>\n",
       "      <th>1</th>\n",
       "      <td>-0.4</td>\n",
       "      <td>-1.000000</td>\n",
       "      <td>0.000000</td>\n",
       "      <td>random</td>\n",
       "      <td>0.0</td>\n",
       "      <td>1</td>\n",
       "      <td>0.15</td>\n",
       "      <td>2114889880</td>\n",
       "      <td>0.000000</td>\n",
       "    </tr>\n",
       "    <tr>\n",
       "      <th>2</th>\n",
       "      <td>-0.4</td>\n",
       "      <td>-0.777344</td>\n",
       "      <td>0.358398</td>\n",
       "      <td>off_first</td>\n",
       "      <td>0.2</td>\n",
       "      <td>0</td>\n",
       "      <td>0.15</td>\n",
       "      <td>2114889880</td>\n",
       "      <td>0.250000</td>\n",
       "    </tr>\n",
       "    <tr>\n",
       "      <th>3</th>\n",
       "      <td>-0.4</td>\n",
       "      <td>-0.916016</td>\n",
       "      <td>0.121582</td>\n",
       "      <td>random</td>\n",
       "      <td>0.2</td>\n",
       "      <td>420</td>\n",
       "      <td>0.15</td>\n",
       "      <td>2114889880</td>\n",
       "      <td>0.250000</td>\n",
       "    </tr>\n",
       "    <tr>\n",
       "      <th>4</th>\n",
       "      <td>-0.4</td>\n",
       "      <td>-0.585938</td>\n",
       "      <td>0.682617</td>\n",
       "      <td>off_first</td>\n",
       "      <td>0.4</td>\n",
       "      <td>0</td>\n",
       "      <td>0.15</td>\n",
       "      <td>2114889880</td>\n",
       "      <td>0.666667</td>\n",
       "    </tr>\n",
       "    <tr>\n",
       "      <th>...</th>\n",
       "      <td>...</td>\n",
       "      <td>...</td>\n",
       "      <td>...</td>\n",
       "      <td>...</td>\n",
       "      <td>...</td>\n",
       "      <td>...</td>\n",
       "      <td>...</td>\n",
       "      <td>...</td>\n",
       "      <td>...</td>\n",
       "    </tr>\n",
       "    <tr>\n",
       "      <th>103875</th>\n",
       "      <td>0.4</td>\n",
       "      <td>-1.000000</td>\n",
       "      <td>0.000000</td>\n",
       "      <td>random</td>\n",
       "      <td>0.6</td>\n",
       "      <td>1</td>\n",
       "      <td>0.50</td>\n",
       "      <td>20961799124</td>\n",
       "      <td>1.500000</td>\n",
       "    </tr>\n",
       "    <tr>\n",
       "      <th>103876</th>\n",
       "      <td>0.4</td>\n",
       "      <td>-1.000000</td>\n",
       "      <td>0.000000</td>\n",
       "      <td>off_first</td>\n",
       "      <td>0.8</td>\n",
       "      <td>0</td>\n",
       "      <td>0.50</td>\n",
       "      <td>20961799124</td>\n",
       "      <td>4.000000</td>\n",
       "    </tr>\n",
       "    <tr>\n",
       "      <th>103877</th>\n",
       "      <td>0.4</td>\n",
       "      <td>-1.000000</td>\n",
       "      <td>0.000000</td>\n",
       "      <td>random</td>\n",
       "      <td>0.8</td>\n",
       "      <td>1</td>\n",
       "      <td>0.50</td>\n",
       "      <td>20961799124</td>\n",
       "      <td>4.000000</td>\n",
       "    </tr>\n",
       "    <tr>\n",
       "      <th>103878</th>\n",
       "      <td>0.4</td>\n",
       "      <td>-0.960938</td>\n",
       "      <td>0.019531</td>\n",
       "      <td>off_first</td>\n",
       "      <td>1.0</td>\n",
       "      <td>0</td>\n",
       "      <td>0.50</td>\n",
       "      <td>20961799124</td>\n",
       "      <td>inf</td>\n",
       "    </tr>\n",
       "    <tr>\n",
       "      <th>103879</th>\n",
       "      <td>0.4</td>\n",
       "      <td>-0.992188</td>\n",
       "      <td>0.003906</td>\n",
       "      <td>random</td>\n",
       "      <td>1.0</td>\n",
       "      <td>1</td>\n",
       "      <td>0.50</td>\n",
       "      <td>20961799124</td>\n",
       "      <td>inf</td>\n",
       "    </tr>\n",
       "  </tbody>\n",
       "</table>\n",
       "<p>103880 rows × 9 columns</p>\n",
       "</div>"
      ],
      "text/plain": [
       "        init_magnet    Energy   Density      order  init_stab  length  \\\n",
       "0              -0.4 -0.992188  0.001953  off_first        0.0       0   \n",
       "1              -0.4 -1.000000  0.000000     random        0.0       1   \n",
       "2              -0.4 -0.777344  0.358398  off_first        0.2       0   \n",
       "3              -0.4 -0.916016  0.121582     random        0.2     420   \n",
       "4              -0.4 -0.585938  0.682617  off_first        0.4       0   \n",
       "...             ...       ...       ...        ...        ...     ...   \n",
       "103875          0.4 -1.000000  0.000000     random        0.6       1   \n",
       "103876          0.4 -1.000000  0.000000  off_first        0.8       0   \n",
       "103877          0.4 -1.000000  0.000000     random        0.8       1   \n",
       "103878          0.4 -0.960938  0.019531  off_first        1.0       0   \n",
       "103879          0.4 -0.992188  0.003906     random        1.0       1   \n",
       "\n",
       "        init_freeze       sample     rstab  \n",
       "0              0.15   2114889880  0.000000  \n",
       "1              0.15   2114889880  0.000000  \n",
       "2              0.15   2114889880  0.250000  \n",
       "3              0.15   2114889880  0.250000  \n",
       "4              0.15   2114889880  0.666667  \n",
       "...             ...          ...       ...  \n",
       "103875         0.50  20961799124  1.500000  \n",
       "103876         0.50  20961799124  4.000000  \n",
       "103877         0.50  20961799124  4.000000  \n",
       "103878         0.50  20961799124       inf  \n",
       "103879         0.50  20961799124       inf  \n",
       "\n",
       "[103880 rows x 9 columns]"
      ]
     },
     "execution_count": 86,
     "metadata": {},
     "output_type": "execute_result"
    }
   ],
   "source": [
    "df"
   ]
  },
  {
   "cell_type": "code",
   "execution_count": 92,
   "metadata": {
    "ExecuteTime": {
     "end_time": "2021-01-21T03:02:08.742525Z",
     "start_time": "2021-01-21T03:02:08.714588Z"
    }
   },
   "outputs": [],
   "source": [
    "dg= df[df.init_freeze.isin([0.1, 0.15, 0.17, 0.2, 0.3])]"
   ]
  },
  {
   "cell_type": "code",
   "execution_count": 93,
   "metadata": {
    "ExecuteTime": {
     "end_time": "2021-01-21T03:02:14.604956Z",
     "start_time": "2021-01-21T03:02:14.393138Z"
    }
   },
   "outputs": [
    {
     "data": {
      "application/vnd.jupyter.widget-view+json": {
       "model_id": "b4cb5bd7bdec4611a423d6b26e6a441f",
       "version_major": 2,
       "version_minor": 0
      },
      "text/plain": [
       "Canvas(toolbar=Toolbar(toolitems=[('Home', 'Reset original view', 'home', 'home'), ('Back', 'Back to previous …"
      ]
     },
     "metadata": {},
     "output_type": "display_data"
    },
    {
     "data": {
      "text/plain": [
       "<matplotlib.legend.Legend at 0x7f476c8914f0>"
      ]
     },
     "execution_count": 93,
     "metadata": {},
     "output_type": "execute_result"
    }
   ],
   "source": [
    "fig, ax = plt.subplots()\n",
    "sns.lineplot(data=dg, x='rstab', y='Density', ci=None, hue='init_freeze')\n",
    "plt.legend(bbox_to_anchor=(0.85, 1.1), loc=2, borderaxespad=0.)"
   ]
  },
  {
   "cell_type": "code",
   "execution_count": 94,
   "metadata": {
    "ExecuteTime": {
     "end_time": "2021-01-21T03:03:20.037893Z",
     "start_time": "2021-01-21T03:03:19.810999Z"
    }
   },
   "outputs": [],
   "source": [
    "plt.savefig('data/torus_inactive_freeze.svg', format='svg', transparent=True)"
   ]
  },
  {
   "cell_type": "code",
   "execution_count": null,
   "metadata": {},
   "outputs": [],
   "source": []
  },
  {
   "cell_type": "code",
   "execution_count": null,
   "metadata": {},
   "outputs": [],
   "source": []
  },
  {
   "cell_type": "code",
   "execution_count": null,
   "metadata": {},
   "outputs": [],
   "source": []
  },
  {
   "cell_type": "code",
   "execution_count": 11,
   "metadata": {},
   "outputs": [],
   "source": [
    "per_freeze_b = df.groupby('init_freeze')"
   ]
  },
  {
   "cell_type": "code",
   "execution_count": 12,
   "metadata": {},
   "outputs": [],
   "source": [
    "per_freeze = dg.groupby('init_freeze')"
   ]
  },
  {
   "cell_type": "code",
   "execution_count": 6,
   "metadata": {},
   "outputs": [
    {
     "data": {
      "text/plain": [
       "array([0.15, 0.12, 0.17])"
      ]
     },
     "execution_count": 6,
     "metadata": {},
     "output_type": "execute_result"
    }
   ],
   "source": [
    "pd.unique(df['init_freeze'])"
   ]
  },
  {
   "cell_type": "code",
   "execution_count": 35,
   "metadata": {},
   "outputs": [
    {
     "data": {
      "application/vnd.jupyter.widget-view+json": {
       "model_id": "e04700983ef94c93b7a96d6b830ad35e",
       "version_major": 2,
       "version_minor": 0
      },
      "text/plain": [
       "Canvas(toolbar=Toolbar(toolitems=[('Home', 'Reset original view', 'home', 'home'), ('Back', 'Back to previous …"
      ]
     },
     "metadata": {},
     "output_type": "display_data"
    }
   ],
   "source": [
    "fix_freeze = per_freeze.get_group(0.5)\n",
    "magnet_fig, ax =plt.subplots()\n",
    "sns.violinplot(x='init_magnet', y='Density', hue = 'order', data= fix_freeze,\n",
    "               scale='count', bw=.2, cut=0, split=True, inner=None)\n",
    "magnet_fig.savefig('inactive-with-freeze_summary05.png')"
   ]
  },
  {
   "cell_type": "code",
   "execution_count": 29,
   "metadata": {},
   "outputs": [
    {
     "data": {
      "application/vnd.jupyter.widget-view+json": {
       "model_id": "0b0f5d2ba3884066a85d033e60554398",
       "version_major": 2,
       "version_minor": 0
      },
      "text/plain": [
       "Canvas(toolbar=Toolbar(toolitems=[('Home', 'Reset original view', 'home', 'home'), ('Back', 'Back to previous …"
      ]
     },
     "metadata": {},
     "output_type": "display_data"
    },
    {
     "data": {
      "text/plain": [
       "<seaborn.axisgrid.FacetGrid at 0x7fa0e995eee0>"
      ]
     },
     "execution_count": 29,
     "metadata": {},
     "output_type": "execute_result"
    }
   ],
   "source": [
    "fix_freeze = per_freeze.get_group(0.5)\n",
    "sns.catplot(data=fix_freeze, x='init_magnet', y='Density', hue='order', row='init_stab', kind=\"violin\", \n",
    "            split=True, scale='count', bw=.2, cut=0, inner=None)\n"
   ]
  },
  {
   "cell_type": "code",
   "execution_count": 67,
   "metadata": {},
   "outputs": [
    {
     "data": {
      "application/vnd.jupyter.widget-view+json": {
       "model_id": "a45f4444806c4a7ebf20f49c9dc14712",
       "version_major": 2,
       "version_minor": 0
      },
      "text/plain": [
       "Canvas(toolbar=Toolbar(toolitems=[('Home', 'Reset original view', 'home', 'home'), ('Back', 'Back to previous …"
      ]
     },
     "metadata": {},
     "output_type": "display_data"
    }
   ],
   "source": [
    "plt.close(magnet_fig)\n",
    "init_freeze = 0.3\n",
    "fix_freeze = per_freeze.get_group(init_freeze)\n",
    "init_stab = 1.0\n",
    "magnet_fig, ax =plt.subplots()\n",
    "dg= fix_freeze[fix_freeze['init_stab']== init_stab]\n",
    "sns.violinplot(x='init_magnet', y='Density', hue = 'order', data=dg,\n",
    "               scale='count', bw=.2, cut=0, split=True, inner=None)\n",
    "title= 'inactive-with-freeze_freeze{0}-stab{1}.png'.format(str(init_freeze).replace(\".\",\"\"), str(init_stab).replace(\".\", \"\"))\n",
    "magnet_fig.savefig(title)"
   ]
  },
  {
   "cell_type": "code",
   "execution_count": 18,
   "metadata": {},
   "outputs": [],
   "source": [
    "init_stab = list(pd.unique(dg['init_stab']))\n",
    "init_freeze = list(pd.unique(dg['init_freeze']))"
   ]
  },
  {
   "cell_type": "code",
   "execution_count": 19,
   "metadata": {},
   "outputs": [],
   "source": [
    "init_stab_b = list(pd.unique(df['init_stab']))\n",
    "init_freeze_b = list(pd.unique(df['init_freeze']))"
   ]
  },
  {
   "cell_type": "markdown",
   "metadata": {},
   "source": []
  },
  {
   "cell_type": "code",
   "execution_count": 13,
   "metadata": {},
   "outputs": [],
   "source": [
    "from __future__ import print_function\n",
    "from ipywidgets import interact, interactive, fixed, interact_manual\n",
    "import ipywidgets as widgets"
   ]
  },
  {
   "cell_type": "code",
   "execution_count": 17,
   "metadata": {},
   "outputs": [
    {
     "data": {
      "text/html": [
       "<div>\n",
       "<style scoped>\n",
       "    .dataframe tbody tr th:only-of-type {\n",
       "        vertical-align: middle;\n",
       "    }\n",
       "\n",
       "    .dataframe tbody tr th {\n",
       "        vertical-align: top;\n",
       "    }\n",
       "\n",
       "    .dataframe thead th {\n",
       "        text-align: right;\n",
       "    }\n",
       "</style>\n",
       "<table border=\"1\" class=\"dataframe\">\n",
       "  <thead>\n",
       "    <tr style=\"text-align: right;\">\n",
       "      <th></th>\n",
       "      <th>init_magnet</th>\n",
       "      <th>Energy</th>\n",
       "      <th>Density</th>\n",
       "      <th>order</th>\n",
       "      <th>init_stab</th>\n",
       "      <th>length</th>\n",
       "      <th>init_freeze</th>\n",
       "      <th>sample</th>\n",
       "    </tr>\n",
       "  </thead>\n",
       "  <tbody>\n",
       "    <tr>\n",
       "      <th>0</th>\n",
       "      <td>-0.4</td>\n",
       "      <td>-0.992188</td>\n",
       "      <td>0.001953</td>\n",
       "      <td>off_first</td>\n",
       "      <td>0.0</td>\n",
       "      <td>0</td>\n",
       "      <td>0.15</td>\n",
       "      <td>2114889880</td>\n",
       "    </tr>\n",
       "    <tr>\n",
       "      <th>1</th>\n",
       "      <td>-0.4</td>\n",
       "      <td>-1.000000</td>\n",
       "      <td>0.000000</td>\n",
       "      <td>random</td>\n",
       "      <td>0.0</td>\n",
       "      <td>1</td>\n",
       "      <td>0.15</td>\n",
       "      <td>2114889880</td>\n",
       "    </tr>\n",
       "    <tr>\n",
       "      <th>2</th>\n",
       "      <td>-0.4</td>\n",
       "      <td>-0.777344</td>\n",
       "      <td>0.358398</td>\n",
       "      <td>off_first</td>\n",
       "      <td>0.2</td>\n",
       "      <td>0</td>\n",
       "      <td>0.15</td>\n",
       "      <td>2114889880</td>\n",
       "    </tr>\n",
       "    <tr>\n",
       "      <th>3</th>\n",
       "      <td>-0.4</td>\n",
       "      <td>-0.916016</td>\n",
       "      <td>0.121582</td>\n",
       "      <td>random</td>\n",
       "      <td>0.2</td>\n",
       "      <td>420</td>\n",
       "      <td>0.15</td>\n",
       "      <td>2114889880</td>\n",
       "    </tr>\n",
       "    <tr>\n",
       "      <th>4</th>\n",
       "      <td>-0.4</td>\n",
       "      <td>-0.585938</td>\n",
       "      <td>0.682617</td>\n",
       "      <td>off_first</td>\n",
       "      <td>0.4</td>\n",
       "      <td>0</td>\n",
       "      <td>0.15</td>\n",
       "      <td>2114889880</td>\n",
       "    </tr>\n",
       "    <tr>\n",
       "      <th>...</th>\n",
       "      <td>...</td>\n",
       "      <td>...</td>\n",
       "      <td>...</td>\n",
       "      <td>...</td>\n",
       "      <td>...</td>\n",
       "      <td>...</td>\n",
       "      <td>...</td>\n",
       "      <td>...</td>\n",
       "    </tr>\n",
       "    <tr>\n",
       "      <th>35275</th>\n",
       "      <td>0.4</td>\n",
       "      <td>-0.980469</td>\n",
       "      <td>0.012207</td>\n",
       "      <td>random</td>\n",
       "      <td>0.6</td>\n",
       "      <td>2</td>\n",
       "      <td>0.17</td>\n",
       "      <td>2114889858</td>\n",
       "    </tr>\n",
       "    <tr>\n",
       "      <th>35276</th>\n",
       "      <td>0.4</td>\n",
       "      <td>-0.925781</td>\n",
       "      <td>0.041016</td>\n",
       "      <td>off_first</td>\n",
       "      <td>0.8</td>\n",
       "      <td>0</td>\n",
       "      <td>0.17</td>\n",
       "      <td>2114889858</td>\n",
       "    </tr>\n",
       "    <tr>\n",
       "      <th>35277</th>\n",
       "      <td>0.4</td>\n",
       "      <td>-0.976562</td>\n",
       "      <td>0.011719</td>\n",
       "      <td>random</td>\n",
       "      <td>0.8</td>\n",
       "      <td>1</td>\n",
       "      <td>0.17</td>\n",
       "      <td>2114889858</td>\n",
       "    </tr>\n",
       "    <tr>\n",
       "      <th>35278</th>\n",
       "      <td>0.4</td>\n",
       "      <td>-0.843750</td>\n",
       "      <td>0.096680</td>\n",
       "      <td>off_first</td>\n",
       "      <td>1.0</td>\n",
       "      <td>0</td>\n",
       "      <td>0.17</td>\n",
       "      <td>2114889858</td>\n",
       "    </tr>\n",
       "    <tr>\n",
       "      <th>35279</th>\n",
       "      <td>0.4</td>\n",
       "      <td>-0.939453</td>\n",
       "      <td>0.035156</td>\n",
       "      <td>random</td>\n",
       "      <td>1.0</td>\n",
       "      <td>1</td>\n",
       "      <td>0.17</td>\n",
       "      <td>2114889858</td>\n",
       "    </tr>\n",
       "  </tbody>\n",
       "</table>\n",
       "<p>35280 rows × 8 columns</p>\n",
       "</div>"
      ],
      "text/plain": [
       "       init_magnet    Energy   Density      order  init_stab  length  \\\n",
       "0             -0.4 -0.992188  0.001953  off_first        0.0       0   \n",
       "1             -0.4 -1.000000  0.000000     random        0.0       1   \n",
       "2             -0.4 -0.777344  0.358398  off_first        0.2       0   \n",
       "3             -0.4 -0.916016  0.121582     random        0.2     420   \n",
       "4             -0.4 -0.585938  0.682617  off_first        0.4       0   \n",
       "...            ...       ...       ...        ...        ...     ...   \n",
       "35275          0.4 -0.980469  0.012207     random        0.6       2   \n",
       "35276          0.4 -0.925781  0.041016  off_first        0.8       0   \n",
       "35277          0.4 -0.976562  0.011719     random        0.8       1   \n",
       "35278          0.4 -0.843750  0.096680  off_first        1.0       0   \n",
       "35279          0.4 -0.939453  0.035156     random        1.0       1   \n",
       "\n",
       "       init_freeze      sample  \n",
       "0             0.15  2114889880  \n",
       "1             0.15  2114889880  \n",
       "2             0.15  2114889880  \n",
       "3             0.15  2114889880  \n",
       "4             0.15  2114889880  \n",
       "...            ...         ...  \n",
       "35275         0.17  2114889858  \n",
       "35276         0.17  2114889858  \n",
       "35277         0.17  2114889858  \n",
       "35278         0.17  2114889858  \n",
       "35279         0.17  2114889858  \n",
       "\n",
       "[35280 rows x 8 columns]"
      ]
     },
     "execution_count": 17,
     "metadata": {},
     "output_type": "execute_result"
    }
   ],
   "source": [
    "df"
   ]
  },
  {
   "cell_type": "code",
   "execution_count": 26,
   "metadata": {},
   "outputs": [
    {
     "data": {
      "text/plain": [
       "0.5"
      ]
     },
     "execution_count": 26,
     "metadata": {},
     "output_type": "execute_result"
    }
   ],
   "source": [
    "init_stab.pop(3)"
   ]
  },
  {
   "cell_type": "code",
   "execution_count": 27,
   "metadata": {},
   "outputs": [
    {
     "name": "stdout",
     "output_type": "stream",
     "text": [
      "0 0\n"
     ]
    },
    {
     "data": {
      "application/vnd.jupyter.widget-view+json": {
       "model_id": "ff1fba3aa57b40f2b8d8d316386141ed",
       "version_major": 2,
       "version_minor": 0
      },
      "text/plain": [
       "Canvas(toolbar=Toolbar(toolitems=[('Home', 'Reset original view', 'home', 'home'), ('Back', 'Back to previous …"
      ]
     },
     "metadata": {},
     "output_type": "display_data"
    },
    {
     "name": "stdout",
     "output_type": "stream",
     "text": [
      "0 1\n"
     ]
    },
    {
     "data": {
      "application/vnd.jupyter.widget-view+json": {
       "model_id": "f666d635166f427cbf76c17294d28544",
       "version_major": 2,
       "version_minor": 0
      },
      "text/plain": [
       "Canvas(toolbar=Toolbar(toolitems=[('Home', 'Reset original view', 'home', 'home'), ('Back', 'Back to previous …"
      ]
     },
     "metadata": {},
     "output_type": "display_data"
    },
    {
     "name": "stdout",
     "output_type": "stream",
     "text": [
      "0 2\n"
     ]
    },
    {
     "data": {
      "application/vnd.jupyter.widget-view+json": {
       "model_id": "dfd22bc8d24e4bb38e42e4b69925dfca",
       "version_major": 2,
       "version_minor": 0
      },
      "text/plain": [
       "Canvas(toolbar=Toolbar(toolitems=[('Home', 'Reset original view', 'home', 'home'), ('Back', 'Back to previous …"
      ]
     },
     "metadata": {},
     "output_type": "display_data"
    },
    {
     "name": "stdout",
     "output_type": "stream",
     "text": [
      "0 3\n"
     ]
    },
    {
     "data": {
      "application/vnd.jupyter.widget-view+json": {
       "model_id": "4fd7250e0eb340cc9886e9638bced447",
       "version_major": 2,
       "version_minor": 0
      },
      "text/plain": [
       "Canvas(toolbar=Toolbar(toolitems=[('Home', 'Reset original view', 'home', 'home'), ('Back', 'Back to previous …"
      ]
     },
     "metadata": {},
     "output_type": "display_data"
    },
    {
     "name": "stdout",
     "output_type": "stream",
     "text": [
      "0 4\n"
     ]
    },
    {
     "data": {
      "application/vnd.jupyter.widget-view+json": {
       "model_id": "a82f37a98767441aa58a7aec72888f78",
       "version_major": 2,
       "version_minor": 0
      },
      "text/plain": [
       "Canvas(toolbar=Toolbar(toolitems=[('Home', 'Reset original view', 'home', 'home'), ('Back', 'Back to previous …"
      ]
     },
     "metadata": {},
     "output_type": "display_data"
    },
    {
     "name": "stdout",
     "output_type": "stream",
     "text": [
      "0 5\n"
     ]
    },
    {
     "data": {
      "application/vnd.jupyter.widget-view+json": {
       "model_id": "362a29df7f1644988c685ccbd0386ccb",
       "version_major": 2,
       "version_minor": 0
      },
      "text/plain": [
       "Canvas(toolbar=Toolbar(toolitems=[('Home', 'Reset original view', 'home', 'home'), ('Back', 'Back to previous …"
      ]
     },
     "metadata": {},
     "output_type": "display_data"
    },
    {
     "name": "stdout",
     "output_type": "stream",
     "text": [
      "1 0\n"
     ]
    },
    {
     "name": "stderr",
     "output_type": "stream",
     "text": [
      "<ipython-input-27-998ffa7dfe0b>:6: RuntimeWarning: More than 20 figures have been opened. Figures created through the pyplot interface (`matplotlib.pyplot.figure`) are retained until explicitly closed and may consume too much memory. (To control this warning, see the rcParam `figure.max_open_warning`).\n",
      "  plots[i][j], ax =plt.subplots()\n"
     ]
    },
    {
     "data": {
      "application/vnd.jupyter.widget-view+json": {
       "model_id": "ff3aa8c935da46df83f855e60355a993",
       "version_major": 2,
       "version_minor": 0
      },
      "text/plain": [
       "Canvas(toolbar=Toolbar(toolitems=[('Home', 'Reset original view', 'home', 'home'), ('Back', 'Back to previous …"
      ]
     },
     "metadata": {},
     "output_type": "display_data"
    },
    {
     "name": "stdout",
     "output_type": "stream",
     "text": [
      "1 1\n"
     ]
    },
    {
     "data": {
      "application/vnd.jupyter.widget-view+json": {
       "model_id": "207454b64e4e46c3a96bbfca2ca8049c",
       "version_major": 2,
       "version_minor": 0
      },
      "text/plain": [
       "Canvas(toolbar=Toolbar(toolitems=[('Home', 'Reset original view', 'home', 'home'), ('Back', 'Back to previous …"
      ]
     },
     "metadata": {},
     "output_type": "display_data"
    },
    {
     "name": "stdout",
     "output_type": "stream",
     "text": [
      "1 2\n"
     ]
    },
    {
     "data": {
      "application/vnd.jupyter.widget-view+json": {
       "model_id": "29f07f9daba541db8667af4f47d09b25",
       "version_major": 2,
       "version_minor": 0
      },
      "text/plain": [
       "Canvas(toolbar=Toolbar(toolitems=[('Home', 'Reset original view', 'home', 'home'), ('Back', 'Back to previous …"
      ]
     },
     "metadata": {},
     "output_type": "display_data"
    },
    {
     "name": "stdout",
     "output_type": "stream",
     "text": [
      "1 3\n"
     ]
    },
    {
     "data": {
      "application/vnd.jupyter.widget-view+json": {
       "model_id": "60191dd326334e4081ddfd05e4e6dda4",
       "version_major": 2,
       "version_minor": 0
      },
      "text/plain": [
       "Canvas(toolbar=Toolbar(toolitems=[('Home', 'Reset original view', 'home', 'home'), ('Back', 'Back to previous …"
      ]
     },
     "metadata": {},
     "output_type": "display_data"
    },
    {
     "name": "stdout",
     "output_type": "stream",
     "text": [
      "1 4\n"
     ]
    },
    {
     "data": {
      "application/vnd.jupyter.widget-view+json": {
       "model_id": "e81693eec8f44d768d1249a99802e12d",
       "version_major": 2,
       "version_minor": 0
      },
      "text/plain": [
       "Canvas(toolbar=Toolbar(toolitems=[('Home', 'Reset original view', 'home', 'home'), ('Back', 'Back to previous …"
      ]
     },
     "metadata": {},
     "output_type": "display_data"
    },
    {
     "name": "stdout",
     "output_type": "stream",
     "text": [
      "1 5\n"
     ]
    },
    {
     "data": {
      "application/vnd.jupyter.widget-view+json": {
       "model_id": "bd0144debe6e419982072a33ccfe9172",
       "version_major": 2,
       "version_minor": 0
      },
      "text/plain": [
       "Canvas(toolbar=Toolbar(toolitems=[('Home', 'Reset original view', 'home', 'home'), ('Back', 'Back to previous …"
      ]
     },
     "metadata": {},
     "output_type": "display_data"
    },
    {
     "name": "stdout",
     "output_type": "stream",
     "text": [
      "2 0\n"
     ]
    },
    {
     "data": {
      "application/vnd.jupyter.widget-view+json": {
       "model_id": "8973c84c94e34dba9f7384c42ddb73ff",
       "version_major": 2,
       "version_minor": 0
      },
      "text/plain": [
       "Canvas(toolbar=Toolbar(toolitems=[('Home', 'Reset original view', 'home', 'home'), ('Back', 'Back to previous …"
      ]
     },
     "metadata": {},
     "output_type": "display_data"
    },
    {
     "name": "stdout",
     "output_type": "stream",
     "text": [
      "2 1\n"
     ]
    },
    {
     "data": {
      "application/vnd.jupyter.widget-view+json": {
       "model_id": "9541ba5976264755adc0249d58cf44bf",
       "version_major": 2,
       "version_minor": 0
      },
      "text/plain": [
       "Canvas(toolbar=Toolbar(toolitems=[('Home', 'Reset original view', 'home', 'home'), ('Back', 'Back to previous …"
      ]
     },
     "metadata": {},
     "output_type": "display_data"
    },
    {
     "name": "stdout",
     "output_type": "stream",
     "text": [
      "2 2\n"
     ]
    },
    {
     "data": {
      "application/vnd.jupyter.widget-view+json": {
       "model_id": "fb90c2c7ab294be1ba3d81f292a52d1e",
       "version_major": 2,
       "version_minor": 0
      },
      "text/plain": [
       "Canvas(toolbar=Toolbar(toolitems=[('Home', 'Reset original view', 'home', 'home'), ('Back', 'Back to previous …"
      ]
     },
     "metadata": {},
     "output_type": "display_data"
    },
    {
     "name": "stdout",
     "output_type": "stream",
     "text": [
      "2 3\n"
     ]
    },
    {
     "data": {
      "application/vnd.jupyter.widget-view+json": {
       "model_id": "900a16752ef84bfe9c70dbc2ab0fce87",
       "version_major": 2,
       "version_minor": 0
      },
      "text/plain": [
       "Canvas(toolbar=Toolbar(toolitems=[('Home', 'Reset original view', 'home', 'home'), ('Back', 'Back to previous …"
      ]
     },
     "metadata": {},
     "output_type": "display_data"
    },
    {
     "name": "stdout",
     "output_type": "stream",
     "text": [
      "2 4\n"
     ]
    },
    {
     "data": {
      "application/vnd.jupyter.widget-view+json": {
       "model_id": "18728f963e0d489fbe2509847ce7603a",
       "version_major": 2,
       "version_minor": 0
      },
      "text/plain": [
       "Canvas(toolbar=Toolbar(toolitems=[('Home', 'Reset original view', 'home', 'home'), ('Back', 'Back to previous …"
      ]
     },
     "metadata": {},
     "output_type": "display_data"
    },
    {
     "name": "stdout",
     "output_type": "stream",
     "text": [
      "2 5\n"
     ]
    },
    {
     "data": {
      "application/vnd.jupyter.widget-view+json": {
       "model_id": "7d7202518413473899badbeda0b0b855",
       "version_major": 2,
       "version_minor": 0
      },
      "text/plain": [
       "Canvas(toolbar=Toolbar(toolitems=[('Home', 'Reset original view', 'home', 'home'), ('Back', 'Back to previous …"
      ]
     },
     "metadata": {},
     "output_type": "display_data"
    },
    {
     "name": "stdout",
     "output_type": "stream",
     "text": [
      "3 0\n"
     ]
    },
    {
     "data": {
      "application/vnd.jupyter.widget-view+json": {
       "model_id": "b73078bc7c704beaa33429879be35ebc",
       "version_major": 2,
       "version_minor": 0
      },
      "text/plain": [
       "Canvas(toolbar=Toolbar(toolitems=[('Home', 'Reset original view', 'home', 'home'), ('Back', 'Back to previous …"
      ]
     },
     "metadata": {},
     "output_type": "display_data"
    },
    {
     "name": "stdout",
     "output_type": "stream",
     "text": [
      "3 1\n"
     ]
    },
    {
     "data": {
      "application/vnd.jupyter.widget-view+json": {
       "model_id": "88fa5578184a4c1db75d93c11b3dc872",
       "version_major": 2,
       "version_minor": 0
      },
      "text/plain": [
       "Canvas(toolbar=Toolbar(toolitems=[('Home', 'Reset original view', 'home', 'home'), ('Back', 'Back to previous …"
      ]
     },
     "metadata": {},
     "output_type": "display_data"
    },
    {
     "name": "stdout",
     "output_type": "stream",
     "text": [
      "3 2\n"
     ]
    },
    {
     "data": {
      "application/vnd.jupyter.widget-view+json": {
       "model_id": "f29badf0aa064a87a38b7b70713ad61a",
       "version_major": 2,
       "version_minor": 0
      },
      "text/plain": [
       "Canvas(toolbar=Toolbar(toolitems=[('Home', 'Reset original view', 'home', 'home'), ('Back', 'Back to previous …"
      ]
     },
     "metadata": {},
     "output_type": "display_data"
    },
    {
     "name": "stdout",
     "output_type": "stream",
     "text": [
      "3 3\n"
     ]
    },
    {
     "data": {
      "application/vnd.jupyter.widget-view+json": {
       "model_id": "3feac532843543bda519b7e517072c57",
       "version_major": 2,
       "version_minor": 0
      },
      "text/plain": [
       "Canvas(toolbar=Toolbar(toolitems=[('Home', 'Reset original view', 'home', 'home'), ('Back', 'Back to previous …"
      ]
     },
     "metadata": {},
     "output_type": "display_data"
    },
    {
     "name": "stdout",
     "output_type": "stream",
     "text": [
      "3 4\n"
     ]
    },
    {
     "data": {
      "application/vnd.jupyter.widget-view+json": {
       "model_id": "db7afdfd325e4127b27b87ee3bfe117b",
       "version_major": 2,
       "version_minor": 0
      },
      "text/plain": [
       "Canvas(toolbar=Toolbar(toolitems=[('Home', 'Reset original view', 'home', 'home'), ('Back', 'Back to previous …"
      ]
     },
     "metadata": {},
     "output_type": "display_data"
    },
    {
     "name": "stdout",
     "output_type": "stream",
     "text": [
      "3 5\n"
     ]
    },
    {
     "data": {
      "application/vnd.jupyter.widget-view+json": {
       "model_id": "af33d550156e4354af072b5e8ee5c1fe",
       "version_major": 2,
       "version_minor": 0
      },
      "text/plain": [
       "Canvas(toolbar=Toolbar(toolitems=[('Home', 'Reset original view', 'home', 'home'), ('Back', 'Back to previous …"
      ]
     },
     "metadata": {},
     "output_type": "display_data"
    },
    {
     "name": "stdout",
     "output_type": "stream",
     "text": [
      "4 0\n"
     ]
    },
    {
     "data": {
      "application/vnd.jupyter.widget-view+json": {
       "model_id": "aa05ef4b0a3b4a39bf82679411c0c134",
       "version_major": 2,
       "version_minor": 0
      },
      "text/plain": [
       "Canvas(toolbar=Toolbar(toolitems=[('Home', 'Reset original view', 'home', 'home'), ('Back', 'Back to previous …"
      ]
     },
     "metadata": {},
     "output_type": "display_data"
    },
    {
     "name": "stdout",
     "output_type": "stream",
     "text": [
      "4 1\n"
     ]
    },
    {
     "data": {
      "application/vnd.jupyter.widget-view+json": {
       "model_id": "7bcfb594dc5a480bbdb6871a91da6254",
       "version_major": 2,
       "version_minor": 0
      },
      "text/plain": [
       "Canvas(toolbar=Toolbar(toolitems=[('Home', 'Reset original view', 'home', 'home'), ('Back', 'Back to previous …"
      ]
     },
     "metadata": {},
     "output_type": "display_data"
    },
    {
     "name": "stdout",
     "output_type": "stream",
     "text": [
      "4 2\n"
     ]
    },
    {
     "data": {
      "application/vnd.jupyter.widget-view+json": {
       "model_id": "12d12796386f4f1881f67f9980eb90b1",
       "version_major": 2,
       "version_minor": 0
      },
      "text/plain": [
       "Canvas(toolbar=Toolbar(toolitems=[('Home', 'Reset original view', 'home', 'home'), ('Back', 'Back to previous …"
      ]
     },
     "metadata": {},
     "output_type": "display_data"
    },
    {
     "name": "stdout",
     "output_type": "stream",
     "text": [
      "4 3\n"
     ]
    },
    {
     "data": {
      "application/vnd.jupyter.widget-view+json": {
       "model_id": "b09821f52ca0454a95a49d48b6482c23",
       "version_major": 2,
       "version_minor": 0
      },
      "text/plain": [
       "Canvas(toolbar=Toolbar(toolitems=[('Home', 'Reset original view', 'home', 'home'), ('Back', 'Back to previous …"
      ]
     },
     "metadata": {},
     "output_type": "display_data"
    },
    {
     "name": "stdout",
     "output_type": "stream",
     "text": [
      "4 4\n"
     ]
    },
    {
     "data": {
      "application/vnd.jupyter.widget-view+json": {
       "model_id": "637471d2656647d2955ee11466636758",
       "version_major": 2,
       "version_minor": 0
      },
      "text/plain": [
       "Canvas(toolbar=Toolbar(toolitems=[('Home', 'Reset original view', 'home', 'home'), ('Back', 'Back to previous …"
      ]
     },
     "metadata": {},
     "output_type": "display_data"
    },
    {
     "name": "stdout",
     "output_type": "stream",
     "text": [
      "4 5\n"
     ]
    },
    {
     "data": {
      "application/vnd.jupyter.widget-view+json": {
       "model_id": "edc27a10132943948f3f032187de0ccd",
       "version_major": 2,
       "version_minor": 0
      },
      "text/plain": [
       "Canvas(toolbar=Toolbar(toolitems=[('Home', 'Reset original view', 'home', 'home'), ('Back', 'Back to previous …"
      ]
     },
     "metadata": {},
     "output_type": "display_data"
    }
   ],
   "source": [
    "plots = [[0]*6 for i in range(5)]\n",
    "plots\n",
    "for i, val in enumerate(init_freeze):\n",
    "    for j, st in enumerate(init_stab):\n",
    "        print(i,j)\n",
    "        plots[i][j], ax =plt.subplots()\n",
    "        dh= dg[(dg['init_stab']== st )&(dg['init_freeze']==val)]\n",
    "        sns.violinplot(x='init_magnet', y='Density', hue = 'order', data=dh,\n",
    "               scale='count', bw=.2, cut=0, split=True, inner=None)\n",
    "        "
   ]
  },
  {
   "cell_type": "code",
   "execution_count": 29,
   "metadata": {},
   "outputs": [
    {
     "data": {
      "application/vnd.jupyter.widget-view+json": {
       "model_id": "81396dc82f734a44891dc2e5b812c2d4",
       "version_major": 2,
       "version_minor": 0
      },
      "text/plain": [
       "Canvas(toolbar=Toolbar(toolitems=[('Home', 'Reset original view', 'home', 'home'), ('Back', 'Back to previous …"
      ]
     },
     "metadata": {},
     "output_type": "display_data"
    },
    {
     "data": {
      "application/vnd.jupyter.widget-view+json": {
       "model_id": "af494caafc974872a5afdb59ae0742b5",
       "version_major": 2,
       "version_minor": 0
      },
      "text/plain": [
       "Canvas(toolbar=Toolbar(toolitems=[('Home', 'Reset original view', 'home', 'home'), ('Back', 'Back to previous …"
      ]
     },
     "metadata": {},
     "output_type": "display_data"
    },
    {
     "data": {
      "application/vnd.jupyter.widget-view+json": {
       "model_id": "05c3722feeac47519116f503cdd5568b",
       "version_major": 2,
       "version_minor": 0
      },
      "text/plain": [
       "Canvas(toolbar=Toolbar(toolitems=[('Home', 'Reset original view', 'home', 'home'), ('Back', 'Back to previous …"
      ]
     },
     "metadata": {},
     "output_type": "display_data"
    },
    {
     "data": {
      "application/vnd.jupyter.widget-view+json": {
       "model_id": "fa54ccf8f682410296380b81565ce65e",
       "version_major": 2,
       "version_minor": 0
      },
      "text/plain": [
       "Canvas(toolbar=Toolbar(toolitems=[('Home', 'Reset original view', 'home', 'home'), ('Back', 'Back to previous …"
      ]
     },
     "metadata": {},
     "output_type": "display_data"
    },
    {
     "data": {
      "application/vnd.jupyter.widget-view+json": {
       "model_id": "717ffbfdf60b45ada8184f79760158ea",
       "version_major": 2,
       "version_minor": 0
      },
      "text/plain": [
       "Canvas(toolbar=Toolbar(toolitems=[('Home', 'Reset original view', 'home', 'home'), ('Back', 'Back to previous …"
      ]
     },
     "metadata": {},
     "output_type": "display_data"
    },
    {
     "data": {
      "application/vnd.jupyter.widget-view+json": {
       "model_id": "492734c74d3246f3b7ef87588f0f62f2",
       "version_major": 2,
       "version_minor": 0
      },
      "text/plain": [
       "Canvas(toolbar=Toolbar(toolitems=[('Home', 'Reset original view', 'home', 'home'), ('Back', 'Back to previous …"
      ]
     },
     "metadata": {},
     "output_type": "display_data"
    },
    {
     "data": {
      "application/vnd.jupyter.widget-view+json": {
       "model_id": "a553f2ef70f441959fb543a1cf6c0a5a",
       "version_major": 2,
       "version_minor": 0
      },
      "text/plain": [
       "Canvas(toolbar=Toolbar(toolitems=[('Home', 'Reset original view', 'home', 'home'), ('Back', 'Back to previous …"
      ]
     },
     "metadata": {},
     "output_type": "display_data"
    },
    {
     "data": {
      "application/vnd.jupyter.widget-view+json": {
       "model_id": "2f7b29ab34684736945e8ccfae750cac",
       "version_major": 2,
       "version_minor": 0
      },
      "text/plain": [
       "Canvas(toolbar=Toolbar(toolitems=[('Home', 'Reset original view', 'home', 'home'), ('Back', 'Back to previous …"
      ]
     },
     "metadata": {},
     "output_type": "display_data"
    },
    {
     "data": {
      "application/vnd.jupyter.widget-view+json": {
       "model_id": "1717286c32a84b7e839e8713bd96d051",
       "version_major": 2,
       "version_minor": 0
      },
      "text/plain": [
       "Canvas(toolbar=Toolbar(toolitems=[('Home', 'Reset original view', 'home', 'home'), ('Back', 'Back to previous …"
      ]
     },
     "metadata": {},
     "output_type": "display_data"
    },
    {
     "data": {
      "application/vnd.jupyter.widget-view+json": {
       "model_id": "63d28c7ce4204f85b77841361d483f85",
       "version_major": 2,
       "version_minor": 0
      },
      "text/plain": [
       "Canvas(toolbar=Toolbar(toolitems=[('Home', 'Reset original view', 'home', 'home'), ('Back', 'Back to previous …"
      ]
     },
     "metadata": {},
     "output_type": "display_data"
    },
    {
     "data": {
      "application/vnd.jupyter.widget-view+json": {
       "model_id": "8f29321319744c5092139772727135d7",
       "version_major": 2,
       "version_minor": 0
      },
      "text/plain": [
       "Canvas(toolbar=Toolbar(toolitems=[('Home', 'Reset original view', 'home', 'home'), ('Back', 'Back to previous …"
      ]
     },
     "metadata": {},
     "output_type": "display_data"
    },
    {
     "data": {
      "application/vnd.jupyter.widget-view+json": {
       "model_id": "754af961cb9d4d0393e2a203107c58ff",
       "version_major": 2,
       "version_minor": 0
      },
      "text/plain": [
       "Canvas(toolbar=Toolbar(toolitems=[('Home', 'Reset original view', 'home', 'home'), ('Back', 'Back to previous …"
      ]
     },
     "metadata": {},
     "output_type": "display_data"
    },
    {
     "data": {
      "application/vnd.jupyter.widget-view+json": {
       "model_id": "114a32f006c24375a556ba07b721455d",
       "version_major": 2,
       "version_minor": 0
      },
      "text/plain": [
       "Canvas(toolbar=Toolbar(toolitems=[('Home', 'Reset original view', 'home', 'home'), ('Back', 'Back to previous …"
      ]
     },
     "metadata": {},
     "output_type": "display_data"
    },
    {
     "data": {
      "application/vnd.jupyter.widget-view+json": {
       "model_id": "e812fe8091a64ada833edcdeda0d2731",
       "version_major": 2,
       "version_minor": 0
      },
      "text/plain": [
       "Canvas(toolbar=Toolbar(toolitems=[('Home', 'Reset original view', 'home', 'home'), ('Back', 'Back to previous …"
      ]
     },
     "metadata": {},
     "output_type": "display_data"
    },
    {
     "data": {
      "application/vnd.jupyter.widget-view+json": {
       "model_id": "34ab81e0d9884c1bb7a2887f19018fb8",
       "version_major": 2,
       "version_minor": 0
      },
      "text/plain": [
       "Canvas(toolbar=Toolbar(toolitems=[('Home', 'Reset original view', 'home', 'home'), ('Back', 'Back to previous …"
      ]
     },
     "metadata": {},
     "output_type": "display_data"
    },
    {
     "data": {
      "application/vnd.jupyter.widget-view+json": {
       "model_id": "d780a04fcd9547caaf72f5a76eea87fd",
       "version_major": 2,
       "version_minor": 0
      },
      "text/plain": [
       "Canvas(toolbar=Toolbar(toolitems=[('Home', 'Reset original view', 'home', 'home'), ('Back', 'Back to previous …"
      ]
     },
     "metadata": {},
     "output_type": "display_data"
    },
    {
     "data": {
      "application/vnd.jupyter.widget-view+json": {
       "model_id": "f4082f65f90546a48b69b18ad9ebd1ad",
       "version_major": 2,
       "version_minor": 0
      },
      "text/plain": [
       "Canvas(toolbar=Toolbar(toolitems=[('Home', 'Reset original view', 'home', 'home'), ('Back', 'Back to previous …"
      ]
     },
     "metadata": {},
     "output_type": "display_data"
    },
    {
     "data": {
      "application/vnd.jupyter.widget-view+json": {
       "model_id": "a6c0a7a57eeb49088f8c29f018bab2f2",
       "version_major": 2,
       "version_minor": 0
      },
      "text/plain": [
       "Canvas(toolbar=Toolbar(toolitems=[('Home', 'Reset original view', 'home', 'home'), ('Back', 'Back to previous …"
      ]
     },
     "metadata": {},
     "output_type": "display_data"
    }
   ],
   "source": [
    "plots_b = [[0]*6 for i in range(5)]\n",
    "plots_b\n",
    "for i, val in enumerate(init_freeze_b):\n",
    "    for j, st in enumerate(init_stab):\n",
    "        plots_b[i][j], ax =plt.subplots()\n",
    "        dh= df[(df['init_stab']== st )&(df['init_freeze']==val)]\n",
    "        sns.violinplot(x='init_magnet', y='Density', hue = 'order', data=dh,\n",
    "               scale='count', bw=.2, cut=0, split=True, inner=None)\n",
    "        "
   ]
  },
  {
   "cell_type": "code",
   "execution_count": 38,
   "metadata": {},
   "outputs": [],
   "source": [
    "def f(x,y):\n",
    "    i= init_freeze.index(x)\n",
    "    j=init_stab.index(y)\n",
    "    return plots[i][j]\n",
    "def f_b(x,y):\n",
    "    i= init_freeze_b.index(x)\n",
    "    j=init_stab.index(y)\n",
    "    return plots_b[i][j]\n",
    "        "
   ]
  },
  {
   "cell_type": "code",
   "execution_count": 31,
   "metadata": {},
   "outputs": [
    {
     "data": {
      "application/vnd.jupyter.widget-view+json": {
       "model_id": "85ecd082731d44f89f7457f0352a5e27",
       "version_major": 2,
       "version_minor": 0
      },
      "text/plain": [
       "interactive(children=(FloatSlider(value=0.1, description='x', max=0.5, min=0.1), FloatSlider(value=0.0, descri…"
      ]
     },
     "metadata": {},
     "output_type": "display_data"
    }
   ],
   "source": [
    "x_widget = widgets.FloatSlider(min=0.1, max=0.5, step=0.1)\n",
    "y_widget = widgets.FloatSlider(min=0.0, max=1.0, step=0.2)\n",
    "interact(f,x=x_widget, y=y_widget);"
   ]
  },
  {
   "cell_type": "code",
   "execution_count": 32,
   "metadata": {},
   "outputs": [
    {
     "data": {
      "text/plain": [
       "[0.15, 0.12, 0.17]"
      ]
     },
     "execution_count": 32,
     "metadata": {},
     "output_type": "execute_result"
    }
   ],
   "source": [
    "init_freeze_b"
   ]
  },
  {
   "cell_type": "code",
   "execution_count": 36,
   "metadata": {},
   "outputs": [],
   "source": [
    "x_widget_b = widgets.FloatSlider(min=0.12, max=0.17, step=0.01)\n",
    "y_widget_b = widgets.FloatSlider(min=0.0, max=1.0, step=0.2)"
   ]
  },
  {
   "cell_type": "code",
   "execution_count": 39,
   "metadata": {},
   "outputs": [
    {
     "data": {
      "application/vnd.jupyter.widget-view+json": {
       "model_id": "568aa1c52d0d43baa75c1b0ce79b144e",
       "version_major": 2,
       "version_minor": 0
      },
      "text/plain": [
       "interactive(children=(FloatSlider(value=0.12, description='x', max=0.17, min=0.12, step=0.01), FloatSlider(val…"
      ]
     },
     "metadata": {},
     "output_type": "display_data"
    }
   ],
   "source": [
    "interact(f_b,x=x_widget_b, y=y_widget_b);"
   ]
  },
  {
   "cell_type": "code",
   "execution_count": null,
   "metadata": {},
   "outputs": [],
   "source": []
  }
 ],
 "metadata": {
  "kernelspec": {
   "display_name": "Python 3",
   "language": "python",
   "name": "python3"
  },
  "language_info": {
   "codemirror_mode": {
    "name": "ipython",
    "version": 3
   },
   "file_extension": ".py",
   "mimetype": "text/x-python",
   "name": "python",
   "nbconvert_exporter": "python",
   "pygments_lexer": "ipython3",
   "version": "3.9.1"
  },
  "varInspector": {
   "cols": {
    "lenName": 16,
    "lenType": 16,
    "lenVar": 40
   },
   "kernels_config": {
    "python": {
     "delete_cmd_postfix": "",
     "delete_cmd_prefix": "del ",
     "library": "var_list.py",
     "varRefreshCmd": "print(var_dic_list())"
    },
    "r": {
     "delete_cmd_postfix": ") ",
     "delete_cmd_prefix": "rm(",
     "library": "var_list.r",
     "varRefreshCmd": "cat(var_dic_list()) "
    }
   },
   "types_to_exclude": [
    "module",
    "function",
    "builtin_function_or_method",
    "instance",
    "_Feature"
   ],
   "window_display": false
  }
 },
 "nbformat": 4,
 "nbformat_minor": 4
}
