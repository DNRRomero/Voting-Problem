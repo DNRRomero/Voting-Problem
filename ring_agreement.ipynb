{
 "cells": [
  {
   "cell_type": "code",
   "execution_count": 1,
   "metadata": {},
   "outputs": [],
   "source": [
    "%matplotlib widget\n",
    "import numpy as np\n",
    "import matplotlib\n",
    "import matplotlib.pyplot as plt\n",
    "from matplotlib import animation, rc\n",
    "from IPython.display import HTML\n",
    "import seaborn as sns\n",
    "import pandas as pd\n",
    "import itertools\n",
    "from pathlib import Path\n",
    "data_dir = Path('data')"
   ]
  },
  {
   "cell_type": "code",
   "execution_count": 2,
   "metadata": {},
   "outputs": [],
   "source": [
    "sns.set_style(\"whitegrid\")\n"
   ]
  },
  {
   "cell_type": "code",
   "execution_count": 3,
   "metadata": {},
   "outputs": [],
   "source": [
    "from script import Evolve, Torus, Ring, utilities, Plotter\n",
    "from script.metric import *"
   ]
  },
  {
   "cell_type": "code",
   "execution_count": 4,
   "metadata": {},
   "outputs": [],
   "source": [
    "n= 256\n",
    "c_type= ConfigType.Ring\n",
    "size = n\n",
    "p_state= 0.5\n",
    "seed= 654798203\n",
    "steps=2000\n",
    "np.random.seed(seed)\n",
    "pi=np.random.permutation(n)\n",
    "metricList= [Metric.SpinGlass, Metric.Magnetization]\n",
    "magnetList = [0]\n",
    "samples = 100\n",
    "\n",
    "agree= {'init_magnet': [], 'length' : [], 'Magnetization_mean':[], 'Magnetization_min':[], 'Magnetization_max':[],\n",
    "        'Magnetization_std':[], 'SpinGlass':[], 'unstables':[]}   \n",
    "conf = Ring.createRing(n)"
   ]
  },
  {
   "cell_type": "code",
   "execution_count": 92,
   "metadata": {},
   "outputs": [
    {
     "name": "stdout",
     "output_type": "stream",
     "text": [
      "0\n",
      "1\n",
      "2\n"
     ]
    }
   ],
   "source": [
    "for i, mag in enumerate(magnetList):\n",
    "    print(i)\n",
    "    for j in range(samples):\n",
    "        init_states= [State.ON]*round((size*(0.5 + mag/2))-10**(-9)) + [State.OFF]*round((size*(0.5 -mag/2)+10**(-9)))\n",
    "        np.random.shuffle(init_states)\n",
    "        init_rule = np.array([Rule.STABLE]*size)\n",
    "        curr_rule =init_rule\n",
    "        conf.set_rules(init_rule)\n",
    "        conf.set_states(init_states)\n",
    "        curr_magnet = mag\n",
    "        stables = [0]\n",
    "        while curr_magnet<1 and stables != []:\n",
    "            array, out = Evolve.evolve(conf, perm= pi, steps=steps, \n",
    "                                   metricList=metricList, cycleBreak=True)\n",
    "            curr_energy = out[Metric.SpinGlass][-1]\n",
    "            curr_magnet= out[Metric.Magnetization][-1]\n",
    "            length, start = utilities.cycle_length(array)\n",
    "\n",
    "            stables = [k for k in range(n) if curr_rule[k]== Rule.STABLE]\n",
    "\n",
    "            agree['init_magnet'].append(mag)\n",
    "            agree['length'].append(length)\n",
    "            agree['Magnetization_mean'].append(curr_magnet)\n",
    "            agree['Magnetization_std'].append(np.std(magnetization(array[start: start+length])))\n",
    "            agree['Magnetization_min'].append(np.min(magnetization(array[start: start+length])))\n",
    "            agree['Magnetization_max'].append(np.max(magnetization(array[start: start+length])))\n",
    "            agree['SpinGlass'].append(curr_energy)  \n",
    "            agree['unstables'].append(n-len(stables))\n",
    "\n",
    "            # Choose a random stable node to change rule\n",
    "            index = 0 if stables == [] else np.random.choice(stables)\n",
    "            curr_rule[index] = Rule.UNSTABLE\n",
    "            conf.set_rules(curr_rule)\n",
    "data = pd.DataFrame(agree)\n"
   ]
  },
  {
   "cell_type": "code",
   "execution_count": 93,
   "metadata": {},
   "outputs": [],
   "source": [
    "title = '{2}_{0}_{1}_agreement_multi.csv'.format(n, steps, c_type.name)\n",
    "data.to_csv(title, encoding='utf-8', index=False)\n"
   ]
  },
  {
   "cell_type": "markdown",
   "metadata": {},
   "source": [
    "### Load"
   ]
  },
  {
   "cell_type": "code",
   "execution_count": 8,
   "metadata": {},
   "outputs": [],
   "source": [
    "#n=100\n",
    "#steps=1000\n",
    "title = '{2}_{0}_{1}_agreement_multi.csv'.format(n, steps, c_type.name)\n",
    "data= pd.read_csv(data_dir /title)"
   ]
  },
  {
   "cell_type": "markdown",
   "metadata": {},
   "source": [
    "### Magnetization obtained according to stability"
   ]
  },
  {
   "cell_type": "code",
   "execution_count": 9,
   "metadata": {},
   "outputs": [
    {
     "data": {
      "text/html": [
       "<div>\n",
       "<style scoped>\n",
       "    .dataframe tbody tr th:only-of-type {\n",
       "        vertical-align: middle;\n",
       "    }\n",
       "\n",
       "    .dataframe tbody tr th {\n",
       "        vertical-align: top;\n",
       "    }\n",
       "\n",
       "    .dataframe thead th {\n",
       "        text-align: right;\n",
       "    }\n",
       "</style>\n",
       "<table border=\"1\" class=\"dataframe\">\n",
       "  <thead>\n",
       "    <tr style=\"text-align: right;\">\n",
       "      <th></th>\n",
       "      <th>init_magnet</th>\n",
       "      <th>length</th>\n",
       "      <th>Magnetization_mean</th>\n",
       "      <th>Magnetization_min</th>\n",
       "      <th>Magnetization_max</th>\n",
       "      <th>Magnetization_std</th>\n",
       "      <th>SpinGlass</th>\n",
       "      <th>unstables</th>\n",
       "    </tr>\n",
       "  </thead>\n",
       "  <tbody>\n",
       "    <tr>\n",
       "      <th>0</th>\n",
       "      <td>0.0</td>\n",
       "      <td>1</td>\n",
       "      <td>0.06</td>\n",
       "      <td>0.06</td>\n",
       "      <td>0.06</td>\n",
       "      <td>0.00000</td>\n",
       "      <td>-72.0</td>\n",
       "      <td>0</td>\n",
       "    </tr>\n",
       "    <tr>\n",
       "      <th>1</th>\n",
       "      <td>0.0</td>\n",
       "      <td>2</td>\n",
       "      <td>0.05</td>\n",
       "      <td>0.04</td>\n",
       "      <td>0.06</td>\n",
       "      <td>0.01000</td>\n",
       "      <td>-72.0</td>\n",
       "      <td>1</td>\n",
       "    </tr>\n",
       "    <tr>\n",
       "      <th>2</th>\n",
       "      <td>0.0</td>\n",
       "      <td>2</td>\n",
       "      <td>0.05</td>\n",
       "      <td>0.04</td>\n",
       "      <td>0.06</td>\n",
       "      <td>0.01000</td>\n",
       "      <td>-72.0</td>\n",
       "      <td>2</td>\n",
       "    </tr>\n",
       "    <tr>\n",
       "      <th>3</th>\n",
       "      <td>0.0</td>\n",
       "      <td>1</td>\n",
       "      <td>0.00</td>\n",
       "      <td>0.00</td>\n",
       "      <td>0.00</td>\n",
       "      <td>0.00000</td>\n",
       "      <td>-72.0</td>\n",
       "      <td>3</td>\n",
       "    </tr>\n",
       "    <tr>\n",
       "      <th>4</th>\n",
       "      <td>0.0</td>\n",
       "      <td>2</td>\n",
       "      <td>0.01</td>\n",
       "      <td>0.00</td>\n",
       "      <td>0.02</td>\n",
       "      <td>0.01000</td>\n",
       "      <td>-72.0</td>\n",
       "      <td>4</td>\n",
       "    </tr>\n",
       "    <tr>\n",
       "      <th>...</th>\n",
       "      <td>...</td>\n",
       "      <td>...</td>\n",
       "      <td>...</td>\n",
       "      <td>...</td>\n",
       "      <td>...</td>\n",
       "      <td>...</td>\n",
       "      <td>...</td>\n",
       "      <td>...</td>\n",
       "    </tr>\n",
       "    <tr>\n",
       "      <th>80774</th>\n",
       "      <td>0.8</td>\n",
       "      <td>15</td>\n",
       "      <td>0.90</td>\n",
       "      <td>0.84</td>\n",
       "      <td>0.96</td>\n",
       "      <td>0.03266</td>\n",
       "      <td>-96.0</td>\n",
       "      <td>39</td>\n",
       "    </tr>\n",
       "    <tr>\n",
       "      <th>80775</th>\n",
       "      <td>0.8</td>\n",
       "      <td>15</td>\n",
       "      <td>0.90</td>\n",
       "      <td>0.84</td>\n",
       "      <td>0.96</td>\n",
       "      <td>0.03266</td>\n",
       "      <td>-96.0</td>\n",
       "      <td>40</td>\n",
       "    </tr>\n",
       "    <tr>\n",
       "      <th>80776</th>\n",
       "      <td>0.8</td>\n",
       "      <td>15</td>\n",
       "      <td>0.90</td>\n",
       "      <td>0.84</td>\n",
       "      <td>0.96</td>\n",
       "      <td>0.03266</td>\n",
       "      <td>-96.0</td>\n",
       "      <td>41</td>\n",
       "    </tr>\n",
       "    <tr>\n",
       "      <th>80777</th>\n",
       "      <td>0.8</td>\n",
       "      <td>1</td>\n",
       "      <td>1.00</td>\n",
       "      <td>1.00</td>\n",
       "      <td>1.00</td>\n",
       "      <td>0.00000</td>\n",
       "      <td>-100.0</td>\n",
       "      <td>42</td>\n",
       "    </tr>\n",
       "    <tr>\n",
       "      <th>80778</th>\n",
       "      <td>0.8</td>\n",
       "      <td>1</td>\n",
       "      <td>1.00</td>\n",
       "      <td>1.00</td>\n",
       "      <td>1.00</td>\n",
       "      <td>0.00000</td>\n",
       "      <td>-100.0</td>\n",
       "      <td>0</td>\n",
       "    </tr>\n",
       "  </tbody>\n",
       "</table>\n",
       "<p>80779 rows × 8 columns</p>\n",
       "</div>"
      ],
      "text/plain": [
       "       init_magnet  length  Magnetization_mean  Magnetization_min  \\\n",
       "0              0.0       1                0.06               0.06   \n",
       "1              0.0       2                0.05               0.04   \n",
       "2              0.0       2                0.05               0.04   \n",
       "3              0.0       1                0.00               0.00   \n",
       "4              0.0       2                0.01               0.00   \n",
       "...            ...     ...                 ...                ...   \n",
       "80774          0.8      15                0.90               0.84   \n",
       "80775          0.8      15                0.90               0.84   \n",
       "80776          0.8      15                0.90               0.84   \n",
       "80777          0.8       1                1.00               1.00   \n",
       "80778          0.8       1                1.00               1.00   \n",
       "\n",
       "       Magnetization_max  Magnetization_std  SpinGlass  unstables  \n",
       "0                   0.06            0.00000      -72.0          0  \n",
       "1                   0.06            0.01000      -72.0          1  \n",
       "2                   0.06            0.01000      -72.0          2  \n",
       "3                   0.00            0.00000      -72.0          3  \n",
       "4                   0.02            0.01000      -72.0          4  \n",
       "...                  ...                ...        ...        ...  \n",
       "80774               0.96            0.03266      -96.0         39  \n",
       "80775               0.96            0.03266      -96.0         40  \n",
       "80776               0.96            0.03266      -96.0         41  \n",
       "80777               1.00            0.00000     -100.0         42  \n",
       "80778               1.00            0.00000     -100.0          0  \n",
       "\n",
       "[80779 rows x 8 columns]"
      ]
     },
     "execution_count": 9,
     "metadata": {},
     "output_type": "execute_result"
    }
   ],
   "source": [
    "data"
   ]
  },
  {
   "cell_type": "code",
   "execution_count": 15,
   "metadata": {
    "scrolled": false
   },
   "outputs": [
    {
     "data": {
      "application/vnd.jupyter.widget-view+json": {
       "model_id": "e85aca9966b745bc8ac2c1c3798c9960",
       "version_major": 2,
       "version_minor": 0
      },
      "text/plain": [
       "Canvas(toolbar=Toolbar(toolitems=[('Home', 'Reset original view', 'home', 'home'), ('Back', 'Back to previous …"
      ]
     },
     "metadata": {},
     "output_type": "display_data"
    },
    {
     "name": "stdout",
     "output_type": "stream",
     "text": [
      "0.0 0.06939999999999999\n",
      "0.2 0.3001\n",
      "0.4 0.5743\n",
      "0.6 0.7927000000000001\n",
      "0.8 0.9494999999999999\n"
     ]
    },
    {
     "data": {
      "text/plain": [
       "<seaborn.axisgrid.FacetGrid at 0x7f4662e186a0>"
      ]
     },
     "execution_count": 15,
     "metadata": {},
     "output_type": "execute_result"
    }
   ],
   "source": [
    "facet = sns.FacetGrid(data,  # the dataframe to pull from\n",
    "                          row=\"init_magnet\",  # define the column for each subplot row to be differentiated by\n",
    "                          hue=\"init_magnet\",  # define the column for each subplot color to be differentiated by\n",
    "                          aspect=6,  # aspect * height = width\n",
    "                          height=2,  # height of each subplot\n",
    "                          )\n",
    "by_magnet = data.groupby(\"init_magnet\")\n",
    "def init_magnet(x, color, label):\n",
    "    ax= plt.gca()\n",
    "    fix_magnet = by_magnet.get_group(float(label))\n",
    "    val = np.mean(fix_magnet.loc[fix_magnet[\"unstables\"] == 0][\"Magnetization_mean\"].values)\n",
    "    print(label, val)\n",
    "    plt.axhline(y=val, ls=\"--\")\n",
    "    \n",
    "facet.map(init_magnet, \"init_magnet\")\n",
    "facet.map(sns.lineplot,'unstables',\"Magnetization_mean\")\n",
    "#facet.map(sns.lineplot, 'unstables', \"Magnetization_min\", ls=\"--\")\n",
    "#facet.map(sns.lineplot, 'unstables', \"Magnetization_max\", ls= \"--\")\n",
    "\n",
    "def label(x, color, label):\n",
    "    ax = plt.gca()  # get the axes of the current object\n",
    "    ax.text(0, .2,  # location of text\n",
    "            label,  # text label\n",
    "            fontweight=\"bold\", color=color, size=18,  # text attributes\n",
    "            ha=\"left\", va=\"center\",  # alignment specifications\n",
    "            transform=ax.transAxes)  # specify axes of transformation\n",
    "        \n",
    "\n",
    "facet.map(label, \"Magnetization_mean\")  # the function counts as a plotting object!\n",
    "facet.set_titles(\"\")  # set title to blank"
   ]
  },
  {
   "cell_type": "code",
   "execution_count": 16,
   "metadata": {},
   "outputs": [
    {
     "data": {
      "application/vnd.jupyter.widget-view+json": {
       "model_id": "cc0e48b455424d2b8749950a11d18036",
       "version_major": 2,
       "version_minor": 0
      },
      "text/plain": [
       "Canvas(toolbar=Toolbar(toolitems=[('Home', 'Reset original view', 'home', 'home'), ('Back', 'Back to previous …"
      ]
     },
     "metadata": {},
     "output_type": "display_data"
    },
    {
     "name": "stdout",
     "output_type": "stream",
     "text": [
      "0.0 -63.24\n",
      "0.2 -65.86\n",
      "0.4 -74.2\n",
      "0.6 -84.96\n",
      "0.8 -95.86\n"
     ]
    },
    {
     "data": {
      "text/plain": [
       "<seaborn.axisgrid.FacetGrid at 0x7f46775cde80>"
      ]
     },
     "execution_count": 16,
     "metadata": {},
     "output_type": "execute_result"
    }
   ],
   "source": [
    "facet = sns.FacetGrid(data,  # the dataframe to pull from\n",
    "                          row=\"init_magnet\",  # define the column for each subplot row to be differentiated by\n",
    "                          hue=\"init_magnet\",  # define the column for each subplot color to be differentiated by\n",
    "                          aspect=6,  # aspect * height = width\n",
    "                          height=2,  # height of each subplot\n",
    "                          )\n",
    "def init_magnet(x, color, label):\n",
    "    ax= plt.gca()\n",
    "    fix_magnet = by_magnet.get_group(float(label))\n",
    "    val = np.mean(fix_magnet.loc[fix_magnet[\"unstables\"] == 0][\"SpinGlass\"].values)\n",
    "    print(label, val)\n",
    "    plt.axhline(y=val, ls=\"--\")\n",
    "    \n",
    "facet.map(init_magnet, \"init_magnet\")\n",
    "facet.map(sns.lineplot,'unstables',\"SpinGlass\")\n",
    "#facet.map(sns.lineplot, 'unstables', \"Magnetization_min\", ls=\"--\")\n",
    "#facet.map(sns.lineplot, 'unstables', \"Magnetization_max\", ls= \"--\")\n",
    "\n",
    "def label(x, color, label):\n",
    "    ax = plt.gca()  # get the axes of the current object\n",
    "    ax.text(0, .2,  # location of text\n",
    "            label,  # text label\n",
    "            fontweight=\"bold\", color=color, size=18,  # text attributes\n",
    "            ha=\"left\", va=\"center\",  # alignment specifications\n",
    "            transform=ax.transAxes)  # specify axes of transformation\n",
    "        \n",
    "\n",
    "facet.map(label, \"SpinGlass\")  # the function counts as a plotting object!\n",
    "facet.set_titles(\"\")  # set title to blank"
   ]
  },
  {
   "cell_type": "code",
   "execution_count": 80,
   "metadata": {},
   "outputs": [],
   "source": [
    "by_magnet = data.groupby(\"init_magnet\")"
   ]
  },
  {
   "cell_type": "code",
   "execution_count": 85,
   "metadata": {},
   "outputs": [
    {
     "data": {
      "text/plain": [
       "0.7897999999999997"
      ]
     },
     "execution_count": 85,
     "metadata": {},
     "output_type": "execute_result"
    }
   ],
   "source": [
    "fix_magnet = by_magnet.get_group(0.6)\n",
    "val = np.mean(fix_magnet.loc[fix_magnet[\"unstables\"] == 0][\"Magnetization_mean\"].values)\n",
    "val"
   ]
  },
  {
   "cell_type": "code",
   "execution_count": 17,
   "metadata": {},
   "outputs": [
    {
     "data": {
      "application/vnd.jupyter.widget-view+json": {
       "model_id": "f55cbf9d6bce474bbf1f82c3ff98dbbb",
       "version_major": 2,
       "version_minor": 0
      },
      "text/plain": [
       "Canvas(toolbar=Toolbar(toolitems=[('Home', 'Reset original view', 'home', 'home'), ('Back', 'Back to previous …"
      ]
     },
     "metadata": {},
     "output_type": "display_data"
    },
    {
     "data": {
      "text/plain": [
       "<seaborn.axisgrid.FacetGrid at 0x7f466027e910>"
      ]
     },
     "execution_count": 17,
     "metadata": {},
     "output_type": "execute_result"
    }
   ],
   "source": [
    "facet = sns.FacetGrid(data,  # the dataframe to pull from\n",
    "                          row=\"init_magnet\",  # define the column for each subplot row to be differentiated by\n",
    "                          hue=\"init_magnet\",  # define the column for each subplot color to be differentiated by\n",
    "                          aspect=6,  # aspect * height = width\n",
    "                          height=2,  # height of each subplot\n",
    "                          )\n",
    "def init_magnet(x, color, label):\n",
    "    ax= plt.gca()\n",
    "    fix_magnet = by_magnet.get_group(float(label))\n",
    "    val = np.mean(fix_magnet.loc[fix_magnet[\"unstables\"] == 0][\"SpinGlass\"].values)\n",
    "    print(label, val)\n",
    "    plt.axhline(y=val, ls=\"--\")\n",
    "    \n",
    "#facet.map(init_magnet, \"init_magnet\")\n",
    "facet.map(sns.lineplot,'unstables',\"length\")\n",
    "#facet.map(sns.lineplot, 'unstables', \"Magnetization_min\", ls=\"--\")\n",
    "#facet.map(sns.lineplot, 'unstables', \"Magnetization_max\", ls= \"--\")\n",
    "\n",
    "def label(x, color, label):\n",
    "    ax = plt.gca()  # get the axes of the current object\n",
    "    ax.text(0, .2,  # location of text\n",
    "            label,  # text label\n",
    "            fontweight=\"bold\", color=color, size=18,  # text attributes\n",
    "            ha=\"left\", va=\"center\",  # alignment specifications\n",
    "            transform=ax.transAxes)  # specify axes of transformation\n",
    "        \n",
    "\n",
    "facet.map(label, \"length\")  # the function counts as a plotting object!\n",
    "facet.set_titles(\"\")  # set title to blank"
   ]
  },
  {
   "cell_type": "code",
   "execution_count": 16,
   "metadata": {},
   "outputs": [
    {
     "name": "stdout",
     "output_type": "stream",
     "text": [
      "0.0\n",
      "0.2\n",
      "0.4\n",
      "0.6\n",
      "0.8\n"
     ]
    },
    {
     "data": {
      "text/plain": [
       "<seaborn.axisgrid.FacetGrid at 0x7f1c620eadc0>"
      ]
     },
     "execution_count": 16,
     "metadata": {},
     "output_type": "execute_result"
    }
   ],
   "source": [
    "def init_magnet(x, color, label):\n",
    "    ax= plt.gca()\n",
    "    fix_magnet = by_magnet.get_group(float(label))\n",
    "    val = fix_magnet.loc[fix_magnet[\"unstables\"] == 0][\"Magnetization_mean\"].values[0]\n",
    "    plt.axhline(y=val, ls=\"--\")\n",
    "    \n",
    "facet.map(init_magnet, \"init_magnet\")\n",
    "#facet.map(sns.lineplot,'unstables',\"Magnetization_mean\")\n",
    "facet.map(sns.lineplot, 'unstables', \"Magnetization_min\", ls=\"--\")\n",
    "facet.map(sns.lineplot, 'unstables', \"Magnetization_max\", ls= \"--\")"
   ]
  }
 ],
 "metadata": {
  "kernelspec": {
   "display_name": "Python 3",
   "language": "python",
   "name": "python3"
  },
  "language_info": {
   "codemirror_mode": {
    "name": "ipython",
    "version": 3
   },
   "file_extension": ".py",
   "mimetype": "text/x-python",
   "name": "python",
   "nbconvert_exporter": "python",
   "pygments_lexer": "ipython3",
   "version": "3.8.5"
  }
 },
 "nbformat": 4,
 "nbformat_minor": 4
}
