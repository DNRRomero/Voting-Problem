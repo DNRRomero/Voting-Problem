{
 "cells": [
  {
   "cell_type": "code",
   "execution_count": 1,
   "metadata": {
    "ExecuteTime": {
     "end_time": "2021-01-21T19:26:13.041401Z",
     "start_time": "2021-01-21T19:26:12.067966Z"
    }
   },
   "outputs": [],
   "source": [
    "%matplotlib widget\n",
    "import numpy as np\n",
    "import matplotlib\n",
    "import matplotlib.pyplot as plt\n",
    "from matplotlib import animation, rc\n",
    "from IPython.display import HTML\n",
    "import seaborn as sns\n",
    "import pandas as pd\n",
    "from pathlib import Path\n",
    "data_dir = Path('data/Ring')"
   ]
  },
  {
   "cell_type": "code",
   "execution_count": 2,
   "metadata": {
    "ExecuteTime": {
     "end_time": "2021-01-21T19:26:13.056717Z",
     "start_time": "2021-01-21T19:26:13.053268Z"
    }
   },
   "outputs": [],
   "source": [
    "sns.set_style(\"whitegrid\")\n"
   ]
  },
  {
   "cell_type": "code",
   "execution_count": 3,
   "metadata": {
    "ExecuteTime": {
     "end_time": "2021-01-21T19:26:13.328337Z",
     "start_time": "2021-01-21T19:26:13.105009Z"
    }
   },
   "outputs": [],
   "source": [
    "from src.modules import Evolve, Torus, Ring, utils, Plotter, metric"
   ]
  },
  {
   "cell_type": "markdown",
   "metadata": {},
   "source": [
    "### Load"
   ]
  },
  {
   "cell_type": "code",
   "execution_count": 4,
   "metadata": {
    "ExecuteTime": {
     "end_time": "2021-01-21T19:26:17.091021Z",
     "start_time": "2021-01-21T19:26:16.463631Z"
    }
   },
   "outputs": [],
   "source": [
    "n=256\n",
    "title = 'Ring_agreement_{0}.csv'.format(n)\n",
    "data= pd.read_csv(data_dir /title)"
   ]
  },
  {
   "cell_type": "markdown",
   "metadata": {},
   "source": [
    "### Magnetization obtained according to stability"
   ]
  },
  {
   "cell_type": "code",
   "execution_count": 6,
   "metadata": {
    "ExecuteTime": {
     "end_time": "2021-01-21T19:32:53.336376Z",
     "start_time": "2021-01-21T19:32:53.313956Z"
    }
   },
   "outputs": [],
   "source": [
    "data['runstab']=data.unstables/(256-data.unstables)"
   ]
  },
  {
   "cell_type": "code",
   "execution_count": 7,
   "metadata": {
    "ExecuteTime": {
     "end_time": "2021-01-21T19:33:53.472610Z",
     "start_time": "2021-01-21T19:33:53.453492Z"
    }
   },
   "outputs": [],
   "source": [
    "df = data[data.init_magnet.isin([0.0, 0.2, 0.6])]"
   ]
  },
  {
   "cell_type": "code",
   "execution_count": 12,
   "metadata": {
    "ExecuteTime": {
     "end_time": "2021-01-21T19:43:43.526681Z",
     "start_time": "2021-01-21T19:43:43.358684Z"
    },
    "scrolled": false
   },
   "outputs": [
    {
     "data": {
      "application/vnd.jupyter.widget-view+json": {
       "model_id": "e55d7d632aac4de1b4daf8d57f4a3fed",
       "version_major": 2,
       "version_minor": 0
      },
      "text/plain": [
       "Canvas(toolbar=Toolbar(toolitems=[('Home', 'Reset original view', 'home', 'home'), ('Back', 'Back to previous …"
      ]
     },
     "metadata": {},
     "output_type": "display_data"
    },
    {
     "data": {
      "text/plain": [
       "<matplotlib.legend.Legend at 0x7f2c195627c0>"
      ]
     },
     "execution_count": 12,
     "metadata": {},
     "output_type": "execute_result"
    }
   ],
   "source": [
    "fig, ax = plt.subplots()\n",
    "sns.lineplot(data=df, x='unstables', y='Consensus_mean', ci=None, hue='init_magnet')\n",
    "plt.legend(bbox_to_anchor=(0.85, 1.1), loc=2, borderaxespad=0.)"
   ]
  },
  {
   "cell_type": "code",
   "execution_count": 13,
   "metadata": {
    "ExecuteTime": {
     "end_time": "2021-01-21T19:43:46.137257Z",
     "start_time": "2021-01-21T19:43:46.071075Z"
    }
   },
   "outputs": [],
   "source": [
    "plt.savefig('data/ring_agreement.svg', format='svg', transparent=True)"
   ]
  },
  {
   "cell_type": "code",
   "execution_count": 10,
   "metadata": {
    "ExecuteTime": {
     "end_time": "2021-01-21T19:35:29.853666Z",
     "start_time": "2021-01-21T19:35:29.798447Z"
    }
   },
   "outputs": [],
   "source": [
    "plt.savefig('data/ring_agreement_runs.svg', format='svg', transparent=True)"
   ]
  },
  {
   "cell_type": "code",
   "execution_count": 9,
   "metadata": {
    "ExecuteTime": {
     "end_time": "2021-01-21T19:34:40.619622Z",
     "start_time": "2021-01-21T19:34:40.470646Z"
    }
   },
   "outputs": [
    {
     "data": {
      "application/vnd.jupyter.widget-view+json": {
       "model_id": "bf551d03bf9444378078ca061e6702fa",
       "version_major": 2,
       "version_minor": 0
      },
      "text/plain": [
       "Canvas(toolbar=Toolbar(toolitems=[('Home', 'Reset original view', 'home', 'home'), ('Back', 'Back to previous …"
      ]
     },
     "metadata": {},
     "output_type": "display_data"
    },
    {
     "data": {
      "text/plain": [
       "<matplotlib.legend.Legend at 0x7f2c18df5f10>"
      ]
     },
     "execution_count": 9,
     "metadata": {},
     "output_type": "execute_result"
    }
   ],
   "source": [
    "fig, ax = plt.subplots()\n",
    "sns.lineplot(data=df, x='runstab', y='Consensus_mean', ci=None, hue='init_magnet')\n",
    "plt.legend(bbox_to_anchor=(0.85, 1.1), loc=2, borderaxespad=0.)"
   ]
  },
  {
   "cell_type": "code",
   "execution_count": null,
   "metadata": {},
   "outputs": [],
   "source": []
  },
  {
   "cell_type": "code",
   "execution_count": null,
   "metadata": {},
   "outputs": [],
   "source": []
  },
  {
   "cell_type": "code",
   "execution_count": 5,
   "metadata": {
    "ExecuteTime": {
     "end_time": "2021-01-21T19:26:53.557536Z",
     "start_time": "2021-01-21T19:26:23.098232Z"
    },
    "scrolled": false
   },
   "outputs": [
    {
     "data": {
      "application/vnd.jupyter.widget-view+json": {
       "model_id": "d258e50cf01c4cf3a27f8d3d1e4ffd64",
       "version_major": 2,
       "version_minor": 0
      },
      "text/plain": [
       "Canvas(toolbar=Toolbar(toolitems=[('Home', 'Reset original view', 'home', 'home'), ('Back', 'Back to previous …"
      ]
     },
     "metadata": {},
     "output_type": "display_data"
    },
    {
     "name": "stdout",
     "output_type": "stream",
     "text": [
      "0.0 0.04753575870646766\n",
      "0.2 0.30577580845771146\n",
      "0.4 0.5724891169154229\n",
      "0.6 0.7966029228855721\n",
      "0.8 0.9430970149253731\n"
     ]
    },
    {
     "data": {
      "text/plain": [
       "<seaborn.axisgrid.FacetGrid at 0x7f2c24418850>"
      ]
     },
     "execution_count": 5,
     "metadata": {},
     "output_type": "execute_result"
    }
   ],
   "source": [
    "facet = sns.FacetGrid(data,  # the dataframe to pull from\n",
    "                          row=\"init_magnet\",  # define the column for each subplot row to be differentiated by\n",
    "                          hue=\"init_magnet\",  # define the column for each subplot color to be differentiated by\n",
    "                          aspect=6,  # aspect * height = width\n",
    "                          height=2,  # height of each subplot\n",
    "                          )\n",
    "by_magnet = data.groupby(\"init_magnet\")\n",
    "\n",
    "def init_magnet(x, color, label):\n",
    "    ax= plt.gca()\n",
    "    fix_magnet = by_magnet.get_group(float(label))\n",
    "    val = np.mean(fix_magnet.loc[fix_magnet[\"unstables\"] == 0][\"Consensus_mean\"].values)\n",
    "    print(label, val)\n",
    "    plt.axhline(y=val, ls=\"--\")\n",
    "    \n",
    "facet.map(init_magnet, \"init_magnet\")\n",
    "facet.map(sns.lineplot,'unstables',\"Consensus_mean\")\n",
    "#facet.map(sns.lineplot, 'unstables', \"Magnetization_min\", ls=\"--\")\n",
    "#facet.map(sns.lineplot, 'unstables', \"Magnetization_max\", ls= \"--\")\n",
    "\n",
    "def label(x, color, label):\n",
    "    ax = plt.gca()  # get the axes of the current object\n",
    "    ax.text(0, .2,  # location of text\n",
    "            label,  # text label\n",
    "            fontweight=\"bold\", color=color, size=18,  # text attributes\n",
    "            ha=\"left\", va=\"center\",  # alignment specifications\n",
    "            transform=ax.transAxes)  # specify axes of transformation\n",
    "        \n",
    "\n",
    "facet.map(label, \"Consensus_mean\")  # the function counts as a plotting object!\n",
    "facet.set_titles(\"\")  # set title to blank"
   ]
  },
  {
   "cell_type": "code",
   "execution_count": 39,
   "metadata": {
    "scrolled": false
   },
   "outputs": [
    {
     "data": {
      "application/vnd.jupyter.widget-view+json": {
       "model_id": "38eb18e20baf4a689fef4f9e74b73afb",
       "version_major": 2,
       "version_minor": 0
      },
      "text/plain": [
       "Canvas(toolbar=Toolbar(toolitems=[('Home', 'Reset original view', 'home', 'home'), ('Back', 'Back to previous …"
      ]
     },
     "metadata": {},
     "output_type": "display_data"
    }
   ],
   "source": [
    "per_magnet=data.groupby('init_magnet')\n",
    "fig, ax = plt.subplots(3, 2)\n",
    "pair = lambda x : (x%3, x//3)\n",
    "for i, df in enumerate(per_magnet):\n",
    "    df_key, df_dat = df\n",
    "    fix_magnet= per_magnet.get_group(df_key)\n",
    "    sns.lineplot(x='unstables', y= 'Consensus_mean', ax=ax[pair(i)[0], pair(i)[1]], data= df_dat)\n",
    "    val = np.mean(fix_magnet.loc[fix_magnet[\"unstables\"] == 0][\"Consensus_mean\"].values)\n",
    "    ax[pair(i)[0], pair(i)[1]].axhline(y=val, ls=\"--\")\n",
    "    "
   ]
  },
  {
   "cell_type": "code",
   "execution_count": 16,
   "metadata": {},
   "outputs": [
    {
     "data": {
      "application/vnd.jupyter.widget-view+json": {
       "model_id": "cc0e48b455424d2b8749950a11d18036",
       "version_major": 2,
       "version_minor": 0
      },
      "text/plain": [
       "Canvas(toolbar=Toolbar(toolitems=[('Home', 'Reset original view', 'home', 'home'), ('Back', 'Back to previous …"
      ]
     },
     "metadata": {},
     "output_type": "display_data"
    },
    {
     "name": "stdout",
     "output_type": "stream",
     "text": [
      "0.0 -63.24\n",
      "0.2 -65.86\n",
      "0.4 -74.2\n",
      "0.6 -84.96\n",
      "0.8 -95.86\n"
     ]
    },
    {
     "data": {
      "text/plain": [
       "<seaborn.axisgrid.FacetGrid at 0x7f46775cde80>"
      ]
     },
     "execution_count": 16,
     "metadata": {},
     "output_type": "execute_result"
    }
   ],
   "source": [
    "facet = sns.FacetGrid(data,  # the dataframe to pull from\n",
    "                          row=\"init_magnet\",  # define the column for each subplot row to be differentiated by\n",
    "                          hue=\"init_magnet\",  # define the column for each subplot color to be differentiated by\n",
    "                          aspect=6,  # aspect * height = width\n",
    "                          height=2,  # height of each subplot\n",
    "                          )\n",
    "def init_magnet(x, color, label):\n",
    "    ax= plt.gca()\n",
    "    fix_magnet = by_magnet.get_group(float(label))\n",
    "    val = np.mean(fix_magnet.loc[fix_magnet[\"unstables\"] == 0][\"SpinGlass\"].values)\n",
    "    print(label, val)\n",
    "    plt.axhline(y=val, ls=\"--\")\n",
    "    \n",
    "facet.map(init_magnet, \"init_magnet\")\n",
    "facet.map(sns.lineplot,'unstables',\"SpinGlass\")\n",
    "#facet.map(sns.lineplot, 'unstables', \"Magnetization_min\", ls=\"--\")\n",
    "#facet.map(sns.lineplot, 'unstables', \"Magnetization_max\", ls= \"--\")\n",
    "\n",
    "def label(x, color, label):\n",
    "    ax = plt.gca()  # get the axes of the current object\n",
    "    ax.text(0, .2,  # location of text\n",
    "            label,  # text label\n",
    "            fontweight=\"bold\", color=color, size=18,  # text attributes\n",
    "            ha=\"left\", va=\"center\",  # alignment specifications\n",
    "            transform=ax.transAxes)  # specify axes of transformation\n",
    "        \n",
    "\n",
    "facet.map(label, \"SpinGlass\")  # the function counts as a plotting object!\n",
    "facet.set_titles(\"\")  # set title to blank"
   ]
  },
  {
   "cell_type": "code",
   "execution_count": 34,
   "metadata": {},
   "outputs": [],
   "source": [
    "by_magnet = data.groupby(\"init_magnet\")"
   ]
  },
  {
   "cell_type": "code",
   "execution_count": 17,
   "metadata": {},
   "outputs": [
    {
     "data": {
      "application/vnd.jupyter.widget-view+json": {
       "model_id": "f55cbf9d6bce474bbf1f82c3ff98dbbb",
       "version_major": 2,
       "version_minor": 0
      },
      "text/plain": [
       "Canvas(toolbar=Toolbar(toolitems=[('Home', 'Reset original view', 'home', 'home'), ('Back', 'Back to previous …"
      ]
     },
     "metadata": {},
     "output_type": "display_data"
    },
    {
     "data": {
      "text/plain": [
       "<seaborn.axisgrid.FacetGrid at 0x7f466027e910>"
      ]
     },
     "execution_count": 17,
     "metadata": {},
     "output_type": "execute_result"
    }
   ],
   "source": [
    "facet = sns.FacetGrid(data,  # the dataframe to pull from\n",
    "                          row=\"init_magnet\",  # define the column for each subplot row to be differentiated by\n",
    "                          hue=\"init_magnet\",  # define the column for each subplot color to be differentiated by\n",
    "                          aspect=6,  # aspect * height = width\n",
    "                          height=2,  # height of each subplot\n",
    "                          )\n",
    "def init_magnet(x, color, label):\n",
    "    ax= plt.gca()\n",
    "    fix_magnet = by_magnet.get_group(float(label))\n",
    "    val = np.mean(fix_magnet.loc[fix_magnet[\"unstables\"] == 0][\"SpinGlass\"].values)\n",
    "    print(label, val)\n",
    "    plt.axhline(y=val, ls=\"--\")\n",
    "    \n",
    "#facet.map(init_magnet, \"init_magnet\")\n",
    "facet.map(sns.lineplot,'unstables',\"length\")\n",
    "#facet.map(sns.lineplot, 'unstables', \"Magnetization_min\", ls=\"--\")\n",
    "#facet.map(sns.lineplot, 'unstables', \"Magnetization_max\", ls= \"--\")\n",
    "\n",
    "def label(x, color, label):\n",
    "    ax = plt.gca()  # get the axes of the current object\n",
    "    ax.text(0, .2,  # location of text\n",
    "            label,  # text label\n",
    "            fontweight=\"bold\", color=color, size=18,  # text attributes\n",
    "            ha=\"left\", va=\"center\",  # alignment specifications\n",
    "            transform=ax.transAxes)  # specify axes of transformation\n",
    "        \n",
    "\n",
    "facet.map(label, \"length\")  # the function counts as a plotting object!\n",
    "facet.set_titles(\"\")  # set title to blank"
   ]
  },
  {
   "cell_type": "code",
   "execution_count": 16,
   "metadata": {},
   "outputs": [
    {
     "name": "stdout",
     "output_type": "stream",
     "text": [
      "0.0\n",
      "0.2\n",
      "0.4\n",
      "0.6\n",
      "0.8\n"
     ]
    },
    {
     "data": {
      "text/plain": [
       "<seaborn.axisgrid.FacetGrid at 0x7f1c620eadc0>"
      ]
     },
     "execution_count": 16,
     "metadata": {},
     "output_type": "execute_result"
    }
   ],
   "source": [
    "def init_magnet(x, color, label):\n",
    "    ax= plt.gca()\n",
    "    fix_magnet = by_magnet.get_group(float(label))\n",
    "    val = fix_magnet.loc[fix_magnet[\"unstables\"] == 0][\"Magnetization_mean\"].values[0]\n",
    "    plt.axhline(y=val, ls=\"--\")\n",
    "    \n",
    "facet.map(init_magnet, \"init_magnet\")\n",
    "#facet.map(sns.lineplot,'unstables',\"Magnetization_mean\")\n",
    "facet.map(sns.lineplot, 'unstables', \"Magnetization_min\", ls=\"--\")\n",
    "facet.map(sns.lineplot, 'unstables', \"Magnetization_max\", ls= \"--\")"
   ]
  }
 ],
 "metadata": {
  "kernelspec": {
   "display_name": "Python 3",
   "language": "python",
   "name": "python3"
  },
  "language_info": {
   "codemirror_mode": {
    "name": "ipython",
    "version": 3
   },
   "file_extension": ".py",
   "mimetype": "text/x-python",
   "name": "python",
   "nbconvert_exporter": "python",
   "pygments_lexer": "ipython3",
   "version": "3.8.6"
  },
  "varInspector": {
   "cols": {
    "lenName": 16,
    "lenType": 16,
    "lenVar": 40
   },
   "kernels_config": {
    "python": {
     "delete_cmd_postfix": "",
     "delete_cmd_prefix": "del ",
     "library": "var_list.py",
     "varRefreshCmd": "print(var_dic_list())"
    },
    "r": {
     "delete_cmd_postfix": ") ",
     "delete_cmd_prefix": "rm(",
     "library": "var_list.r",
     "varRefreshCmd": "cat(var_dic_list()) "
    }
   },
   "types_to_exclude": [
    "module",
    "function",
    "builtin_function_or_method",
    "instance",
    "_Feature"
   ],
   "window_display": false
  }
 },
 "nbformat": 4,
 "nbformat_minor": 4
}
